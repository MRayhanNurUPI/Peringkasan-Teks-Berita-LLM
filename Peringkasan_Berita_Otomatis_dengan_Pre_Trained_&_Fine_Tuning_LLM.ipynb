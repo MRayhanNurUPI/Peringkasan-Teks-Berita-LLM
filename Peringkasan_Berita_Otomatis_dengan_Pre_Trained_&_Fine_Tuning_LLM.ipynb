{
  "cells": [
    {
      "cell_type": "markdown",
      "metadata": {
        "id": "9xNJWKI2Myas"
      },
      "source": [
        "# Install Libraries"
      ]
    },
    {
      "cell_type": "code",
      "execution_count": 1,
      "metadata": {
        "colab": {
          "base_uri": "https://localhost:8080/"
        },
        "id": "lUMSuAXUEbtJ",
        "outputId": "cf5f9a77-6499-460b-e856-44083a705979"
      },
      "outputs": [
        {
          "output_type": "stream",
          "name": "stdout",
          "text": [
            "Collecting datasets\n",
            "  Downloading datasets-3.2.0-py3-none-any.whl.metadata (20 kB)\n",
            "Requirement already satisfied: transformers in /usr/local/lib/python3.10/dist-packages (4.47.0)\n",
            "Collecting rouge-score\n",
            "  Downloading rouge_score-0.1.2.tar.gz (17 kB)\n",
            "  Preparing metadata (setup.py) ... \u001b[?25l\u001b[?25hdone\n",
            "Requirement already satisfied: nltk in /usr/local/lib/python3.10/dist-packages (3.9.1)\n",
            "Requirement already satisfied: filelock in /usr/local/lib/python3.10/dist-packages (from datasets) (3.16.1)\n",
            "Requirement already satisfied: numpy>=1.17 in /usr/local/lib/python3.10/dist-packages (from datasets) (1.26.4)\n",
            "Requirement already satisfied: pyarrow>=15.0.0 in /usr/local/lib/python3.10/dist-packages (from datasets) (17.0.0)\n",
            "Collecting dill<0.3.9,>=0.3.0 (from datasets)\n",
            "  Downloading dill-0.3.8-py3-none-any.whl.metadata (10 kB)\n",
            "Requirement already satisfied: pandas in /usr/local/lib/python3.10/dist-packages (from datasets) (2.2.2)\n",
            "Requirement already satisfied: requests>=2.32.2 in /usr/local/lib/python3.10/dist-packages (from datasets) (2.32.3)\n",
            "Requirement already satisfied: tqdm>=4.66.3 in /usr/local/lib/python3.10/dist-packages (from datasets) (4.67.1)\n",
            "Collecting xxhash (from datasets)\n",
            "  Downloading xxhash-3.5.0-cp310-cp310-manylinux_2_17_x86_64.manylinux2014_x86_64.whl.metadata (12 kB)\n",
            "Collecting multiprocess<0.70.17 (from datasets)\n",
            "  Downloading multiprocess-0.70.16-py310-none-any.whl.metadata (7.2 kB)\n",
            "Collecting fsspec<=2024.9.0,>=2023.1.0 (from fsspec[http]<=2024.9.0,>=2023.1.0->datasets)\n",
            "  Downloading fsspec-2024.9.0-py3-none-any.whl.metadata (11 kB)\n",
            "Requirement already satisfied: aiohttp in /usr/local/lib/python3.10/dist-packages (from datasets) (3.11.10)\n",
            "Requirement already satisfied: huggingface-hub>=0.23.0 in /usr/local/lib/python3.10/dist-packages (from datasets) (0.27.0)\n",
            "Requirement already satisfied: packaging in /usr/local/lib/python3.10/dist-packages (from datasets) (24.2)\n",
            "Requirement already satisfied: pyyaml>=5.1 in /usr/local/lib/python3.10/dist-packages (from datasets) (6.0.2)\n",
            "Requirement already satisfied: regex!=2019.12.17 in /usr/local/lib/python3.10/dist-packages (from transformers) (2024.11.6)\n",
            "Requirement already satisfied: tokenizers<0.22,>=0.21 in /usr/local/lib/python3.10/dist-packages (from transformers) (0.21.0)\n",
            "Requirement already satisfied: safetensors>=0.4.1 in /usr/local/lib/python3.10/dist-packages (from transformers) (0.4.5)\n",
            "Requirement already satisfied: absl-py in /usr/local/lib/python3.10/dist-packages (from rouge-score) (1.4.0)\n",
            "Requirement already satisfied: six>=1.14.0 in /usr/local/lib/python3.10/dist-packages (from rouge-score) (1.17.0)\n",
            "Requirement already satisfied: click in /usr/local/lib/python3.10/dist-packages (from nltk) (8.1.7)\n",
            "Requirement already satisfied: joblib in /usr/local/lib/python3.10/dist-packages (from nltk) (1.4.2)\n",
            "Requirement already satisfied: aiohappyeyeballs>=2.3.0 in /usr/local/lib/python3.10/dist-packages (from aiohttp->datasets) (2.4.4)\n",
            "Requirement already satisfied: aiosignal>=1.1.2 in /usr/local/lib/python3.10/dist-packages (from aiohttp->datasets) (1.3.2)\n",
            "Requirement already satisfied: async-timeout<6.0,>=4.0 in /usr/local/lib/python3.10/dist-packages (from aiohttp->datasets) (4.0.3)\n",
            "Requirement already satisfied: attrs>=17.3.0 in /usr/local/lib/python3.10/dist-packages (from aiohttp->datasets) (24.3.0)\n",
            "Requirement already satisfied: frozenlist>=1.1.1 in /usr/local/lib/python3.10/dist-packages (from aiohttp->datasets) (1.5.0)\n",
            "Requirement already satisfied: multidict<7.0,>=4.5 in /usr/local/lib/python3.10/dist-packages (from aiohttp->datasets) (6.1.0)\n",
            "Requirement already satisfied: propcache>=0.2.0 in /usr/local/lib/python3.10/dist-packages (from aiohttp->datasets) (0.2.1)\n",
            "Requirement already satisfied: yarl<2.0,>=1.17.0 in /usr/local/lib/python3.10/dist-packages (from aiohttp->datasets) (1.18.3)\n",
            "Requirement already satisfied: typing-extensions>=3.7.4.3 in /usr/local/lib/python3.10/dist-packages (from huggingface-hub>=0.23.0->datasets) (4.12.2)\n",
            "Requirement already satisfied: charset-normalizer<4,>=2 in /usr/local/lib/python3.10/dist-packages (from requests>=2.32.2->datasets) (3.4.0)\n",
            "Requirement already satisfied: idna<4,>=2.5 in /usr/local/lib/python3.10/dist-packages (from requests>=2.32.2->datasets) (3.10)\n",
            "Requirement already satisfied: urllib3<3,>=1.21.1 in /usr/local/lib/python3.10/dist-packages (from requests>=2.32.2->datasets) (2.2.3)\n",
            "Requirement already satisfied: certifi>=2017.4.17 in /usr/local/lib/python3.10/dist-packages (from requests>=2.32.2->datasets) (2024.12.14)\n",
            "Requirement already satisfied: python-dateutil>=2.8.2 in /usr/local/lib/python3.10/dist-packages (from pandas->datasets) (2.8.2)\n",
            "Requirement already satisfied: pytz>=2020.1 in /usr/local/lib/python3.10/dist-packages (from pandas->datasets) (2024.2)\n",
            "Requirement already satisfied: tzdata>=2022.7 in /usr/local/lib/python3.10/dist-packages (from pandas->datasets) (2024.2)\n",
            "Downloading datasets-3.2.0-py3-none-any.whl (480 kB)\n",
            "\u001b[2K   \u001b[90m━━━━━━━━━━━━━━━━━━━━━━━━━━━━━━━━━━━━━━━━\u001b[0m \u001b[32m480.6/480.6 kB\u001b[0m \u001b[31m14.4 MB/s\u001b[0m eta \u001b[36m0:00:00\u001b[0m\n",
            "\u001b[?25hDownloading dill-0.3.8-py3-none-any.whl (116 kB)\n",
            "\u001b[2K   \u001b[90m━━━━━━━━━━━━━━━━━━━━━━━━━━━━━━━━━━━━━━━━\u001b[0m \u001b[32m116.3/116.3 kB\u001b[0m \u001b[31m8.3 MB/s\u001b[0m eta \u001b[36m0:00:00\u001b[0m\n",
            "\u001b[?25hDownloading fsspec-2024.9.0-py3-none-any.whl (179 kB)\n",
            "\u001b[2K   \u001b[90m━━━━━━━━━━━━━━━━━━━━━━━━━━━━━━━━━━━━━━━━\u001b[0m \u001b[32m179.3/179.3 kB\u001b[0m \u001b[31m11.6 MB/s\u001b[0m eta \u001b[36m0:00:00\u001b[0m\n",
            "\u001b[?25hDownloading multiprocess-0.70.16-py310-none-any.whl (134 kB)\n",
            "\u001b[2K   \u001b[90m━━━━━━━━━━━━━━━━━━━━━━━━━━━━━━━━━━━━━━━━\u001b[0m \u001b[32m134.8/134.8 kB\u001b[0m \u001b[31m10.5 MB/s\u001b[0m eta \u001b[36m0:00:00\u001b[0m\n",
            "\u001b[?25hDownloading xxhash-3.5.0-cp310-cp310-manylinux_2_17_x86_64.manylinux2014_x86_64.whl (194 kB)\n",
            "\u001b[2K   \u001b[90m━━━━━━━━━━━━━━━━━━━━━━━━━━━━━━━━━━━━━━━━\u001b[0m \u001b[32m194.1/194.1 kB\u001b[0m \u001b[31m13.2 MB/s\u001b[0m eta \u001b[36m0:00:00\u001b[0m\n",
            "\u001b[?25hBuilding wheels for collected packages: rouge-score\n",
            "  Building wheel for rouge-score (setup.py) ... \u001b[?25l\u001b[?25hdone\n",
            "  Created wheel for rouge-score: filename=rouge_score-0.1.2-py3-none-any.whl size=24935 sha256=4d6fa7acb25000a32cd223ffe2da33772b0ac3f7fdab289768fac57d08b2193c\n",
            "  Stored in directory: /root/.cache/pip/wheels/5f/dd/89/461065a73be61a532ff8599a28e9beef17985c9e9c31e541b4\n",
            "Successfully built rouge-score\n",
            "Installing collected packages: xxhash, fsspec, dill, rouge-score, multiprocess, datasets\n",
            "  Attempting uninstall: fsspec\n",
            "    Found existing installation: fsspec 2024.10.0\n",
            "    Uninstalling fsspec-2024.10.0:\n",
            "      Successfully uninstalled fsspec-2024.10.0\n",
            "\u001b[31mERROR: pip's dependency resolver does not currently take into account all the packages that are installed. This behaviour is the source of the following dependency conflicts.\n",
            "gcsfs 2024.10.0 requires fsspec==2024.10.0, but you have fsspec 2024.9.0 which is incompatible.\u001b[0m\u001b[31m\n",
            "\u001b[0mSuccessfully installed datasets-3.2.0 dill-0.3.8 fsspec-2024.9.0 multiprocess-0.70.16 rouge-score-0.1.2 xxhash-3.5.0\n"
          ]
        }
      ],
      "source": [
        "!pip install datasets transformers rouge-score nltk"
      ]
    },
    {
      "cell_type": "markdown",
      "metadata": {
        "id": "jKOL6LOR8_h0"
      },
      "source": [
        "# Import Dataset (Local)"
      ]
    },
    {
      "cell_type": "code",
      "execution_count": 2,
      "metadata": {
        "colab": {
          "base_uri": "https://localhost:8080/",
          "height": 293
        },
        "id": "6pR4QzzN8963",
        "outputId": "7622a064-0353-4031-bd0c-8fa6efbcb6e5"
      },
      "outputs": [
        {
          "output_type": "execute_result",
          "data": {
            "text/plain": [
              "                                                  id  \\\n",
              "0  1501893029-lula-kamal-dokter-ryan-thamrin-saki...   \n",
              "1  1509072914-dua-smartphone-zenfone-baru-tawarka...   \n",
              "2  1510613677-songsong-visit-2020-bengkulu-perkua...   \n",
              "3  1502706803-icw-ada-kejanggalan-atas-tewasnya-s...   \n",
              "4  1503039338-pembagian-sepeda-usai-upacara-penur...   \n",
              "\n",
              "                                                text  \\\n",
              "0  Jakarta Dokter Ryan Thamrin yang terkenal lewa...   \n",
              "1  Selfie ialah salah satu tema terpanas di kalan...   \n",
              "2  Jakarta Dinas Pariwisata Provinsi Bengkulu kem...   \n",
              "3  Indonesia Corruption Watch ICW meminta Komisi ...   \n",
              "4  Presiden Joko Widodo Jokowi memimpin upacara p...   \n",
              "\n",
              "                                             summary     category  \\\n",
              "0  Dokter Lula Kamal yang merupakan selebriti sek...  tajuk utama   \n",
              "1  Asus memperkenalkan ZenFone generasi keempat d...    teknologi   \n",
              "2  Dinas Pariwisata Provinsi Bengkulu kembali men...      hiburan   \n",
              "3  Indonesia Corruption Watch ICW meminta Komisi ...  tajuk utama   \n",
              "4  Jokowi memimpin upacara penurunan bendera Usai...  tajuk utama   \n",
              "\n",
              "           source                                                url  \n",
              "0   cnn indonesia  https://www.cnnindonesia.com/hiburan/201708041...  \n",
              "1  dailysocial.id  https://dailysocial.id/post/dua-smartphone-zen...  \n",
              "2   cnn indonesia  https://www.cnnindonesia.com/gaya-hidup/201711...  \n",
              "3         merdeka  https://www.merdeka.com/peristiwa/icw-merasa-a...  \n",
              "4         merdeka  https://www.merdeka.com/peristiwa/usai-upacara...  "
            ],
            "text/html": [
              "\n",
              "  <div id=\"df-6652b029-4e48-4c69-8d80-a0e6f5ba456a\" class=\"colab-df-container\">\n",
              "    <div>\n",
              "<style scoped>\n",
              "    .dataframe tbody tr th:only-of-type {\n",
              "        vertical-align: middle;\n",
              "    }\n",
              "\n",
              "    .dataframe tbody tr th {\n",
              "        vertical-align: top;\n",
              "    }\n",
              "\n",
              "    .dataframe thead th {\n",
              "        text-align: right;\n",
              "    }\n",
              "</style>\n",
              "<table border=\"1\" class=\"dataframe\">\n",
              "  <thead>\n",
              "    <tr style=\"text-align: right;\">\n",
              "      <th></th>\n",
              "      <th>id</th>\n",
              "      <th>text</th>\n",
              "      <th>summary</th>\n",
              "      <th>category</th>\n",
              "      <th>source</th>\n",
              "      <th>url</th>\n",
              "    </tr>\n",
              "  </thead>\n",
              "  <tbody>\n",
              "    <tr>\n",
              "      <th>0</th>\n",
              "      <td>1501893029-lula-kamal-dokter-ryan-thamrin-saki...</td>\n",
              "      <td>Jakarta Dokter Ryan Thamrin yang terkenal lewa...</td>\n",
              "      <td>Dokter Lula Kamal yang merupakan selebriti sek...</td>\n",
              "      <td>tajuk utama</td>\n",
              "      <td>cnn indonesia</td>\n",
              "      <td>https://www.cnnindonesia.com/hiburan/201708041...</td>\n",
              "    </tr>\n",
              "    <tr>\n",
              "      <th>1</th>\n",
              "      <td>1509072914-dua-smartphone-zenfone-baru-tawarka...</td>\n",
              "      <td>Selfie ialah salah satu tema terpanas di kalan...</td>\n",
              "      <td>Asus memperkenalkan ZenFone generasi keempat d...</td>\n",
              "      <td>teknologi</td>\n",
              "      <td>dailysocial.id</td>\n",
              "      <td>https://dailysocial.id/post/dua-smartphone-zen...</td>\n",
              "    </tr>\n",
              "    <tr>\n",
              "      <th>2</th>\n",
              "      <td>1510613677-songsong-visit-2020-bengkulu-perkua...</td>\n",
              "      <td>Jakarta Dinas Pariwisata Provinsi Bengkulu kem...</td>\n",
              "      <td>Dinas Pariwisata Provinsi Bengkulu kembali men...</td>\n",
              "      <td>hiburan</td>\n",
              "      <td>cnn indonesia</td>\n",
              "      <td>https://www.cnnindonesia.com/gaya-hidup/201711...</td>\n",
              "    </tr>\n",
              "    <tr>\n",
              "      <th>3</th>\n",
              "      <td>1502706803-icw-ada-kejanggalan-atas-tewasnya-s...</td>\n",
              "      <td>Indonesia Corruption Watch ICW meminta Komisi ...</td>\n",
              "      <td>Indonesia Corruption Watch ICW meminta Komisi ...</td>\n",
              "      <td>tajuk utama</td>\n",
              "      <td>merdeka</td>\n",
              "      <td>https://www.merdeka.com/peristiwa/icw-merasa-a...</td>\n",
              "    </tr>\n",
              "    <tr>\n",
              "      <th>4</th>\n",
              "      <td>1503039338-pembagian-sepeda-usai-upacara-penur...</td>\n",
              "      <td>Presiden Joko Widodo Jokowi memimpin upacara p...</td>\n",
              "      <td>Jokowi memimpin upacara penurunan bendera Usai...</td>\n",
              "      <td>tajuk utama</td>\n",
              "      <td>merdeka</td>\n",
              "      <td>https://www.merdeka.com/peristiwa/usai-upacara...</td>\n",
              "    </tr>\n",
              "  </tbody>\n",
              "</table>\n",
              "</div>\n",
              "    <div class=\"colab-df-buttons\">\n",
              "\n",
              "  <div class=\"colab-df-container\">\n",
              "    <button class=\"colab-df-convert\" onclick=\"convertToInteractive('df-6652b029-4e48-4c69-8d80-a0e6f5ba456a')\"\n",
              "            title=\"Convert this dataframe to an interactive table.\"\n",
              "            style=\"display:none;\">\n",
              "\n",
              "  <svg xmlns=\"http://www.w3.org/2000/svg\" height=\"24px\" viewBox=\"0 -960 960 960\">\n",
              "    <path d=\"M120-120v-720h720v720H120Zm60-500h600v-160H180v160Zm220 220h160v-160H400v160Zm0 220h160v-160H400v160ZM180-400h160v-160H180v160Zm440 0h160v-160H620v160ZM180-180h160v-160H180v160Zm440 0h160v-160H620v160Z\"/>\n",
              "  </svg>\n",
              "    </button>\n",
              "\n",
              "  <style>\n",
              "    .colab-df-container {\n",
              "      display:flex;\n",
              "      gap: 12px;\n",
              "    }\n",
              "\n",
              "    .colab-df-convert {\n",
              "      background-color: #E8F0FE;\n",
              "      border: none;\n",
              "      border-radius: 50%;\n",
              "      cursor: pointer;\n",
              "      display: none;\n",
              "      fill: #1967D2;\n",
              "      height: 32px;\n",
              "      padding: 0 0 0 0;\n",
              "      width: 32px;\n",
              "    }\n",
              "\n",
              "    .colab-df-convert:hover {\n",
              "      background-color: #E2EBFA;\n",
              "      box-shadow: 0px 1px 2px rgba(60, 64, 67, 0.3), 0px 1px 3px 1px rgba(60, 64, 67, 0.15);\n",
              "      fill: #174EA6;\n",
              "    }\n",
              "\n",
              "    .colab-df-buttons div {\n",
              "      margin-bottom: 4px;\n",
              "    }\n",
              "\n",
              "    [theme=dark] .colab-df-convert {\n",
              "      background-color: #3B4455;\n",
              "      fill: #D2E3FC;\n",
              "    }\n",
              "\n",
              "    [theme=dark] .colab-df-convert:hover {\n",
              "      background-color: #434B5C;\n",
              "      box-shadow: 0px 1px 3px 1px rgba(0, 0, 0, 0.15);\n",
              "      filter: drop-shadow(0px 1px 2px rgba(0, 0, 0, 0.3));\n",
              "      fill: #FFFFFF;\n",
              "    }\n",
              "  </style>\n",
              "\n",
              "    <script>\n",
              "      const buttonEl =\n",
              "        document.querySelector('#df-6652b029-4e48-4c69-8d80-a0e6f5ba456a button.colab-df-convert');\n",
              "      buttonEl.style.display =\n",
              "        google.colab.kernel.accessAllowed ? 'block' : 'none';\n",
              "\n",
              "      async function convertToInteractive(key) {\n",
              "        const element = document.querySelector('#df-6652b029-4e48-4c69-8d80-a0e6f5ba456a');\n",
              "        const dataTable =\n",
              "          await google.colab.kernel.invokeFunction('convertToInteractive',\n",
              "                                                    [key], {});\n",
              "        if (!dataTable) return;\n",
              "\n",
              "        const docLinkHtml = 'Like what you see? Visit the ' +\n",
              "          '<a target=\"_blank\" href=https://colab.research.google.com/notebooks/data_table.ipynb>data table notebook</a>'\n",
              "          + ' to learn more about interactive tables.';\n",
              "        element.innerHTML = '';\n",
              "        dataTable['output_type'] = 'display_data';\n",
              "        await google.colab.output.renderOutput(dataTable, element);\n",
              "        const docLink = document.createElement('div');\n",
              "        docLink.innerHTML = docLinkHtml;\n",
              "        element.appendChild(docLink);\n",
              "      }\n",
              "    </script>\n",
              "  </div>\n",
              "\n",
              "\n",
              "<div id=\"df-86d4aad5-02d9-4704-af86-6586c029ad71\">\n",
              "  <button class=\"colab-df-quickchart\" onclick=\"quickchart('df-86d4aad5-02d9-4704-af86-6586c029ad71')\"\n",
              "            title=\"Suggest charts\"\n",
              "            style=\"display:none;\">\n",
              "\n",
              "<svg xmlns=\"http://www.w3.org/2000/svg\" height=\"24px\"viewBox=\"0 0 24 24\"\n",
              "     width=\"24px\">\n",
              "    <g>\n",
              "        <path d=\"M19 3H5c-1.1 0-2 .9-2 2v14c0 1.1.9 2 2 2h14c1.1 0 2-.9 2-2V5c0-1.1-.9-2-2-2zM9 17H7v-7h2v7zm4 0h-2V7h2v10zm4 0h-2v-4h2v4z\"/>\n",
              "    </g>\n",
              "</svg>\n",
              "  </button>\n",
              "\n",
              "<style>\n",
              "  .colab-df-quickchart {\n",
              "      --bg-color: #E8F0FE;\n",
              "      --fill-color: #1967D2;\n",
              "      --hover-bg-color: #E2EBFA;\n",
              "      --hover-fill-color: #174EA6;\n",
              "      --disabled-fill-color: #AAA;\n",
              "      --disabled-bg-color: #DDD;\n",
              "  }\n",
              "\n",
              "  [theme=dark] .colab-df-quickchart {\n",
              "      --bg-color: #3B4455;\n",
              "      --fill-color: #D2E3FC;\n",
              "      --hover-bg-color: #434B5C;\n",
              "      --hover-fill-color: #FFFFFF;\n",
              "      --disabled-bg-color: #3B4455;\n",
              "      --disabled-fill-color: #666;\n",
              "  }\n",
              "\n",
              "  .colab-df-quickchart {\n",
              "    background-color: var(--bg-color);\n",
              "    border: none;\n",
              "    border-radius: 50%;\n",
              "    cursor: pointer;\n",
              "    display: none;\n",
              "    fill: var(--fill-color);\n",
              "    height: 32px;\n",
              "    padding: 0;\n",
              "    width: 32px;\n",
              "  }\n",
              "\n",
              "  .colab-df-quickchart:hover {\n",
              "    background-color: var(--hover-bg-color);\n",
              "    box-shadow: 0 1px 2px rgba(60, 64, 67, 0.3), 0 1px 3px 1px rgba(60, 64, 67, 0.15);\n",
              "    fill: var(--button-hover-fill-color);\n",
              "  }\n",
              "\n",
              "  .colab-df-quickchart-complete:disabled,\n",
              "  .colab-df-quickchart-complete:disabled:hover {\n",
              "    background-color: var(--disabled-bg-color);\n",
              "    fill: var(--disabled-fill-color);\n",
              "    box-shadow: none;\n",
              "  }\n",
              "\n",
              "  .colab-df-spinner {\n",
              "    border: 2px solid var(--fill-color);\n",
              "    border-color: transparent;\n",
              "    border-bottom-color: var(--fill-color);\n",
              "    animation:\n",
              "      spin 1s steps(1) infinite;\n",
              "  }\n",
              "\n",
              "  @keyframes spin {\n",
              "    0% {\n",
              "      border-color: transparent;\n",
              "      border-bottom-color: var(--fill-color);\n",
              "      border-left-color: var(--fill-color);\n",
              "    }\n",
              "    20% {\n",
              "      border-color: transparent;\n",
              "      border-left-color: var(--fill-color);\n",
              "      border-top-color: var(--fill-color);\n",
              "    }\n",
              "    30% {\n",
              "      border-color: transparent;\n",
              "      border-left-color: var(--fill-color);\n",
              "      border-top-color: var(--fill-color);\n",
              "      border-right-color: var(--fill-color);\n",
              "    }\n",
              "    40% {\n",
              "      border-color: transparent;\n",
              "      border-right-color: var(--fill-color);\n",
              "      border-top-color: var(--fill-color);\n",
              "    }\n",
              "    60% {\n",
              "      border-color: transparent;\n",
              "      border-right-color: var(--fill-color);\n",
              "    }\n",
              "    80% {\n",
              "      border-color: transparent;\n",
              "      border-right-color: var(--fill-color);\n",
              "      border-bottom-color: var(--fill-color);\n",
              "    }\n",
              "    90% {\n",
              "      border-color: transparent;\n",
              "      border-bottom-color: var(--fill-color);\n",
              "    }\n",
              "  }\n",
              "</style>\n",
              "\n",
              "  <script>\n",
              "    async function quickchart(key) {\n",
              "      const quickchartButtonEl =\n",
              "        document.querySelector('#' + key + ' button');\n",
              "      quickchartButtonEl.disabled = true;  // To prevent multiple clicks.\n",
              "      quickchartButtonEl.classList.add('colab-df-spinner');\n",
              "      try {\n",
              "        const charts = await google.colab.kernel.invokeFunction(\n",
              "            'suggestCharts', [key], {});\n",
              "      } catch (error) {\n",
              "        console.error('Error during call to suggestCharts:', error);\n",
              "      }\n",
              "      quickchartButtonEl.classList.remove('colab-df-spinner');\n",
              "      quickchartButtonEl.classList.add('colab-df-quickchart-complete');\n",
              "    }\n",
              "    (() => {\n",
              "      let quickchartButtonEl =\n",
              "        document.querySelector('#df-86d4aad5-02d9-4704-af86-6586c029ad71 button');\n",
              "      quickchartButtonEl.style.display =\n",
              "        google.colab.kernel.accessAllowed ? 'block' : 'none';\n",
              "    })();\n",
              "  </script>\n",
              "</div>\n",
              "\n",
              "    </div>\n",
              "  </div>\n"
            ],
            "application/vnd.google.colaboratory.intrinsic+json": {
              "type": "dataframe",
              "variable_name": "df",
              "summary": "{\n  \"name\": \"df\",\n  \"rows\": 18773,\n  \"fields\": [\n    {\n      \"column\": \"id\",\n      \"properties\": {\n        \"dtype\": \"string\",\n        \"num_unique_values\": 18773,\n        \"samples\": [\n          \"1499880600-fachri-husaini-timnas-u-16-kalah-terhormat\",\n          \"1511486634-kemendagri-akan-coret-anggaran-tak-masuk-akal-pemp\",\n          \"1480235432-antasari-azhar-sebut-tak-punya-masalah-dengan-sby\"\n        ],\n        \"semantic_type\": \"\",\n        \"description\": \"\"\n      }\n    },\n    {\n      \"column\": \"text\",\n      \"properties\": {\n        \"dtype\": \"string\",\n        \"num_unique_values\": 18772,\n        \"samples\": [\n          \"Timnas Indonesia U 16 ditumbangkan oleh Thailand di Piala AFF U 15 Meski demikian pelatih Timnas U 16 Fachri Husaini menyebut timnya kalah dengan terhormat Setelah bermain imbang 2 2 melawan Myanmar pada hari Minggu 9 7 2017 lalu Timnas U 16 kemudian berhadapan dengan Thailand pada laga kedua grup A Selasa 11 7 2017 David Maulana dan kawan kawan takluk dengan skor tipis 1 0 Satu satunya gol di pertandingan tersebut dicetak oleh Suphanat Muenta pada menit ke 73 Namun meski kalah Fachri menyatakan dirinya dan anak anak asuhnya tidak berkecil hati Bahkan Fachri menyatakan tetap optimis menatap laga laga sisa Dia yakin timnya akan bisa menyapu bersih semua pertandingan tersebut dan menyabet peluang lolos ke babak selanjutnya Kami kalah dengan cara yang terhormat Kami masih tetap optimis ada tiga pertandingan lagi Sembilan poin akan kita rebut nanti ujar Fachri usai pertandingan Eks playmaker Timnas Indonesia era tahun 1980 an ini kemudian menuturkan mengapa pasukannya gagal memetik kemenangan di laga tersebut Fachri mengatakan anak anak asuhnya tidak bisa memberikan pressing secara konstan pada sang lawan Ini sepakbola Ketika kita memberikan ruang pada mereka mereka bisa memanfaatkannya tandasnya fit asa\",\n          \"Jakarta Direktur Jenderal Otonomi Daerah Kementerian Dalam Negeri Kemendagri Sumarsono menyatakan Menteri Dalam Negeri Tjahjo Kumolo akan mencoret anggaran Pemprov DKI Jakarta yang tidak masuk akal di dalam Rancangan Anggaran Pendapatan Belanja Daerah RAPBD DKI 2018 Kalau sudah dievaluasi oleh Mendagri kemungkinan bisa dicoret kalau tidak masuk akal ujar Sumarsono di Gedung DPR Jakarta Kamis 23 11 Sumarsono menuturkan hingga saat ini Kemendagri masih menunggu proses pembahasan APBD DKI Jakarta di tingkat DPRD Jika proses tersebut selesai Kemendagri akan melakukan evalusi terhadap sejumlah mata anggaran yang ada di dalam APBD Ia berkata evaluasi bukan kali pertama dilakukan Kemendagri terhadap APBD DKI Sebelum Anies Baswedan Sandiaga Uno menjabat Kemendagri kerap menolak sejumlah mata anggaran yang dianggap tidak sesuai Lebih lanjut mantan Plt Gubernur DKI ini menjelaskan polemik anggaran APBD DKI tidak akan terjadi jika proses perumusan mengacu pada Rancangan Pemerintah Jangka Menengah Daerah dan Rancangan Pembangunan Tahunan Daerah Selain itu polemik tidak akan terjadi jika Anies Sandi mengikuti mekanisme penganggaran bottom up di mana penyusunan dibahas dari tingkat pemerintahan terendah hingga provinsi Jadi kalau berpegang dengan hal ini saja Saya kira apapun alasannya dan apapun besarnya anggaran masih bisa didukung oleh publik ujarnya Perlu RasionalisasiSumarsono mengimbau pasangan Gubernur DKI Jakarta Anies Sandi perlu merasionalisasi seluruh mata anggaran yang ada di dalam APBD DKI Tahun 2018 Salah satu anggaran yang perlu ditinjau ulang yakni anggaran untuk Tim Gubernur untuk Percepatan Pembangunan TGUPP Menurutnya anggaran TGUPP yang mencapai Rp 28 miliar terbilang meningkat signifikasi di banding tahun sebelumnya TGUPP ini menjadi satu hal yang luar biasa Saya kira perlu dirasionalisasikan ujar Sumarsono Selain TGUPP Sumarsono meminta Anies Sandi mengevaluasi alokasi anggaran untuk revitalisasi kolam di Balai Kota DKI pengharum ruangan hingga pembasmi hama Ketiga hal itu kata dia juga terlihat tidak masuk akal Dia berharap DPRD DKI dan publik juga turut melakukan pengawasan terhadap APBD DKI yang nilainya cukup fantastis yakni Rp 72 miliar ugo gil\",\n          \"Jakarta Mantan Ketua Komisi Pemberantasan Korupsi KPK Antasari Azhar mengaku tak punya masalah dengan Presiden keenam Republik Indonesia Susilo Bambang Yudhoyono SBY Hal itu diungkapkannya saat menjawab pertanyaan terkait alasan SBY tak diundang dalam acara syukuran atas pembebasan bersyaratnya di salah satu hotel berbintang Tangerang Selatan Banten Sabtu 26 11 Kenapa itu ditanyakan Saya enggak ada masalah dengan beliau ucap Antasari sebelum acara syukuran dimulai Ia pun meminta awak media tidak mempertanyakan perihal tokoh tokoh yang ia undang dalam acara syukuran itu Antasari mengaku hanya ingin tenang sambil menikmati masa masa awal kebebasannya Ini adalah syukuran dan doa selamat saya setelah selesai menjalani keputusan pengadilan Setelah hari ini ke depan selamat tidak ada gangguan apa pun katanya Ia pun menegaskan acara syukuran ini bukan diselenggarakan untuk menghadirkan polemik baru Antasari mengaku tak ingin menciptakan suasana gaduh Saya ingin suasana sejuk dan damai tuturnya Dalam acara syukuran itu Antasari mengundang beberapa tokoh seperti Wakil Presiden Jusuf Kalla Menteri Hukum dan HAM Yasonna Laoly mantan Jaksa Agung Basrief Arief dan mantan Wakil Jaksa Agung Darmono Antasari juga mengundang Presiden Jokowi walaupun ia tak bisa datang Siap Bongkar KasusSetelah acara syukuran itu selesai Antasari mengatakan akan membongkar kasus yang menjeratnya pada 2009 lalu Ia pun mengaku tidak takut untuk melakukan hal tersebut Loh saya takut sama siapa Saya sudah jalani loh tujuh tahun enam bulan Apa yang saya takutkan Cuma nanti lah ada waktunya ujarnya Namun ia menegaskan langkah itu tak akan ditempuh tanpa strategi Menurutnya butuh waktu untuk membongkar semuanya termasuk bantuan dari lembaga formal seperti aparat penegak hukum untuk mulai menguak tabir gelap kasusnya Salah satunya menagih laporan yang pernah ia layangkan ke Polda Metro Jaya enam tahun silam Kala itu Antasari melaporkan penyalahgunaan nomor ponselnya terkait ancaman pembunuhan terhadap almarhum Nasrudin Zulkarnaen Kalau saya punya kewenangan hari ini itu bisa saya bongkar Tapi saya tidak punya kewenangan Makanya saat ini kan ada upaya lagi Pelan pelanlah Ibaratnya seperti mencari jarum di dalam jerami kata Antasari Ia pun menegaskan ingin rehat sejenak untuk saat ini sekaligus melaksanakan nazar nazar yang pernah ia patrikan sebelumnya seperti berziarah ke makam orang tua dan leluhurnya Langkah pengungkapan kebenaran baru akan dimulainya pada awal 2017 Setelah Januari saya umroh baru saya akan bicara Kalau sekarang ini terlalu dini bicara tutur Antasari Antasari merupakan mantan Ketua KPK jilid dua di era Presiden Susilo Bambang Yudhoyono Pria kelahiran Pangkal Pinang itu menjabat sejak tahun 2007 hingga 2009 Di bawah kepemimpinannya KPK menangkap Jaksa Urip Tri Gunawan dan Artalyta Suryani dalam kaitan penyuapan kasus Bantuan Likuiditas Bank Indonesia Karir Antasari terhenti lantaran terlibat kasus pembunuhan berencana Pada 11 Februari 2010 Antasari divonis hukuman penjara 18 tahun karena terbukti bersalah menjadi otak pembunuhan Nasrudin rel rel\"\n        ],\n        \"semantic_type\": \"\",\n        \"description\": \"\"\n      }\n    },\n    {\n      \"column\": \"summary\",\n      \"properties\": {\n        \"dtype\": \"string\",\n        \"num_unique_values\": 18767,\n        \"samples\": [\n          \"Norwegia jadi negara pertama di dunia yang menghapuskan frekuensi radio FM dan beralih sepenuhnya ke radio digital Transisi ini tetap dilakukan pemerintah Norwegia kendati mendapat penentangan dari masyarakat Peralihan frekuensi radio di Norwegia dari FM ke siaran audio digital DAB rampung pekan ini Menurut media setempat transisi ini juga menyebabkan jumlah pendengar radio di Norwegia turun 10 persen dalam setahun\",\n          \"Ario Kiswinar memenuhi panggilan penyidik Polda Metro Jaya untuk dimintai keterangan terkait laporannya kepada Mario Teguh Jum at 14 10 2016 Ario datang pada siang hari dengan didampingi oleh pengacaranya Ferry H Amahorseya Sebelumnya Ario Kiswinar melaporkan Mario Teguh ke Polda Metro Jaya dengan tuduhan pencemaran nama baik dan fitnah Mario Teguh dalam sebuah stasiun televisi menyatakan bahwa Ario Kiswinar bukan anak kandungnya\",\n          \"Polaroid memperkenalkan smartphone dan tablet terbaru dari lini Cosmo yang ditujukan untuk pasar Meksiko Lini terbaru Cosmo ini terdiri dari dua smartphone Cosmo K dan Cosmo K Plus serta satu tablet Jet C7 Mengingat ketiganya diposisikan di segmen low end spesifikasinya tidak akan ada yang membuat Anda terkesima Sejauh ini tidak ada informasi apakah Polaroid juga berniat membawanya ke pasar Asia\"\n        ],\n        \"semantic_type\": \"\",\n        \"description\": \"\"\n      }\n    },\n    {\n      \"column\": \"category\",\n      \"properties\": {\n        \"dtype\": \"category\",\n        \"num_unique_values\": 6,\n        \"samples\": [\n          \"tajuk utama\",\n          \"teknologi\",\n          \"inspirasi\"\n        ],\n        \"semantic_type\": \"\",\n        \"description\": \"\"\n      }\n    },\n    {\n      \"column\": \"source\",\n      \"properties\": {\n        \"dtype\": \"category\",\n        \"num_unique_values\": 10,\n        \"samples\": [\n          \"antaranews\",\n          \"dailysocial.id\",\n          \"kumparan\"\n        ],\n        \"semantic_type\": \"\",\n        \"description\": \"\"\n      }\n    },\n    {\n      \"column\": \"url\",\n      \"properties\": {\n        \"dtype\": \"string\",\n        \"num_unique_values\": 18773,\n        \"samples\": [\n          \"https://www.merdeka.com/sepakbola/fachri-husaini-timnas-u-16-kalah-terhormat.html\",\n          \"https://www.cnnindonesia.com/nasional/20171123120550-32-257570/kemendagri-akan-coret-anggaran-tak-masuk-akal-pemprov-dki/\",\n          \"http://www.cnnindonesia.com/nasional/20161126164149-20-175517/antasari-azhar-sebut-tak-punya-masalah-dengan-sby/\"\n        ],\n        \"semantic_type\": \"\",\n        \"description\": \"\"\n      }\n    }\n  ]\n}"
            }
          },
          "metadata": {},
          "execution_count": 2
        }
      ],
      "source": [
        "import pandas as pd\n",
        "import matplotlib.pyplot as plt\n",
        "import numpy as np\n",
        "\n",
        "df = pd.read_csv('/content/dataset_ringkasan_berita_clean.csv')\n",
        "df.head()"
      ]
    },
    {
      "cell_type": "code",
      "execution_count": 3,
      "metadata": {
        "colab": {
          "base_uri": "https://localhost:8080/",
          "height": 452
        },
        "id": "Vk2NoWKBAlT0",
        "outputId": "6fc47e58-e207-43e4-a768-104bbe35977a"
      },
      "outputs": [
        {
          "output_type": "display_data",
          "data": {
            "text/plain": [
              "<Figure size 640x480 with 2 Axes>"
            ],
            "image/png": "[encoded data removed]"
          },
          "metadata": {}
        }
      ],
      "source": [
        "# %% Analyze length distribution of text and summary\n",
        "text_word_count = [len(text.split()) for text in df['text']]\n",
        "summary_word_count = [len(summary.split()) for summary in df['summary']]\n",
        "\n",
        "# Plot histograms\n",
        "length_df = pd.DataFrame({'text': text_word_count, 'summary': summary_word_count})\n",
        "length_df.hist(bins=30)\n",
        "plt.show()"
      ]
    },
    {
      "cell_type": "code",
      "execution_count": 4,
      "metadata": {
        "id": "1pxYyuiSAzK6"
      },
      "outputs": [],
      "source": [
        "# Set maximum lengths based on histogram\n",
        "max_text_len = 500\n",
        "max_summary_len = 70"
      ]
    },
    {
      "cell_type": "code",
      "execution_count": 5,
      "metadata": {
        "id": "-rvPwEpuAuNo"
      },
      "outputs": [],
      "source": [
        "import numpy as np\n",
        "\n",
        "# Filter short texts and summaries based on maximum length\n",
        "cleaned_text =np.array(df['text'])\n",
        "cleaned_summary=np.array(df['summary'])\n",
        "\n",
        "short_text=[]\n",
        "short_summary=[]\n",
        "\n",
        "for i in range(len(cleaned_text)):\n",
        "    if(len(cleaned_summary[i].split())<=max_summary_len and len(cleaned_text[i].split())<=max_text_len):\n",
        "        short_text.append(cleaned_text[i])\n",
        "        short_summary.append(cleaned_summary[i])"
      ]
    },
    {
      "cell_type": "code",
      "execution_count": 6,
      "metadata": {
        "colab": {
          "base_uri": "https://localhost:8080/",
          "height": 206
        },
        "id": "fyDJPv-9A56B",
        "outputId": "0a9d193b-a6b8-4df3-9b50-9b834c4deca0"
      },
      "outputs": [
        {
          "output_type": "execute_result",
          "data": {
            "text/plain": [
              "                                                text  \\\n",
              "0  Jakarta Dokter Ryan Thamrin yang terkenal lewa...   \n",
              "1  Indonesia Corruption Watch ICW meminta Komisi ...   \n",
              "2  Presiden Joko Widodo Jokowi memimpin upacara p...   \n",
              "3  Timnas Indonesia hanya mampu meraih kemenangan...   \n",
              "4  Tahun lalu HP meluncurkan sebuah printer porta...   \n",
              "\n",
              "                                             summary  \n",
              "0  Dokter Lula Kamal yang merupakan selebriti sek...  \n",
              "1  Indonesia Corruption Watch ICW meminta Komisi ...  \n",
              "2  Jokowi memimpin upacara penurunan bendera Usai...  \n",
              "3  Timnas Indonesia hanya mampu meraih kemenangan...  \n",
              "4  Tahun lalu HP meluncurkan sebuah printer porta...  "
            ],
            "text/html": [
              "\n",
              "  <div id=\"df-60340e72-2bdb-4d15-a4f0-4dd45564bc71\" class=\"colab-df-container\">\n",
              "    <div>\n",
              "<style scoped>\n",
              "    .dataframe tbody tr th:only-of-type {\n",
              "        vertical-align: middle;\n",
              "    }\n",
              "\n",
              "    .dataframe tbody tr th {\n",
              "        vertical-align: top;\n",
              "    }\n",
              "\n",
              "    .dataframe thead th {\n",
              "        text-align: right;\n",
              "    }\n",
              "</style>\n",
              "<table border=\"1\" class=\"dataframe\">\n",
              "  <thead>\n",
              "    <tr style=\"text-align: right;\">\n",
              "      <th></th>\n",
              "      <th>text</th>\n",
              "      <th>summary</th>\n",
              "    </tr>\n",
              "  </thead>\n",
              "  <tbody>\n",
              "    <tr>\n",
              "      <th>0</th>\n",
              "      <td>Jakarta Dokter Ryan Thamrin yang terkenal lewa...</td>\n",
              "      <td>Dokter Lula Kamal yang merupakan selebriti sek...</td>\n",
              "    </tr>\n",
              "    <tr>\n",
              "      <th>1</th>\n",
              "      <td>Indonesia Corruption Watch ICW meminta Komisi ...</td>\n",
              "      <td>Indonesia Corruption Watch ICW meminta Komisi ...</td>\n",
              "    </tr>\n",
              "    <tr>\n",
              "      <th>2</th>\n",
              "      <td>Presiden Joko Widodo Jokowi memimpin upacara p...</td>\n",
              "      <td>Jokowi memimpin upacara penurunan bendera Usai...</td>\n",
              "    </tr>\n",
              "    <tr>\n",
              "      <th>3</th>\n",
              "      <td>Timnas Indonesia hanya mampu meraih kemenangan...</td>\n",
              "      <td>Timnas Indonesia hanya mampu meraih kemenangan...</td>\n",
              "    </tr>\n",
              "    <tr>\n",
              "      <th>4</th>\n",
              "      <td>Tahun lalu HP meluncurkan sebuah printer porta...</td>\n",
              "      <td>Tahun lalu HP meluncurkan sebuah printer porta...</td>\n",
              "    </tr>\n",
              "  </tbody>\n",
              "</table>\n",
              "</div>\n",
              "    <div class=\"colab-df-buttons\">\n",
              "\n",
              "  <div class=\"colab-df-container\">\n",
              "    <button class=\"colab-df-convert\" onclick=\"convertToInteractive('df-60340e72-2bdb-4d15-a4f0-4dd45564bc71')\"\n",
              "            title=\"Convert this dataframe to an interactive table.\"\n",
              "            style=\"display:none;\">\n",
              "\n",
              "  <svg xmlns=\"http://www.w3.org/2000/svg\" height=\"24px\" viewBox=\"0 -960 960 960\">\n",
              "    <path d=\"M120-120v-720h720v720H120Zm60-500h600v-160H180v160Zm220 220h160v-160H400v160Zm0 220h160v-160H400v160ZM180-400h160v-160H180v160Zm440 0h160v-160H620v160ZM180-180h160v-160H180v160Zm440 0h160v-160H620v160Z\"/>\n",
              "  </svg>\n",
              "    </button>\n",
              "\n",
              "  <style>\n",
              "    .colab-df-container {\n",
              "      display:flex;\n",
              "      gap: 12px;\n",
              "    }\n",
              "\n",
              "    .colab-df-convert {\n",
              "      background-color: #E8F0FE;\n",
              "      border: none;\n",
              "      border-radius: 50%;\n",
              "      cursor: pointer;\n",
              "      display: none;\n",
              "      fill: #1967D2;\n",
              "      height: 32px;\n",
              "      padding: 0 0 0 0;\n",
              "      width: 32px;\n",
              "    }\n",
              "\n",
              "    .colab-df-convert:hover {\n",
              "      background-color: #E2EBFA;\n",
              "      box-shadow: 0px 1px 2px rgba(60, 64, 67, 0.3), 0px 1px 3px 1px rgba(60, 64, 67, 0.15);\n",
              "      fill: #174EA6;\n",
              "    }\n",
              "\n",
              "    .colab-df-buttons div {\n",
              "      margin-bottom: 4px;\n",
              "    }\n",
              "\n",
              "    [theme=dark] .colab-df-convert {\n",
              "      background-color: #3B4455;\n",
              "      fill: #D2E3FC;\n",
              "    }\n",
              "\n",
              "    [theme=dark] .colab-df-convert:hover {\n",
              "      background-color: #434B5C;\n",
              "      box-shadow: 0px 1px 3px 1px rgba(0, 0, 0, 0.15);\n",
              "      filter: drop-shadow(0px 1px 2px rgba(0, 0, 0, 0.3));\n",
              "      fill: #FFFFFF;\n",
              "    }\n",
              "  </style>\n",
              "\n",
              "    <script>\n",
              "      const buttonEl =\n",
              "        document.querySelector('#df-60340e72-2bdb-4d15-a4f0-4dd45564bc71 button.colab-df-convert');\n",
              "      buttonEl.style.display =\n",
              "        google.colab.kernel.accessAllowed ? 'block' : 'none';\n",
              "\n",
              "      async function convertToInteractive(key) {\n",
              "        const element = document.querySelector('#df-60340e72-2bdb-4d15-a4f0-4dd45564bc71');\n",
              "        const dataTable =\n",
              "          await google.colab.kernel.invokeFunction('convertToInteractive',\n",
              "                                                    [key], {});\n",
              "        if (!dataTable) return;\n",
              "\n",
              "        const docLinkHtml = 'Like what you see? Visit the ' +\n",
              "          '<a target=\"_blank\" href=https://colab.research.google.com/notebooks/data_table.ipynb>data table notebook</a>'\n",
              "          + ' to learn more about interactive tables.';\n",
              "        element.innerHTML = '';\n",
              "        dataTable['output_type'] = 'display_data';\n",
              "        await google.colab.output.renderOutput(dataTable, element);\n",
              "        const docLink = document.createElement('div');\n",
              "        docLink.innerHTML = docLinkHtml;\n",
              "        element.appendChild(docLink);\n",
              "      }\n",
              "    </script>\n",
              "  </div>\n",
              "\n",
              "\n",
              "<div id=\"df-1d7c7e9f-1c73-43b3-b105-ad38f0fba1c8\">\n",
              "  <button class=\"colab-df-quickchart\" onclick=\"quickchart('df-1d7c7e9f-1c73-43b3-b105-ad38f0fba1c8')\"\n",
              "            title=\"Suggest charts\"\n",
              "            style=\"display:none;\">\n",
              "\n",
              "<svg xmlns=\"http://www.w3.org/2000/svg\" height=\"24px\"viewBox=\"0 0 24 24\"\n",
              "     width=\"24px\">\n",
              "    <g>\n",
              "        <path d=\"M19 3H5c-1.1 0-2 .9-2 2v14c0 1.1.9 2 2 2h14c1.1 0 2-.9 2-2V5c0-1.1-.9-2-2-2zM9 17H7v-7h2v7zm4 0h-2V7h2v10zm4 0h-2v-4h2v4z\"/>\n",
              "    </g>\n",
              "</svg>\n",
              "  </button>\n",
              "\n",
              "<style>\n",
              "  .colab-df-quickchart {\n",
              "      --bg-color: #E8F0FE;\n",
              "      --fill-color: #1967D2;\n",
              "      --hover-bg-color: #E2EBFA;\n",
              "      --hover-fill-color: #174EA6;\n",
              "      --disabled-fill-color: #AAA;\n",
              "      --disabled-bg-color: #DDD;\n",
              "  }\n",
              "\n",
              "  [theme=dark] .colab-df-quickchart {\n",
              "      --bg-color: #3B4455;\n",
              "      --fill-color: #D2E3FC;\n",
              "      --hover-bg-color: #434B5C;\n",
              "      --hover-fill-color: #FFFFFF;\n",
              "      --disabled-bg-color: #3B4455;\n",
              "      --disabled-fill-color: #666;\n",
              "  }\n",
              "\n",
              "  .colab-df-quickchart {\n",
              "    background-color: var(--bg-color);\n",
              "    border: none;\n",
              "    border-radius: 50%;\n",
              "    cursor: pointer;\n",
              "    display: none;\n",
              "    fill: var(--fill-color);\n",
              "    height: 32px;\n",
              "    padding: 0;\n",
              "    width: 32px;\n",
              "  }\n",
              "\n",
              "  .colab-df-quickchart:hover {\n",
              "    background-color: var(--hover-bg-color);\n",
              "    box-shadow: 0 1px 2px rgba(60, 64, 67, 0.3), 0 1px 3px 1px rgba(60, 64, 67, 0.15);\n",
              "    fill: var(--button-hover-fill-color);\n",
              "  }\n",
              "\n",
              "  .colab-df-quickchart-complete:disabled,\n",
              "  .colab-df-quickchart-complete:disabled:hover {\n",
              "    background-color: var(--disabled-bg-color);\n",
              "    fill: var(--disabled-fill-color);\n",
              "    box-shadow: none;\n",
              "  }\n",
              "\n",
              "  .colab-df-spinner {\n",
              "    border: 2px solid var(--fill-color);\n",
              "    border-color: transparent;\n",
              "    border-bottom-color: var(--fill-color);\n",
              "    animation:\n",
              "      spin 1s steps(1) infinite;\n",
              "  }\n",
              "\n",
              "  @keyframes spin {\n",
              "    0% {\n",
              "      border-color: transparent;\n",
              "      border-bottom-color: var(--fill-color);\n",
              "      border-left-color: var(--fill-color);\n",
              "    }\n",
              "    20% {\n",
              "      border-color: transparent;\n",
              "      border-left-color: var(--fill-color);\n",
              "      border-top-color: var(--fill-color);\n",
              "    }\n",
              "    30% {\n",
              "      border-color: transparent;\n",
              "      border-left-color: var(--fill-color);\n",
              "      border-top-color: var(--fill-color);\n",
              "      border-right-color: var(--fill-color);\n",
              "    }\n",
              "    40% {\n",
              "      border-color: transparent;\n",
              "      border-right-color: var(--fill-color);\n",
              "      border-top-color: var(--fill-color);\n",
              "    }\n",
              "    60% {\n",
              "      border-color: transparent;\n",
              "      border-right-color: var(--fill-color);\n",
              "    }\n",
              "    80% {\n",
              "      border-color: transparent;\n",
              "      border-right-color: var(--fill-color);\n",
              "      border-bottom-color: var(--fill-color);\n",
              "    }\n",
              "    90% {\n",
              "      border-color: transparent;\n",
              "      border-bottom-color: var(--fill-color);\n",
              "    }\n",
              "  }\n",
              "</style>\n",
              "\n",
              "  <script>\n",
              "    async function quickchart(key) {\n",
              "      const quickchartButtonEl =\n",
              "        document.querySelector('#' + key + ' button');\n",
              "      quickchartButtonEl.disabled = true;  // To prevent multiple clicks.\n",
              "      quickchartButtonEl.classList.add('colab-df-spinner');\n",
              "      try {\n",
              "        const charts = await google.colab.kernel.invokeFunction(\n",
              "            'suggestCharts', [key], {});\n",
              "      } catch (error) {\n",
              "        console.error('Error during call to suggestCharts:', error);\n",
              "      }\n",
              "      quickchartButtonEl.classList.remove('colab-df-spinner');\n",
              "      quickchartButtonEl.classList.add('colab-df-quickchart-complete');\n",
              "    }\n",
              "    (() => {\n",
              "      let quickchartButtonEl =\n",
              "        document.querySelector('#df-1d7c7e9f-1c73-43b3-b105-ad38f0fba1c8 button');\n",
              "      quickchartButtonEl.style.display =\n",
              "        google.colab.kernel.accessAllowed ? 'block' : 'none';\n",
              "    })();\n",
              "  </script>\n",
              "</div>\n",
              "\n",
              "    </div>\n",
              "  </div>\n"
            ],
            "application/vnd.google.colaboratory.intrinsic+json": {
              "type": "dataframe",
              "variable_name": "df_short",
              "summary": "{\n  \"name\": \"df_short\",\n  \"rows\": 17691,\n  \"fields\": [\n    {\n      \"column\": \"text\",\n      \"properties\": {\n        \"dtype\": \"string\",\n        \"num_unique_values\": 17690,\n        \"samples\": [\n          \"Kemenko Maritim terus berupaya menyelesaikan permasalahan Analisis Mengenai Dampak Lingkungan AMDAL Bandara New Yogyakarta International Airport NYIA Kulon Progo Daerah Istimewa Yogyakarta DIY Hal tersebut diungkapkan oleh Deputi Bidang Koordinasi Infrastuktur Kemenko Maritim Ridwan Djamaludin usai memimpin Rapat Koordinasi Pengembangan Pelayaran Jalur Selatan Pulau Jawa bersama 7 perwakilan Kabupaten terkait Tadi tim kita meninjau ke sana memang permasalahan belum sepenuhnya selesai tapi itulah tugas kita Dan yang kita lakukan itu untuk mencari tahu informasi di lapangan perihal masalah masalah apa saja yang masih menghambat Tadi AMDAL juga belum sepenuhnya selesai dalam waktu dekat kita akan undang pihak terkait masalah AMDAL ini ujarnya di Hotel Ciputra Semarang Selasa 10 10 dalam keterangan pers yang diterima com Selain itu Ridwan juga berjanji akan mengejar masalah pembebasan lahan hingga tuntas Ridwan berharap upaya pembebasan lahan tersebut tidak memiliki hambatan ke depannya Dan pembebasan lahan kita kejar sepenuhnya hingga 100 persen karena tak bisa kalau tidak 100 persen itu pun masih dalam proses Untuk pembebasan lahan akan terus kita monitor kalau tidak ada masalah kita lihat dulu prosesnya semoga tidak ada hambatan Angkasa Pura akan kita bantu fasilitasi untuk menyelesaikan masalah pembebasan lahan tutur Ridwan Pembangunan Bandara NYIA Kulon Progo tahap pertama kata dia ditargetkan akan beroperasi pada 2019 mendatang Dengan begitu tujuan untuk mengurangi beban Bandara Adisutjipto yang sudah melebihi kapsitas dapat segera terlaksana Letak geografis Bandara NYIA Kulon Progo yang berada di Selatan Pulau Jawa menjadikan lokasi tersebut rawan bencana terutama gempa bumi dan tsunami Oleh karena itu Pemerintah Pusat telah menyiapkan berbagai opsi mitigasi bencana yang akan diterapkan dalam pembangunan Bandara NYIA Kulon Progo Bahkan beberapa waktu lalu Kemenko Maritim bersama Badan Pengkajian dan Penerapan Teknologi BPPT Lembaga Ilmu Pengetahuan Indonesia LIPI Badan Meteorologi Klimatologi dan Geofisika BMKG Sekretariat Kabinet SETKAB Pemerintah Daerah dan Perwakilan Masyarakat serta para Akademisi sudah menyelenggarakan workshop Potensi Bahaya Gempa Bumi dan Tsunami beserta Metode Mitigasinya di Universitas Gajah Mada DIY Berbagai opsi yang disepakati meliputi kekuatan bandara yang tahan gempa penerapan gumuk gumuk pasir penanaman cemara udang dan mangrove Tak hanya itu sosialisasi mitigasi bencana kepada para warga juga dilakukan menjelang pembukaan bandara tersebut\",\n          \"Mantan pebalap Formula 1 F1 asal Indonesia Rio Haryanto kembali menjajal dunia balap Pada Selasa 3 10 2017 mendatang dia akan mengikuti tes mobil balap listrik Formula E di Valencia Spanyol Rio akan menjalani tes Formula E di Circuit Ricardo Tormo atau dikenal pula dengan nama Circuit de Valencia Berdasarkan informasi dari sang ibunda Indah Pennywati Rio sudah berangkat dari Indonesia menuju Spanyol sejak Sabtu 30 9 2017 Rio ikut tes setelah diundang oleh pihak Formula E Nanti soal mobilnya sudah disiapkan di sana Jadi ini baru tes pramusim kata Indah saat dihubungi JUARA pada Minggu 1 10 2017 siang Seperti halnya F1 Formula E juga merupakan ajang balapan yang berada di bawah naungan Federasi Otomotif Internasional FIA Formula E menggunakan mobil bertenaga listrik dan digagas sejak tahun 2012 Kejuaraan perdananya digelar di Beijing China pada September 2014 Untuk tahun ini balapan Formula E akan menggelar musim keempatnya pada awal Desember 2017 mendatang Ya saya senang juga Rio bisa kembali menyetir Dia belum memutuskan apakah benar benar ikut balapan Formula E atau balapan yang lain kata Indah Sekarang dia mau jajaki dulu Formula E Dengan ikut tes paling tidak dia punya pandangan pengalaman dan bisa kembali balapan tutur dia Rio memang sudah cukup lama absen dari dunia balap Setelah menjalani 12 seri balapan F1 2016 bersama Manor Racing Team dia praktis belum lagi berpartisipasi dalam ajang resmi Pemuda 24 tahun itu akhirnya memutuskan untuk bekerja di perusahaan keluarganya di Solo Jawa Tengah dan sempat beberapa kali terlibat dalam ajang triatlon\",\n          \"Jakarta Kerusuhan antar pendukung pasangan calon pemilihan kepala daerah Puncak Jaya terjadi di Mulia Papua Minggu 2 7 lalu Akibat kerusuhan tersebut para warga terpaksa mengungsi ke Markas Polres Puncak Jaya di Mulia Setidaknya hingga berita ini ditulis sebanyak 50 warga harus mengungsi Kapolda Papua Irjen Polisi Boy Rafli Amar memastikan pertikaian yang terjadi di Mulia ibu kota Kabupaten Puncak Jaya itu akibat provokasi elite politik yang memanfaatkan masyarakat Menurut Boy para elite politik telah memberikan pendidikan yang tidak bagus kepada masyarakat dan mereka dieksploitasi Saya sangat menyayangkan dan menyesalkan karena yang menjadi korban adalah masyarakat sehingga telah memerintahkan Kapolres Puncak Jaya untuk menindak tegas aksi tersebut kata Boy Rafli kepada wartawan di Jayapura Senin 3 7 seperti dikutip dari Antara Hasil pilkada di Mulia masih diproses Mahkamah Konstitusi Boy menduga para pendukung pasangan calon kepala daerah Puncak Jaya yang memprovokasi dan menyerang kelompok lainnya sudah memiliki gambaran tentang hasil pilkada sehingga melakukan aksi tersebut Boy melanjutkan pada Selasa 4 7 dirinya akan ke Mulia untuk melihat situasi dan kondisi terkini di daerah tersebut Aksi saling serang dengan menggunakan senjata tradisional terjadi di Mulia akhir pekan lalu yang menyebabkan 20 orang terluka satu meninggal dan 15 honai rumah adat dibakar Kabid Humas Polda Papua Kombes Pol Ahmad Kamal mengatakan sekitar 50 warga mengungsi ke Mapolres Puncak Jaya untuk menghindari hal yang tak diinginkan Secara keseluruhan situasi kamtibmas di Mulia sudah dapat dikendalikan namun hal itu tidak bisa dipastikan mengingat masih ada kelompok pendukung salah satu pasangan calon yang terus berupaya menyerang kelompok lain Ahmad menjelaskan kasus yang terjadi di Mulia itu merupakan dampak dari hasil pilkada yang melibatkan pendukung calon kepala daerah yang bertarung Para pendukung itu saling menyerang dengan menggunakan senjata tradisional seperti panah Pilkada di Kabupaten Puncak Jaya diikuti tiga pasangan calon bupati dan wakil bupati yakni no urut 1 paslon Yustus Wonda Kirenius Telenggen Hanock Ibo Rinus Telenggen dan Yuni Wonda Deinas Geley\"\n        ],\n        \"semantic_type\": \"\",\n        \"description\": \"\"\n      }\n    },\n    {\n      \"column\": \"summary\",\n      \"properties\": {\n        \"dtype\": \"string\",\n        \"num_unique_values\": 17685,\n        \"samples\": [\n          \"Menteri Luar Negeri Amerika Serikat Rex Tillerson mengatakan status akhir Yerusalem akan ditentukan oleh para perunding Israel dan Palestina kendati Presiden Donald Trump telah memutuskan untuk mengakui kota suci itu sebagai ibu kota Israel Menurutnya Presiden Trump tidak mengisyaratkan status akhir untuk Yerusalem Status akhir Yerusalem termasuk perbatasan akan tergantung pada perundingan dan keputusan pihak pihak terkait\",\n          \"Gennaro Gattuso belum bisa mengangkat performa AC Milan musim ini Rossonerri menelan kekalahan menyakitkan 0 2 dari Atalanta di Stadion San Siro Sabtu 23 12 Kekalahan ini membuat Milan masih tertahan di urutan ke 11 Milan gagal mendekat ke zona Eropa sedangkan Atalanta justru kini sudah membukukan 27 poin dan ada di peringkat ketujuh hanya selisih satu tingkat dengan batas akhir zona Eropa\",\n          \"Kemenko Maritim terus berupaya menyelesaikan permasalahan AMDAL Bandara NYIA Kulon Progo DIY Hal tersebut diungkapkan oleh Deputi Bidang Koordinasi Infrastuktur Kemenko Maritim Ridwan Djamaludin Selain itu Ridwan juga berjanji akan mengejar masalah pembebasan lahan hingga tuntas Ridwan berharap upaya pembebasan lahan tersebut tidak memiliki hambatan ke depannya Pembangunan Bandara NYIA Kulon Progo tahap pertama ditargetkan akan beroperasi pada 2019 mendatang\"\n        ],\n        \"semantic_type\": \"\",\n        \"description\": \"\"\n      }\n    }\n  ]\n}"
            }
          },
          "metadata": {},
          "execution_count": 6
        }
      ],
      "source": [
        "df_short=pd.DataFrame({'text':short_text,'summary':short_summary})\n",
        "df_short.head()"
      ]
    },
    {
      "cell_type": "code",
      "execution_count": 7,
      "metadata": {
        "colab": {
          "base_uri": "https://localhost:8080/"
        },
        "id": "00jVTHddA7iy",
        "outputId": "c5c4fbbf-dcd9-4d82-bf2f-9a5299479e13"
      },
      "outputs": [
        {
          "output_type": "stream",
          "name": "stdout",
          "text": [
            "500\n",
            "70\n"
          ]
        }
      ],
      "source": [
        "print(df_short['text'].str.split().str.len().max())\n",
        "print(df_short['summary'].str.split().str.len().max())"
      ]
    },
    {
      "cell_type": "code",
      "execution_count": 8,
      "metadata": {
        "id": "-XJS45FqA8pA"
      },
      "outputs": [],
      "source": [
        "news_full = df_short[:2200]"
      ]
    },
    {
      "cell_type": "code",
      "execution_count": 9,
      "metadata": {
        "colab": {
          "base_uri": "https://localhost:8080/",
          "height": 206
        },
        "id": "Q8yAVv2ZA98L",
        "outputId": "cf8382eb-be7b-4cf5-974a-d8a60a04620e"
      },
      "outputs": [
        {
          "output_type": "execute_result",
          "data": {
            "text/plain": [
              "                                                text  \\\n",
              "0  Jakarta Dokter Ryan Thamrin yang terkenal lewa...   \n",
              "1  Indonesia Corruption Watch ICW meminta Komisi ...   \n",
              "2  Presiden Joko Widodo Jokowi memimpin upacara p...   \n",
              "3  Timnas Indonesia hanya mampu meraih kemenangan...   \n",
              "4  Tahun lalu HP meluncurkan sebuah printer porta...   \n",
              "\n",
              "                                             summary  \n",
              "0  Dokter Lula Kamal yang merupakan selebriti sek...  \n",
              "1  Indonesia Corruption Watch ICW meminta Komisi ...  \n",
              "2  Jokowi memimpin upacara penurunan bendera Usai...  \n",
              "3  Timnas Indonesia hanya mampu meraih kemenangan...  \n",
              "4  Tahun lalu HP meluncurkan sebuah printer porta...  "
            ],
            "text/html": [
              "\n",
              "  <div id=\"df-f8546bf6-5498-4674-b8c4-59bc920900e5\" class=\"colab-df-container\">\n",
              "    <div>\n",
              "<style scoped>\n",
              "    .dataframe tbody tr th:only-of-type {\n",
              "        vertical-align: middle;\n",
              "    }\n",
              "\n",
              "    .dataframe tbody tr th {\n",
              "        vertical-align: top;\n",
              "    }\n",
              "\n",
              "    .dataframe thead th {\n",
              "        text-align: right;\n",
              "    }\n",
              "</style>\n",
              "<table border=\"1\" class=\"dataframe\">\n",
              "  <thead>\n",
              "    <tr style=\"text-align: right;\">\n",
              "      <th></th>\n",
              "      <th>text</th>\n",
              "      <th>summary</th>\n",
              "    </tr>\n",
              "  </thead>\n",
              "  <tbody>\n",
              "    <tr>\n",
              "      <th>0</th>\n",
              "      <td>Jakarta Dokter Ryan Thamrin yang terkenal lewa...</td>\n",
              "      <td>Dokter Lula Kamal yang merupakan selebriti sek...</td>\n",
              "    </tr>\n",
              "    <tr>\n",
              "      <th>1</th>\n",
              "      <td>Indonesia Corruption Watch ICW meminta Komisi ...</td>\n",
              "      <td>Indonesia Corruption Watch ICW meminta Komisi ...</td>\n",
              "    </tr>\n",
              "    <tr>\n",
              "      <th>2</th>\n",
              "      <td>Presiden Joko Widodo Jokowi memimpin upacara p...</td>\n",
              "      <td>Jokowi memimpin upacara penurunan bendera Usai...</td>\n",
              "    </tr>\n",
              "    <tr>\n",
              "      <th>3</th>\n",
              "      <td>Timnas Indonesia hanya mampu meraih kemenangan...</td>\n",
              "      <td>Timnas Indonesia hanya mampu meraih kemenangan...</td>\n",
              "    </tr>\n",
              "    <tr>\n",
              "      <th>4</th>\n",
              "      <td>Tahun lalu HP meluncurkan sebuah printer porta...</td>\n",
              "      <td>Tahun lalu HP meluncurkan sebuah printer porta...</td>\n",
              "    </tr>\n",
              "  </tbody>\n",
              "</table>\n",
              "</div>\n",
              "    <div class=\"colab-df-buttons\">\n",
              "\n",
              "  <div class=\"colab-df-container\">\n",
              "    <button class=\"colab-df-convert\" onclick=\"convertToInteractive('df-f8546bf6-5498-4674-b8c4-59bc920900e5')\"\n",
              "            title=\"Convert this dataframe to an interactive table.\"\n",
              "            style=\"display:none;\">\n",
              "\n",
              "  <svg xmlns=\"http://www.w3.org/2000/svg\" height=\"24px\" viewBox=\"0 -960 960 960\">\n",
              "    <path d=\"M120-120v-720h720v720H120Zm60-500h600v-160H180v160Zm220 220h160v-160H400v160Zm0 220h160v-160H400v160ZM180-400h160v-160H180v160Zm440 0h160v-160H620v160ZM180-180h160v-160H180v160Zm440 0h160v-160H620v160Z\"/>\n",
              "  </svg>\n",
              "    </button>\n",
              "\n",
              "  <style>\n",
              "    .colab-df-container {\n",
              "      display:flex;\n",
              "      gap: 12px;\n",
              "    }\n",
              "\n",
              "    .colab-df-convert {\n",
              "      background-color: #E8F0FE;\n",
              "      border: none;\n",
              "      border-radius: 50%;\n",
              "      cursor: pointer;\n",
              "      display: none;\n",
              "      fill: #1967D2;\n",
              "      height: 32px;\n",
              "      padding: 0 0 0 0;\n",
              "      width: 32px;\n",
              "    }\n",
              "\n",
              "    .colab-df-convert:hover {\n",
              "      background-color: #E2EBFA;\n",
              "      box-shadow: 0px 1px 2px rgba(60, 64, 67, 0.3), 0px 1px 3px 1px rgba(60, 64, 67, 0.15);\n",
              "      fill: #174EA6;\n",
              "    }\n",
              "\n",
              "    .colab-df-buttons div {\n",
              "      margin-bottom: 4px;\n",
              "    }\n",
              "\n",
              "    [theme=dark] .colab-df-convert {\n",
              "      background-color: #3B4455;\n",
              "      fill: #D2E3FC;\n",
              "    }\n",
              "\n",
              "    [theme=dark] .colab-df-convert:hover {\n",
              "      background-color: #434B5C;\n",
              "      box-shadow: 0px 1px 3px 1px rgba(0, 0, 0, 0.15);\n",
              "      filter: drop-shadow(0px 1px 2px rgba(0, 0, 0, 0.3));\n",
              "      fill: #FFFFFF;\n",
              "    }\n",
              "  </style>\n",
              "\n",
              "    <script>\n",
              "      const buttonEl =\n",
              "        document.querySelector('#df-f8546bf6-5498-4674-b8c4-59bc920900e5 button.colab-df-convert');\n",
              "      buttonEl.style.display =\n",
              "        google.colab.kernel.accessAllowed ? 'block' : 'none';\n",
              "\n",
              "      async function convertToInteractive(key) {\n",
              "        const element = document.querySelector('#df-f8546bf6-5498-4674-b8c4-59bc920900e5');\n",
              "        const dataTable =\n",
              "          await google.colab.kernel.invokeFunction('convertToInteractive',\n",
              "                                                    [key], {});\n",
              "        if (!dataTable) return;\n",
              "\n",
              "        const docLinkHtml = 'Like what you see? Visit the ' +\n",
              "          '<a target=\"_blank\" href=https://colab.research.google.com/notebooks/data_table.ipynb>data table notebook</a>'\n",
              "          + ' to learn more about interactive tables.';\n",
              "        element.innerHTML = '';\n",
              "        dataTable['output_type'] = 'display_data';\n",
              "        await google.colab.output.renderOutput(dataTable, element);\n",
              "        const docLink = document.createElement('div');\n",
              "        docLink.innerHTML = docLinkHtml;\n",
              "        element.appendChild(docLink);\n",
              "      }\n",
              "    </script>\n",
              "  </div>\n",
              "\n",
              "\n",
              "<div id=\"df-9c1d3636-4f32-4918-8ee8-d4d6d55e6094\">\n",
              "  <button class=\"colab-df-quickchart\" onclick=\"quickchart('df-9c1d3636-4f32-4918-8ee8-d4d6d55e6094')\"\n",
              "            title=\"Suggest charts\"\n",
              "            style=\"display:none;\">\n",
              "\n",
              "<svg xmlns=\"http://www.w3.org/2000/svg\" height=\"24px\"viewBox=\"0 0 24 24\"\n",
              "     width=\"24px\">\n",
              "    <g>\n",
              "        <path d=\"M19 3H5c-1.1 0-2 .9-2 2v14c0 1.1.9 2 2 2h14c1.1 0 2-.9 2-2V5c0-1.1-.9-2-2-2zM9 17H7v-7h2v7zm4 0h-2V7h2v10zm4 0h-2v-4h2v4z\"/>\n",
              "    </g>\n",
              "</svg>\n",
              "  </button>\n",
              "\n",
              "<style>\n",
              "  .colab-df-quickchart {\n",
              "      --bg-color: #E8F0FE;\n",
              "      --fill-color: #1967D2;\n",
              "      --hover-bg-color: #E2EBFA;\n",
              "      --hover-fill-color: #174EA6;\n",
              "      --disabled-fill-color: #AAA;\n",
              "      --disabled-bg-color: #DDD;\n",
              "  }\n",
              "\n",
              "  [theme=dark] .colab-df-quickchart {\n",
              "      --bg-color: #3B4455;\n",
              "      --fill-color: #D2E3FC;\n",
              "      --hover-bg-color: #434B5C;\n",
              "      --hover-fill-color: #FFFFFF;\n",
              "      --disabled-bg-color: #3B4455;\n",
              "      --disabled-fill-color: #666;\n",
              "  }\n",
              "\n",
              "  .colab-df-quickchart {\n",
              "    background-color: var(--bg-color);\n",
              "    border: none;\n",
              "    border-radius: 50%;\n",
              "    cursor: pointer;\n",
              "    display: none;\n",
              "    fill: var(--fill-color);\n",
              "    height: 32px;\n",
              "    padding: 0;\n",
              "    width: 32px;\n",
              "  }\n",
              "\n",
              "  .colab-df-quickchart:hover {\n",
              "    background-color: var(--hover-bg-color);\n",
              "    box-shadow: 0 1px 2px rgba(60, 64, 67, 0.3), 0 1px 3px 1px rgba(60, 64, 67, 0.15);\n",
              "    fill: var(--button-hover-fill-color);\n",
              "  }\n",
              "\n",
              "  .colab-df-quickchart-complete:disabled,\n",
              "  .colab-df-quickchart-complete:disabled:hover {\n",
              "    background-color: var(--disabled-bg-color);\n",
              "    fill: var(--disabled-fill-color);\n",
              "    box-shadow: none;\n",
              "  }\n",
              "\n",
              "  .colab-df-spinner {\n",
              "    border: 2px solid var(--fill-color);\n",
              "    border-color: transparent;\n",
              "    border-bottom-color: var(--fill-color);\n",
              "    animation:\n",
              "      spin 1s steps(1) infinite;\n",
              "  }\n",
              "\n",
              "  @keyframes spin {\n",
              "    0% {\n",
              "      border-color: transparent;\n",
              "      border-bottom-color: var(--fill-color);\n",
              "      border-left-color: var(--fill-color);\n",
              "    }\n",
              "    20% {\n",
              "      border-color: transparent;\n",
              "      border-left-color: var(--fill-color);\n",
              "      border-top-color: var(--fill-color);\n",
              "    }\n",
              "    30% {\n",
              "      border-color: transparent;\n",
              "      border-left-color: var(--fill-color);\n",
              "      border-top-color: var(--fill-color);\n",
              "      border-right-color: var(--fill-color);\n",
              "    }\n",
              "    40% {\n",
              "      border-color: transparent;\n",
              "      border-right-color: var(--fill-color);\n",
              "      border-top-color: var(--fill-color);\n",
              "    }\n",
              "    60% {\n",
              "      border-color: transparent;\n",
              "      border-right-color: var(--fill-color);\n",
              "    }\n",
              "    80% {\n",
              "      border-color: transparent;\n",
              "      border-right-color: var(--fill-color);\n",
              "      border-bottom-color: var(--fill-color);\n",
              "    }\n",
              "    90% {\n",
              "      border-color: transparent;\n",
              "      border-bottom-color: var(--fill-color);\n",
              "    }\n",
              "  }\n",
              "</style>\n",
              "\n",
              "  <script>\n",
              "    async function quickchart(key) {\n",
              "      const quickchartButtonEl =\n",
              "        document.querySelector('#' + key + ' button');\n",
              "      quickchartButtonEl.disabled = true;  // To prevent multiple clicks.\n",
              "      quickchartButtonEl.classList.add('colab-df-spinner');\n",
              "      try {\n",
              "        const charts = await google.colab.kernel.invokeFunction(\n",
              "            'suggestCharts', [key], {});\n",
              "      } catch (error) {\n",
              "        console.error('Error during call to suggestCharts:', error);\n",
              "      }\n",
              "      quickchartButtonEl.classList.remove('colab-df-spinner');\n",
              "      quickchartButtonEl.classList.add('colab-df-quickchart-complete');\n",
              "    }\n",
              "    (() => {\n",
              "      let quickchartButtonEl =\n",
              "        document.querySelector('#df-9c1d3636-4f32-4918-8ee8-d4d6d55e6094 button');\n",
              "      quickchartButtonEl.style.display =\n",
              "        google.colab.kernel.accessAllowed ? 'block' : 'none';\n",
              "    })();\n",
              "  </script>\n",
              "</div>\n",
              "\n",
              "    </div>\n",
              "  </div>\n"
            ],
            "application/vnd.google.colaboratory.intrinsic+json": {
              "type": "dataframe",
              "variable_name": "news_full",
              "summary": "{\n  \"name\": \"news_full\",\n  \"rows\": 2200,\n  \"fields\": [\n    {\n      \"column\": \"text\",\n      \"properties\": {\n        \"dtype\": \"string\",\n        \"num_unique_values\": 2200,\n        \"samples\": [\n          \"Jakarta Keseruan musim panas di Paris Perancis bakal berlangsung lebih panjang Pasalnya pemerintah Kota Fesyen itu akan membuka pintu belasan taman selama 24 jam Seperti yang dilansir dari Travel and Leisure pada Selasa 27 6 warga Paris boleh berkunjung selama seharian ke 16 taman besar yang telah ditentukan Kesempatan ini tentu saja tak boleh dilewatkan karena peraturan ini hanya akan berlaku selama musim panas yang terhitung dari 1 Juli sampai 3 September mendatang Les Jardins Nocturnes atau taman malam adalah kampanye dari pemerintah kota Paris untuk memberikan fasilitas kepada warganya yang tak sempat menikmati taman pada siang hari Walau bebas melakukan berbagai aktivitas di taman mulai dari piknik sampai memandangi rasi bintang namun sejumlah petugas keamanan akan tetap berjaga agar suasana di taman tetap aman dan tentram Mereka tidak akan segan menegur pengunjung yang dirasa terlalu berisik karena banyak taman yang berada dekat dengan perumahan warga Belasan taman yang dipilih banyak yang bukan taman populer di kalangan wisatawan Meski demikian taman taman yang buka 24 jam tak akan kalah indah dari Taman Tuileries atau Taman Luxembourg Salah satu taman yang dipili Parc des Buttes Chaumont disebut memiliki tempat terbaik untuk melihat pemandangan seluruh kota Paris Saat terbaik untuk datang ke sana ialah menjelang matahari terbenam Sedangkan Parc Montsouris merupakan taman dengan lahan hijau terluas di Paris Danau dan kawanan angsa menjadi pemandangan yang menarik untuk dinikmati Ini adalah tahun ke dua Paris melakukan kampanye Les Jardins Nocturnes Selain 16 taman besar pemerintah kota Paris juga akan membuka 137 taman kecil selama 24 jam\",\n          \"iflix salah satu layanan video on demand yang tengah berusaha merajai pasar di Indonesia mengenalkan eksekutif baru Matthew Collier menjadi Head of iflix Indonesia menggantikan Cam Walker Matthew yang dalam portofolionya dikenal baik di dunia komunikasi dan periklanan akan bekerja di bawah pimpinan Head of Asia yang baru Jonas Engwall Pemilihan Collier didasari pengalaman regionalnya yang luas dalam memimpin bakat lokal dan mengambangkan bisnis baru di pasar berkembang di seluruh Asia termasuk membangun model bisnis periklanan di Timur Tengah dan Australia Sebelumnya Collier menempati posisi CEO Y R Group Indonesia selama tiga tahun Co founder sekaligus Group CEO iflix Mark Britt menyatakan bahwa dirinya yakin Collier dan segenap pengalamannya bisa mengembangkan iflix di seluruh Indonesia Matt Collier adalah pemimpin yang luar biasa dengan rekam jejak yang terbukti mendorong strategi dan pertumbuhan bisnis Ia akan berperan penting dalam kesuksesan iflix di Indonesia salah satu wilayah terpenting bagi kami Saya yakin keahliannya akan sangat berharga seiring kami terus mengembangkan layanan iflix dengan fokus tunggal dalam memberikan pengalaman hiburan terbaik bagi pengguna di seluruh Indonesia terang Mark Menanggapi posisi barunya Collier menyampaikan kegembiraannya dapat memegang kemudi iflix Indonesia dan memimpin salah satu pasar terbesar dan paling dinamis bagi iflix Ia optimis iflix berpeluang mendefinisikan ulang pengalaman pengguna bagi jutaan orang Indonesia terutama dalam pengalaman hiburan dan media di era digital Saya sangat senang dapat bergabung dengan tim iflix yang sangat berbakat dan berdedikasi seiring kami terus membawa bisnis ini menjadi lebih baik lagi terang Collier Sejauh ini menurut data internal iflix layanannya sudah berhasil mendapatkan 1 miliar pengguna untuk 22 negara di seluruh Asia Timur Tengah dan Afrika Angka tersebut juga diklaim menjadikan iflix sebagai pemimpin layanan video streaming di pasar berkembang DailySocial id adalah portal berita startup dan inovasi teknologi Kamu bisa menjadi member komunitas startup dan inovasi DailySocial id mengunduh laporan riset dan statistik seputar teknologi secara cuma cuma dan mengikuti berita startup Indonesia dan gadget terbaru\",\n          \"Penindasan terhadap Muslim Rohingya masih terjadi Baru saja pemerintah Myanmar mengerahkan pasukannya ke Provinsi Rakhine Puluhan orang tewas saat pasukan pemerintah menyerbu kampung kampung Konflik antara etnis Rohingya dan mayoritas penduduk Myanmar yang mayoritas beragama Budha seolah tak berkesudahan Puluhan ribu warga Rohingya terlunta lunta mengungsi ke negara lain termasuk Indonesia Di Myanmar etnis Rohingya tak diakui sebagai warga negara Mereka kesulitan memperoleh akses kesehatan pendidikan dan perumahan yang layak Kekerasan juga terus terjadi Sebenarnya apa pokok permasalahan di Myanmar Apakah konflik Rohingya murni karena agama semata Secara umum orang berpendapat krisis Rohingya di Myanmar adalah masalah agama Tetapi menurut Kepala bidang penelitian pada South Asia Democratic Forum Siegfried O Wolf krisis ini lebih bersifat politis dan ekonomis Dari sisi geografis penduduk Rohingya adalah sekelompok penganut Muslim yang jumlahnya sekitar satu juta orang dan tinggal di negara bagian Rakhine Wilayah Rakhine juga ditempati oleh masyarakat yang mayoritas memeluk agama Budha Rakhine dikenal sebagai wilayah yang kaya akan sumber daya alam Tetapi hal itu menjadi timpang ketika pada kenyataannya tingkat kemiskinan di sana ternyata tinggi Komunitas warga Rakhine merasa didiskriminasi secara budaya juga tereksploitasi secara ekonomi dan disingkirkan secara politis oleh pemerintah pusat yang didominasi etnis Burma Dalam konteks spesial ini Rohingya dianggap warga Rakhine sebagai saingan tambahan dan ancaman bagi identitas mereka sendiri Inilah penyebab utama ketegangan di negara bagian itu dan telah mengakibatkan sejumlah konflik senjata antar kedua kelompok kata Siegfried O Wolf saat diwawancarai oleh media Jerman Deutsche Welle DW Mayoritas warga Rakhine menilai Rohingya sebagai saingan dalam hal mencari pekerjaan maupun untuk kesempatan untuk berwirausaha Dari permasalahan politik warga Rakhine merasa jika kaum Rohingya telah mengkhianati mereka lantaran tidak memberikan suara bagi partai politik mayoritas penduduk setempat Jadi bisa dibilang rasa tidak suka warga Buddha terhadap Rohingya bukan saja masalah agama melainkan didorong masalah politis dan ekonomis kata Wolf Hal ini diperburuk oleh sikap pemerintah Myanmar yang bukannya mendorong rekonsiliasi tetapi malah mendukung kelompok fundamentalis Budha Umat Budha di dunia sendiri mengutuk kekerasan yang dilakukan kelompok garis keras di Myanmar Tahun 2014 lalu Dalai Lama meminta Umat Budha menghentikan kekerasan di Myanmar dan Sri Lanka Saya menyerukan kepada umat Buddha di Myanmar Sri Lanka membayangkan wajah Buddha sebelum mereka berbuat kejahatan Buddha mengajarkan cinta dan kasih sayang Jika Buddha ada di sana dia akan melindungi muslim dari serangan umat Buddha pesan Dalai Lama Di dalam negeri Myanmar nyaris tak ada yang membela Muslim Rohingya Dunia mengutuk pemimpin Myanmar Aung San Suu Kyi yang diam seribu bahasa soal penindasan di Rohingya Nasib Muslim Rohingya pun masih jauh dari kedamaian ian\"\n        ],\n        \"semantic_type\": \"\",\n        \"description\": \"\"\n      }\n    },\n    {\n      \"column\": \"summary\",\n      \"properties\": {\n        \"dtype\": \"string\",\n        \"num_unique_values\": 2200,\n        \"samples\": [\n          \"Les Jardins Nocturnes atau taman malam adalah kampanye dari pemerintah kota Paris untuk memberikan fasilitas kepada warganya yang tak sempat menikmati taman pada siang hari Belasan taman yang dipilih banyak yang bukan taman populer di kalangan wisatawan Meski demikian taman taman yang buka 24 jam tak akan kalah indah dari Taman Tuileries atau Taman Luxembourg\",\n          \"iflix mengenalkan eksekutif baru Matthew Collier menjadi Head of iflix Indonesia menggantikan Cam Walker Matthew yang dalam portofolionya dikenal baik di dunia komunikasi dan periklanan akan bekerja di bawah pimpinan Head of Asia yang baru Jonas Engwall Pemilihan Collier didasari pengalaman regionalnya yang luas dalam memimpin bakat lokal dan mengambangkan bisnis baru\",\n          \"Penganiyaan militer Myanmar terhadap komunitas Muslim Rohingya di Rakhine telah disorot PBB sebagai salah satu komunitas yang paling teraniaya di dunia Sikap Aung San Suu Kyi yang jadi pihak berkuasa di Myanmar saat ini dinilai memalukan karena bungkam atas derita yang dialami komunitas Rohingya Banyak warga berbagai negara muslim khususnya yang mengecam dan mengadu kepada PBB atas tindakan brutal Myanmar\"\n        ],\n        \"semantic_type\": \"\",\n        \"description\": \"\"\n      }\n    }\n  ]\n}"
            }
          },
          "metadata": {},
          "execution_count": 9
        }
      ],
      "source": [
        "news_full.head()"
      ]
    },
    {
      "cell_type": "code",
      "execution_count": 10,
      "metadata": {
        "id": "czfD9jctBU0R"
      },
      "outputs": [],
      "source": [
        "df_train = news_full[:2000]\n",
        "df_predict = news_full[2000:2200]\n",
        "df_predict.reset_index(drop=True, inplace=True)"
      ]
    },
    {
      "cell_type": "markdown",
      "metadata": {
        "id": "CVRWHeYh-hz1"
      },
      "source": [
        "# Initiate ROUGE Score"
      ]
    },
    {
      "cell_type": "code",
      "execution_count": 11,
      "metadata": {
        "id": "YMPHZRwz-msD"
      },
      "outputs": [],
      "source": [
        "from rouge_score import rouge_scorer\n",
        "\n",
        "# Inisialisasi scorer\n",
        "scorer = rouge_scorer.RougeScorer(['rouge1', 'rouge2', 'rougeL'], use_stemmer=True)\n",
        "\n",
        "\n",
        "# # Use Case\n",
        "# scores = scorer.score('REFERENCE', 'GENERATED')\n",
        "# print(scores['rouge1'].fmeasure)\n",
        "# print(scores['rouge2'].fmeasure)\n",
        "# print(scores['rougeL'].fmeasure)"
      ]
    },
    {
      "cell_type": "markdown",
      "metadata": {
        "id": "MW14VOKT8W69"
      },
      "source": [
        "# 1) Mencoba Model LLM LazarusNLP/IndoNanoT5-base dan Fine-Tune sesuai Dataset"
      ]
    },
    {
      "cell_type": "markdown",
      "metadata": {
        "id": "mVK35tXz85H7"
      },
      "source": [
        "## Load Model IndoNanoT5-base"
      ]
    },
    {
      "cell_type": "code",
      "execution_count": 12,
      "metadata": {
        "id": "UJ3HoGbtEnx-"
      },
      "outputs": [],
      "source": [
        "from transformers import AutoTokenizer, AutoModelForSeq2SeqLM\n",
        "\n",
        "model_checkpoint = \"LazarusNLP/IndoNanoT5-base\""
      ]
    },
    {
      "cell_type": "code",
      "execution_count": 13,
      "metadata": {
        "colab": {
          "base_uri": "https://localhost:8080/",
          "height": 338,
          "referenced_widgets": [
            "6b6d09100426418390c05842881b1e6e",
            "85898d11393642679504baaaed5e175b",
            "59b250a1e73e4c74b3d87a6100d17613",
            "440d98eaf12a47c5941c831e066c78ce",
            "4a9cf260d91c48cd8a4f5147df6cd568",
            "b010c394644b4fafbcae210608ecdfbd",
            "d9d90f1cc9f047c2836f2276c6eb50c5",
            "6e20a18d72bc4698bdf699f4363f1e26",
            "4290e4c365424f40b4f6559a6aaa200c",
            "35c61041ec884189a157313323c9052e",
            "6b269b95c53a4d3f8136625083c115e5",
            "122e53fc7dbb4f8e9176d765e9845eab",
            "4ea5237bb093436faf06d5d4244acad1",
            "095cfcd8c2fc4147ac59c0a74583d54e",
            "6a7e653cfa6f41d5883d736cc879d5c5",
            "1d4a700bbbca4690bf3edcaf0666424f",
            "42ebf54f19cf4690aa94099ac91cd4ce",
            "e5e0280ac18a4ac78b8ee481e391af12",
            "94949170554b4b5f8c0e3ae0831f432b",
            "9eb218e15a664dfdb2f6662abdc9409a",
            "50f101de83e34e79b7987f86aff6f2c7",
            "f253f9e58b684b3bb0dafdedbf91d660",
            "c49dfcb8f52f49e089e9f4b243181c7e",
            "f9b8dfbd1dbd4721b9938074251fd8ad",
            "91c7c0393d7e44dfab52b4fe930c5c59",
            "17b3d1d22dec4e95bd5ce775291ee925",
            "4d3a89b8afc74f9d8d45da77c03d1235",
            "2b49cd13dbde4ab3917347058f7fe323",
            "bf14563f6a9e4889894b4ef30a88df72",
            "40fb16cfdde242c28ce3acb5ff2f8cb5",
            "992a3a404e424d8c8e77cb9a14ced2f1",
            "267c98078000429ab7834c6fd0e1ef0b",
            "5fc28dbfb91948d5a108823441aa1628",
            "d891e4934fc0458bbce5c541f146dd8f",
            "041abefc5b654e0a9e6f231018551e04",
            "4333084a27c74fc5b5107cc5c1e48538",
            "d21b48b5fd654c03aa1de65cf68c8dff",
            "2267c846f4404351821f7553271429b5",
            "71628bf009da47db84147725eb2cadba",
            "524c57f7fa954095baacd7046f3df92f",
            "e3c53466acf24fcdb2f5884351a38506",
            "ddf30dce8ca740bea0b2f04a0f379170",
            "cecdcf63b90d40b9ace130986473e0e9",
            "0b5d28da6cb24563b6c581f14403404d",
            "506f6e71206943158f249b2ae61e3236",
            "7f731af9ee294a6382546515d97a25b9",
            "8f1dcff87eb04fc389e4fc9fd1f1cf10",
            "09fa365355b644849fcbc53b8c4901cb",
            "0de0c99a9596444fb752cf841ca45eee",
            "9b12cc3367e0461381039e620cd56fc9",
            "73afbe29d7274f0fa6b8d2bc84f2cdc6",
            "78a2106a594346c78eb6a2f99afc30d5",
            "779a9fc793a24d2ba45148e544e6a9d0",
            "5ee1e2ca1cd64eba94ba5bbcb606c30b",
            "9c8fb1b5fba44a4abf6eeb1f9b3eece0",
            "a4224b54a34f4b46a9745835424e466c",
            "16e70b76485344fa91784a2ec058fd88",
            "a0f2c2a287ee45ef99a13f9e5a1d70cb",
            "fd928d1c847f4c30867aea9133674e2b",
            "6c6b38eea859467cb34fc7bbe0e196e4",
            "23977f6c56dc44bc8ce02472cdf5e516",
            "cb3ef6f016de4d5cb8e5dc517192d202",
            "921097bca72041b8b6b59fe32d809584",
            "d696b50354ca4c80b1bde00ee37cb74c",
            "5e89667a38c643399c8880329903af01",
            "1ecf9968844442e18776b16f12cb9361"
          ]
        },
        "id": "Drck8hTg8qOF",
        "outputId": "1c20c894-51ff-4524-970b-8dde6dd67718"
      },
      "outputs": [
        {
          "output_type": "stream",
          "name": "stderr",
          "text": [
            "/usr/local/lib/python3.10/dist-packages/huggingface_hub/utils/_auth.py:94: UserWarning: \n",
            "The secret `HF_TOKEN` does not exist in your Colab secrets.\n",
            "To authenticate with the Hugging Face Hub, create a token in your settings tab (https://huggingface.co/settings/tokens), set it as secret in your Google Colab and restart your session.\n",
            "You will be able to reuse this secret in all of your notebooks.\n",
            "Please note that authentication is recommended but still optional to access public models or datasets.\n",
            "  warnings.warn(\n"
          ]
        },
        {
          "output_type": "display_data",
          "data": {
            "text/plain": [
              "tokenizer_config.json:   0%|          | 0.00/20.8k [00:00<?, ?B/s]"
            ],
            "application/vnd.jupyter.widget-view+json": {
              "version_major": 2,
              "version_minor": 0,
              "model_id": "6b6d09100426418390c05842881b1e6e"
            }
          },
          "metadata": {}
        },
        {
          "output_type": "display_data",
          "data": {
            "text/plain": [
              "tokenizer.json:   0%|          | 0.00/2.03M [00:00<?, ?B/s]"
            ],
            "application/vnd.jupyter.widget-view+json": {
              "version_major": 2,
              "version_minor": 0,
              "model_id": "122e53fc7dbb4f8e9176d765e9845eab"
            }
          },
          "metadata": {}
        },
        {
          "output_type": "display_data",
          "data": {
            "text/plain": [
              "special_tokens_map.json:   0%|          | 0.00/2.20k [00:00<?, ?B/s]"
            ],
            "application/vnd.jupyter.widget-view+json": {
              "version_major": 2,
              "version_minor": 0,
              "model_id": "c49dfcb8f52f49e089e9f4b243181c7e"
            }
          },
          "metadata": {}
        },
        {
          "output_type": "display_data",
          "data": {
            "text/plain": [
              "config.json:   0%|          | 0.00/775 [00:00<?, ?B/s]"
            ],
            "application/vnd.jupyter.widget-view+json": {
              "version_major": 2,
              "version_minor": 0,
              "model_id": "d891e4934fc0458bbce5c541f146dd8f"
            }
          },
          "metadata": {}
        },
        {
          "output_type": "display_data",
          "data": {
            "text/plain": [
              "model.safetensors:   0%|          | 0.00/990M [00:00<?, ?B/s]"
            ],
            "application/vnd.jupyter.widget-view+json": {
              "version_major": 2,
              "version_minor": 0,
              "model_id": "506f6e71206943158f249b2ae61e3236"
            }
          },
          "metadata": {}
        },
        {
          "output_type": "display_data",
          "data": {
            "text/plain": [
              "generation_config.json:   0%|          | 0.00/142 [00:00<?, ?B/s]"
            ],
            "application/vnd.jupyter.widget-view+json": {
              "version_major": 2,
              "version_minor": 0,
              "model_id": "a4224b54a34f4b46a9745835424e466c"
            }
          },
          "metadata": {}
        }
      ],
      "source": [
        "tokenizer_base = AutoTokenizer.from_pretrained(model_checkpoint)\n",
        "model_base = AutoModelForSeq2SeqLM.from_pretrained(model_checkpoint)"
      ]
    },
    {
      "cell_type": "code",
      "execution_count": 14,
      "metadata": {
        "colab": {
          "base_uri": "https://localhost:8080/"
        },
        "id": "HzDev0Nr1TOH",
        "outputId": "c5d43a89-5922-46a1-c917-143c30b35412"
      },
      "outputs": [
        {
          "output_type": "execute_result",
          "data": {
            "text/plain": [
              "T5ForConditionalGeneration(\n",
              "  (shared): Embedding(32128, 768)\n",
              "  (encoder): T5Stack(\n",
              "    (embed_tokens): Embedding(32128, 768)\n",
              "    (block): ModuleList(\n",
              "      (0): T5Block(\n",
              "        (layer): ModuleList(\n",
              "          (0): T5LayerSelfAttention(\n",
              "            (SelfAttention): T5Attention(\n",
              "              (q): Linear(in_features=768, out_features=768, bias=False)\n",
              "              (k): Linear(in_features=768, out_features=768, bias=False)\n",
              "              (v): Linear(in_features=768, out_features=768, bias=False)\n",
              "              (o): Linear(in_features=768, out_features=768, bias=False)\n",
              "              (relative_attention_bias): Embedding(32, 12)\n",
              "            )\n",
              "            (layer_norm): T5LayerNorm()\n",
              "            (dropout): Dropout(p=0.1, inplace=False)\n",
              "          )\n",
              "          (1): T5LayerFF(\n",
              "            (DenseReluDense): T5DenseGatedActDense(\n",
              "              (wi_0): Linear(in_features=768, out_features=2048, bias=False)\n",
              "              (wi_1): Linear(in_features=768, out_features=2048, bias=False)\n",
              "              (wo): Linear(in_features=2048, out_features=768, bias=False)\n",
              "              (dropout): Dropout(p=0.1, inplace=False)\n",
              "              (act): NewGELUActivation()\n",
              "            )\n",
              "            (layer_norm): T5LayerNorm()\n",
              "            (dropout): Dropout(p=0.1, inplace=False)\n",
              "          )\n",
              "        )\n",
              "      )\n",
              "      (1-11): 11 x T5Block(\n",
              "        (layer): ModuleList(\n",
              "          (0): T5LayerSelfAttention(\n",
              "            (SelfAttention): T5Attention(\n",
              "              (q): Linear(in_features=768, out_features=768, bias=False)\n",
              "              (k): Linear(in_features=768, out_features=768, bias=False)\n",
              "              (v): Linear(in_features=768, out_features=768, bias=False)\n",
              "              (o): Linear(in_features=768, out_features=768, bias=False)\n",
              "            )\n",
              "            (layer_norm): T5LayerNorm()\n",
              "            (dropout): Dropout(p=0.1, inplace=False)\n",
              "          )\n",
              "          (1): T5LayerFF(\n",
              "            (DenseReluDense): T5DenseGatedActDense(\n",
              "              (wi_0): Linear(in_features=768, out_features=2048, bias=False)\n",
              "              (wi_1): Linear(in_features=768, out_features=2048, bias=False)\n",
              "              (wo): Linear(in_features=2048, out_features=768, bias=False)\n",
              "              (dropout): Dropout(p=0.1, inplace=False)\n",
              "              (act): NewGELUActivation()\n",
              "            )\n",
              "            (layer_norm): T5LayerNorm()\n",
              "            (dropout): Dropout(p=0.1, inplace=False)\n",
              "          )\n",
              "        )\n",
              "      )\n",
              "    )\n",
              "    (final_layer_norm): T5LayerNorm()\n",
              "    (dropout): Dropout(p=0.1, inplace=False)\n",
              "  )\n",
              "  (decoder): T5Stack(\n",
              "    (embed_tokens): Embedding(32128, 768)\n",
              "    (block): ModuleList(\n",
              "      (0): T5Block(\n",
              "        (layer): ModuleList(\n",
              "          (0): T5LayerSelfAttention(\n",
              "            (SelfAttention): T5Attention(\n",
              "              (q): Linear(in_features=768, out_features=768, bias=False)\n",
              "              (k): Linear(in_features=768, out_features=768, bias=False)\n",
              "              (v): Linear(in_features=768, out_features=768, bias=False)\n",
              "              (o): Linear(in_features=768, out_features=768, bias=False)\n",
              "              (relative_attention_bias): Embedding(32, 12)\n",
              "            )\n",
              "            (layer_norm): T5LayerNorm()\n",
              "            (dropout): Dropout(p=0.1, inplace=False)\n",
              "          )\n",
              "          (1): T5LayerCrossAttention(\n",
              "            (EncDecAttention): T5Attention(\n",
              "              (q): Linear(in_features=768, out_features=768, bias=False)\n",
              "              (k): Linear(in_features=768, out_features=768, bias=False)\n",
              "              (v): Linear(in_features=768, out_features=768, bias=False)\n",
              "              (o): Linear(in_features=768, out_features=768, bias=False)\n",
              "            )\n",
              "            (layer_norm): T5LayerNorm()\n",
              "            (dropout): Dropout(p=0.1, inplace=False)\n",
              "          )\n",
              "          (2): T5LayerFF(\n",
              "            (DenseReluDense): T5DenseGatedActDense(\n",
              "              (wi_0): Linear(in_features=768, out_features=2048, bias=False)\n",
              "              (wi_1): Linear(in_features=768, out_features=2048, bias=False)\n",
              "              (wo): Linear(in_features=2048, out_features=768, bias=False)\n",
              "              (dropout): Dropout(p=0.1, inplace=False)\n",
              "              (act): NewGELUActivation()\n",
              "            )\n",
              "            (layer_norm): T5LayerNorm()\n",
              "            (dropout): Dropout(p=0.1, inplace=False)\n",
              "          )\n",
              "        )\n",
              "      )\n",
              "      (1-11): 11 x T5Block(\n",
              "        (layer): ModuleList(\n",
              "          (0): T5LayerSelfAttention(\n",
              "            (SelfAttention): T5Attention(\n",
              "              (q): Linear(in_features=768, out_features=768, bias=False)\n",
              "              (k): Linear(in_features=768, out_features=768, bias=False)\n",
              "              (v): Linear(in_features=768, out_features=768, bias=False)\n",
              "              (o): Linear(in_features=768, out_features=768, bias=False)\n",
              "            )\n",
              "            (layer_norm): T5LayerNorm()\n",
              "            (dropout): Dropout(p=0.1, inplace=False)\n",
              "          )\n",
              "          (1): T5LayerCrossAttention(\n",
              "            (EncDecAttention): T5Attention(\n",
              "              (q): Linear(in_features=768, out_features=768, bias=False)\n",
              "              (k): Linear(in_features=768, out_features=768, bias=False)\n",
              "              (v): Linear(in_features=768, out_features=768, bias=False)\n",
              "              (o): Linear(in_features=768, out_features=768, bias=False)\n",
              "            )\n",
              "            (layer_norm): T5LayerNorm()\n",
              "            (dropout): Dropout(p=0.1, inplace=False)\n",
              "          )\n",
              "          (2): T5LayerFF(\n",
              "            (DenseReluDense): T5DenseGatedActDense(\n",
              "              (wi_0): Linear(in_features=768, out_features=2048, bias=False)\n",
              "              (wi_1): Linear(in_features=768, out_features=2048, bias=False)\n",
              "              (wo): Linear(in_features=2048, out_features=768, bias=False)\n",
              "              (dropout): Dropout(p=0.1, inplace=False)\n",
              "              (act): NewGELUActivation()\n",
              "            )\n",
              "            (layer_norm): T5LayerNorm()\n",
              "            (dropout): Dropout(p=0.1, inplace=False)\n",
              "          )\n",
              "        )\n",
              "      )\n",
              "    )\n",
              "    (final_layer_norm): T5LayerNorm()\n",
              "    (dropout): Dropout(p=0.1, inplace=False)\n",
              "  )\n",
              "  (lm_head): Linear(in_features=768, out_features=32128, bias=False)\n",
              ")"
            ]
          },
          "metadata": {},
          "execution_count": 14
        }
      ],
      "source": [
        "model_base.eval()  # Mengatur model ke mode evaluasi"
      ]
    },
    {
      "cell_type": "markdown",
      "metadata": {
        "id": "LBFPZMoR9WoL"
      },
      "source": [
        "## Mencoba Generate Ringkasan dari Base Model IndoNanoT5"
      ]
    },
    {
      "cell_type": "code",
      "execution_count": 15,
      "metadata": {
        "colab": {
          "base_uri": "https://localhost:8080/"
        },
        "id": "knjTPawS9eV1",
        "outputId": "79c2d344-0cf0-4f58-e1f3-1e898a578c69"
      },
      "outputs": [
        {
          "output_type": "stream",
          "name": "stdout",
          "text": [
            "Jakarta Baru memiliki sepasang anak kembar ternyata bukan satu satunya kabar menyenangkan dari Jay Z Suami Beyonce itu mengumumkan akan merilis album baru yang bertajuk 4 44 pada akhir Juni Melansir AFP kabar itu diumumkan Senin 19 6 waktu Amerika Serikat melalui layanan musik daring yang dimiliki Jay Z Tidal Album itu pun tersedia secara eksklusif untuk pelanggan Tidal dan Sprint perusahaan telekomunikasi yang membeli 30 persen saham Tidal Sebuah trailer selama 30 detik menampilkan lirik dari sang rapper yang mengindikasikan sebuah album baru di tengah berita Beyonce telah melahirkan Senin 19 6 Trailer tersebut kemudian dikonfirmasi oleh Tidal dan Sprint pada tengah malam Jay Z adalah ikon global dan kami memberikan pelanggan kami kesempatan luar biasa untuk berada di antara orang pertama yang dapat menikmati album barunya Jay Z 4 44 kata CEO Sprint Marcelo Claure dalam pernyataannya Sebelumnya rumor Jay Z akan merilis album baru sudah tersiar setelah berbagai publikasi bertuliskan 4 44 muncul di internet dan beberapa media Tanda itu kemudian berubah menjadi iklan berisi film misterius yang dibintangi Muhammad Ali Lupita Nyong O dan Danny Glover Klip terbaru menggambarkan visual yang serupa dan ditutup dengan empat baris sajak dari Jay Z Album 4 44 menjadi karya pertama Jay Z usai merilis album Magna Carta Holy Grail pada 2013 lalu Meski penggemar sudah memiliki tanggal perilisan namun masih belum jelas terkait album dan filmnya akan terpisah atau menjadi album visual seperti Lemonade yang dirilis Beyonce tahun lalu\n",
            "Baru memiliki sepasang anak kembar ternyata bukan satu satunya kabar menyenangkan dari Jay Z Suami Beyonce itu mengumumkan akan merilis album baru yang bertajuk 4 44 pada akhir Juni Kabar itu diumumkanmelalui layanan musik daring yang dimiliki Jay Z Tidal Album itu pun tersedia secara eksklusif untuk pelanggan Tidal dan Sprint perusahaan telekomunikasi yang membeli 30 persen saham Tidal\n"
          ]
        }
      ],
      "source": [
        "teks_berita = df_predict['text'][0]\n",
        "referensi_ringkasan = df_predict['summary'][0]\n",
        "\n",
        "print(teks_berita)\n",
        "print(referensi_ringkasan)"
      ]
    },
    {
      "cell_type": "code",
      "execution_count": 32,
      "metadata": {
        "colab": {
          "base_uri": "https://localhost:8080/"
        },
        "id": "WNs6grZj9aIU",
        "outputId": "66d457a0-0434-40c2-c5e0-dbeb137d4057"
      },
      "outputs": [
        {
          "output_type": "stream",
          "name": "stdout",
          "text": [
            "Berita:  Jakarta Baru memiliki sepasang anak kembar ternyata bukan satu satunya kabar menyenangkan dari Jay Z Suami Beyonce itu mengumumkan akan merilis album baru yang bertajuk 4 44 pada akhir Juni Melansir AFP kabar itu diumumkan Senin 19 6 waktu Amerika Serikat melalui layanan musik daring yang dimiliki Jay Z Tidal Album itu pun tersedia secara eksklusif untuk pelanggan Tidal dan Sprint perusahaan telekomunikasi yang membeli 30 persen saham Tidal Sebuah trailer selama 30 detik menampilkan lirik dari sang rapper yang mengindikasikan sebuah album baru di tengah berita Beyonce telah melahirkan Senin 19 6 Trailer tersebut kemudian dikonfirmasi oleh Tidal dan Sprint pada tengah malam Jay Z adalah ikon global dan kami memberikan pelanggan kami kesempatan luar biasa untuk berada di antara orang pertama yang dapat menikmati album barunya Jay Z 4 44 kata CEO Sprint Marcelo Claure dalam pernyataannya Sebelumnya rumor Jay Z akan merilis album baru sudah tersiar setelah berbagai publikasi bertuliskan 4 44 muncul di internet dan beberapa media Tanda itu kemudian berubah menjadi iklan berisi film misterius yang dibintangi Muhammad Ali Lupita Nyong O dan Danny Glover Klip terbaru menggambarkan visual yang serupa dan ditutup dengan empat baris sajak dari Jay Z Album 4 44 menjadi karya pertama Jay Z usai merilis album Magna Carta Holy Grail pada 2013 lalu Meski penggemar sudah memiliki tanggal perilisan namun masih belum jelas terkait album dan filmnya akan terpisah atau menjadi album visual seperti Lemonade yang dirilis Beyonce tahun lalu\n",
            "Referensi:  Baru memiliki sepasang anak kembar ternyata bukan satu satunya kabar menyenangkan dari Jay Z Suami Beyonce itu mengumumkan akan merilis album baru yang bertajuk 4 44 pada akhir Juni Kabar itu diumumkanmelalui layanan musik daring yang dimiliki Jay Z Tidal Album itu pun tersedia secara eksklusif untuk pelanggan Tidal dan Sprint perusahaan telekomunikasi yang membeli 30 persen saham Tidal\n",
            "Ringkasan Hasil Pre-Trained: 4 44 4 44 yang dirilis pada 2013 lalu yang dirilis pada 2013 lalu yang dirilis pada 2013 lalu yang dirilis pada 2013 lalu yang yang baru dirilis 1 2 1 \n"
          ]
        }
      ],
      "source": [
        "# Teks input\n",
        "input_text = \"Rangkum teks berita ini: \" + teks_berita\n",
        "\n",
        "# Tokenisasi\n",
        "input_ids = tokenizer_base.encode(input_text, return_tensors='pt')\n",
        "\n",
        "# Menghasilkan ringkasan\n",
        "output_ids = model_base.generate(input_ids, max_length=70)\n",
        "output_text = tokenizer_base.decode(output_ids[0], skip_special_tokens=True)\n",
        "\n",
        "print(\"Berita: \", teks_berita)\n",
        "print(\"Referensi: \", referensi_ringkasan)\n",
        "print(\"Ringkasan Hasil Pre-Trained:\", output_text)"
      ]
    },
    {
      "cell_type": "code",
      "execution_count": 33,
      "metadata": {
        "colab": {
          "base_uri": "https://localhost:8080/"
        },
        "id": "Pyl-TncY_OlD",
        "outputId": "c71164e2-79f5-4198-de18-3d6d54f8bc32"
      },
      "outputs": [
        {
          "output_type": "stream",
          "name": "stdout",
          "text": [
            "0.15555555555555556\n",
            "0.022727272727272728\n",
            "0.1111111111111111\n"
          ]
        }
      ],
      "source": [
        "scores = scorer.score(referensi_ringkasan, output_text)\n",
        "print(scores['rouge1'].fmeasure)\n",
        "print(scores['rouge2'].fmeasure)\n",
        "print(scores['rougeL'].fmeasure)"
      ]
    },
    {
      "cell_type": "markdown",
      "metadata": {
        "id": "oSLDt1iM_a7b"
      },
      "source": [
        "## Fine Tuning Model IndoNanoT5-base"
      ]
    },
    {
      "cell_type": "code",
      "execution_count": 18,
      "metadata": {
        "colab": {
          "base_uri": "https://localhost:8080/"
        },
        "id": "OXgyYyKM_dT8",
        "outputId": "57e3d1bd-af7b-4467-9ab8-9a5d7e988b8e"
      },
      "outputs": [
        {
          "output_type": "stream",
          "name": "stderr",
          "text": [
            "/usr/local/lib/python3.10/dist-packages/transformers/tokenization_utils_base.py:3953: UserWarning: `as_target_tokenizer` is deprecated and will be removed in v5 of Transformers. You can tokenize your labels by using the argument `text_target` of the regular `__call__` method (either in the same call as your input texts if you use the same keyword arguments, or in a separate call.\n",
            "  warnings.warn(\n"
          ]
        }
      ],
      "source": [
        "from transformers import AutoTokenizer, AutoModelForSeq2SeqLM, Trainer, TrainingArguments, DataCollatorWithPadding\n",
        "\n",
        "tokenizer_ft = AutoTokenizer.from_pretrained(model_checkpoint)\n",
        "\n",
        "def tokenize_function(examples):\n",
        "    # Tokenisasi teks input\n",
        "    model_inputs = tokenizer_ft(\n",
        "        examples['text'],\n",
        "        max_length=512,\n",
        "        truncation=True,\n",
        "        padding='max_length'  # Add padding to max_length\n",
        "    )\n",
        "    # Tokenisasi target\n",
        "    with tokenizer_ft.as_target_tokenizer():\n",
        "        labels = tokenizer_ft(\n",
        "            examples['summary'],\n",
        "            max_length=128,\n",
        "            truncation=True,\n",
        "            padding='max_length'  # Add padding to max_length\n",
        "        )\n",
        "    model_inputs['labels'] = labels['input_ids']\n",
        "    return model_inputs\n",
        "\n",
        "tokenized_dataset = df_train.apply(tokenize_function, axis=1)"
      ]
    },
    {
      "cell_type": "code",
      "execution_count": 19,
      "metadata": {
        "colab": {
          "base_uri": "https://localhost:8080/",
          "height": 241
        },
        "id": "lCRBEm-UB0a4",
        "outputId": "0a054081-d0d0-4642-9942-2b7f56494211"
      },
      "outputs": [
        {
          "output_type": "execute_result",
          "data": {
            "text/plain": [
              "0    [input_ids, attention_mask, labels]\n",
              "1    [input_ids, attention_mask, labels]\n",
              "2    [input_ids, attention_mask, labels]\n",
              "3    [input_ids, attention_mask, labels]\n",
              "4    [input_ids, attention_mask, labels]\n",
              "dtype: object"
            ],
            "text/html": [
              "<div>\n",
              "<style scoped>\n",
              "    .dataframe tbody tr th:only-of-type {\n",
              "        vertical-align: middle;\n",
              "    }\n",
              "\n",
              "    .dataframe tbody tr th {\n",
              "        vertical-align: top;\n",
              "    }\n",
              "\n",
              "    .dataframe thead th {\n",
              "        text-align: right;\n",
              "    }\n",
              "</style>\n",
              "<table border=\"1\" class=\"dataframe\">\n",
              "  <thead>\n",
              "    <tr style=\"text-align: right;\">\n",
              "      <th></th>\n",
              "      <th>0</th>\n",
              "    </tr>\n",
              "  </thead>\n",
              "  <tbody>\n",
              "    <tr>\n",
              "      <th>0</th>\n",
              "      <td>[input_ids, attention_mask, labels]</td>\n",
              "    </tr>\n",
              "    <tr>\n",
              "      <th>1</th>\n",
              "      <td>[input_ids, attention_mask, labels]</td>\n",
              "    </tr>\n",
              "    <tr>\n",
              "      <th>2</th>\n",
              "      <td>[input_ids, attention_mask, labels]</td>\n",
              "    </tr>\n",
              "    <tr>\n",
              "      <th>3</th>\n",
              "      <td>[input_ids, attention_mask, labels]</td>\n",
              "    </tr>\n",
              "    <tr>\n",
              "      <th>4</th>\n",
              "      <td>[input_ids, attention_mask, labels]</td>\n",
              "    </tr>\n",
              "  </tbody>\n",
              "</table>\n",
              "</div><br><label><b>dtype:</b> object</label>"
            ]
          },
          "metadata": {},
          "execution_count": 19
        }
      ],
      "source": [
        "tokenized_dataset.head()"
      ]
    },
    {
      "cell_type": "code",
      "execution_count": 20,
      "metadata": {
        "id": "JKRSzODNCUOJ"
      },
      "outputs": [],
      "source": [
        "train_dataset = tokenized_dataset[:1800]\n",
        "eval_dataset = tokenized_dataset[1800:2000]  # atau 'validation' jika ada\n",
        "eval_dataset.reset_index(drop=True, inplace=True)"
      ]
    },
    {
      "cell_type": "code",
      "execution_count": 21,
      "metadata": {
        "colab": {
          "base_uri": "https://localhost:8080/",
          "height": 241
        },
        "id": "PrTcvVgRFt0-",
        "outputId": "925fd7a4-2555-423f-95cb-0d8dd3f05e0f"
      },
      "outputs": [
        {
          "output_type": "execute_result",
          "data": {
            "text/plain": [
              "0    [input_ids, attention_mask, labels]\n",
              "1    [input_ids, attention_mask, labels]\n",
              "2    [input_ids, attention_mask, labels]\n",
              "3    [input_ids, attention_mask, labels]\n",
              "4    [input_ids, attention_mask, labels]\n",
              "dtype: object"
            ],
            "text/html": [
              "<div>\n",
              "<style scoped>\n",
              "    .dataframe tbody tr th:only-of-type {\n",
              "        vertical-align: middle;\n",
              "    }\n",
              "\n",
              "    .dataframe tbody tr th {\n",
              "        vertical-align: top;\n",
              "    }\n",
              "\n",
              "    .dataframe thead th {\n",
              "        text-align: right;\n",
              "    }\n",
              "</style>\n",
              "<table border=\"1\" class=\"dataframe\">\n",
              "  <thead>\n",
              "    <tr style=\"text-align: right;\">\n",
              "      <th></th>\n",
              "      <th>0</th>\n",
              "    </tr>\n",
              "  </thead>\n",
              "  <tbody>\n",
              "    <tr>\n",
              "      <th>0</th>\n",
              "      <td>[input_ids, attention_mask, labels]</td>\n",
              "    </tr>\n",
              "    <tr>\n",
              "      <th>1</th>\n",
              "      <td>[input_ids, attention_mask, labels]</td>\n",
              "    </tr>\n",
              "    <tr>\n",
              "      <th>2</th>\n",
              "      <td>[input_ids, attention_mask, labels]</td>\n",
              "    </tr>\n",
              "    <tr>\n",
              "      <th>3</th>\n",
              "      <td>[input_ids, attention_mask, labels]</td>\n",
              "    </tr>\n",
              "    <tr>\n",
              "      <th>4</th>\n",
              "      <td>[input_ids, attention_mask, labels]</td>\n",
              "    </tr>\n",
              "  </tbody>\n",
              "</table>\n",
              "</div><br><label><b>dtype:</b> object</label>"
            ]
          },
          "metadata": {},
          "execution_count": 21
        }
      ],
      "source": [
        "train_dataset.head()"
      ]
    },
    {
      "cell_type": "code",
      "execution_count": 22,
      "metadata": {
        "colab": {
          "base_uri": "https://localhost:8080/",
          "height": 241
        },
        "id": "82EpPflnFyKv",
        "outputId": "653f5057-b94e-4ca1-9a53-048786527c3e"
      },
      "outputs": [
        {
          "output_type": "execute_result",
          "data": {
            "text/plain": [
              "0    [input_ids, attention_mask, labels]\n",
              "1    [input_ids, attention_mask, labels]\n",
              "2    [input_ids, attention_mask, labels]\n",
              "3    [input_ids, attention_mask, labels]\n",
              "4    [input_ids, attention_mask, labels]\n",
              "dtype: object"
            ],
            "text/html": [
              "<div>\n",
              "<style scoped>\n",
              "    .dataframe tbody tr th:only-of-type {\n",
              "        vertical-align: middle;\n",
              "    }\n",
              "\n",
              "    .dataframe tbody tr th {\n",
              "        vertical-align: top;\n",
              "    }\n",
              "\n",
              "    .dataframe thead th {\n",
              "        text-align: right;\n",
              "    }\n",
              "</style>\n",
              "<table border=\"1\" class=\"dataframe\">\n",
              "  <thead>\n",
              "    <tr style=\"text-align: right;\">\n",
              "      <th></th>\n",
              "      <th>0</th>\n",
              "    </tr>\n",
              "  </thead>\n",
              "  <tbody>\n",
              "    <tr>\n",
              "      <th>0</th>\n",
              "      <td>[input_ids, attention_mask, labels]</td>\n",
              "    </tr>\n",
              "    <tr>\n",
              "      <th>1</th>\n",
              "      <td>[input_ids, attention_mask, labels]</td>\n",
              "    </tr>\n",
              "    <tr>\n",
              "      <th>2</th>\n",
              "      <td>[input_ids, attention_mask, labels]</td>\n",
              "    </tr>\n",
              "    <tr>\n",
              "      <th>3</th>\n",
              "      <td>[input_ids, attention_mask, labels]</td>\n",
              "    </tr>\n",
              "    <tr>\n",
              "      <th>4</th>\n",
              "      <td>[input_ids, attention_mask, labels]</td>\n",
              "    </tr>\n",
              "  </tbody>\n",
              "</table>\n",
              "</div><br><label><b>dtype:</b> object</label>"
            ]
          },
          "metadata": {},
          "execution_count": 22
        }
      ],
      "source": [
        "eval_dataset.head()"
      ]
    },
    {
      "cell_type": "markdown",
      "metadata": {
        "id": "CIiWVzJdCA3C"
      },
      "source": [
        "### Mengatur Parameter Model untuk Fine-Tuning"
      ]
    },
    {
      "cell_type": "code",
      "execution_count": 58,
      "metadata": {
        "id": "j80cR0poAvWr"
      },
      "outputs": [],
      "source": [
        "# Parameter\n",
        "learning_rate = 5e-5  # Laju pembelajaran\n",
        "train_batch_size = 6    # Ukuran batch untuk pelatihan\n",
        "epochs = 10              # Jumlah epoch\n",
        "weight_decay = 0.001      # Pengurangan bobot\n",
        "\n",
        "# Direktori untuk menyimpan hasil\n",
        "output_directory = f'./results_indonanot5_{learning_rate}_{train_batch_size}_{epochs}'"
      ]
    },
    {
      "cell_type": "code",
      "execution_count": 24,
      "metadata": {
        "colab": {
          "base_uri": "https://localhost:8080/"
        },
        "id": "DqvKh-3hCGlZ",
        "outputId": "53c8a185-6845-4f7d-8423-b36a9eee2827"
      },
      "outputs": [
        {
          "output_type": "stream",
          "name": "stderr",
          "text": [
            "/usr/local/lib/python3.10/dist-packages/transformers/training_args.py:1575: FutureWarning: `evaluation_strategy` is deprecated and will be removed in version 4.46 of 🤗 Transformers. Use `eval_strategy` instead\n",
            "  warnings.warn(\n"
          ]
        }
      ],
      "source": [
        "from transformers import T5ForConditionalGeneration, Trainer, TrainingArguments\n",
        "\n",
        "model_ft = AutoModelForSeq2SeqLM.from_pretrained(model_checkpoint)\n",
        "\n",
        "# Use DataCollatorWithPadding\n",
        "data_collator = DataCollatorWithPadding(tokenizer=tokenizer_ft)\n",
        "\n",
        "training_args = TrainingArguments(\n",
        "    output_dir = output_directory,          # direktori untuk menyimpan model\n",
        "    evaluation_strategy=\"epoch\",     # evaluasi setiap epoch\n",
        "    learning_rate=learning_rate,\n",
        "    per_device_train_batch_size=train_batch_size,   # ukuran batch untuk pelatihan\n",
        "    num_train_epochs=epochs,              # jumlah epoch\n",
        "    weight_decay=weight_decay,               # pengurangan bobot\n",
        ")\n",
        "\n",
        "\n",
        "trainer = Trainer(\n",
        "    model=model_ft,\n",
        "    args=training_args,\n",
        "    train_dataset=train_dataset,\n",
        "    eval_dataset=eval_dataset,\n",
        "    data_collator=data_collator,  # Use the data collator\n",
        ")"
      ]
    },
    {
      "cell_type": "markdown",
      "metadata": {
        "id": "n1LEtpOsCh5x"
      },
      "source": [
        "### Melakukan Re-Train untuk Fine-tuning"
      ]
    },
    {
      "cell_type": "code",
      "execution_count": 25,
      "metadata": {
        "colab": {
          "base_uri": "https://localhost:8080/",
          "height": 678
        },
        "id": "LO0HKXmxChSp",
        "outputId": "2fd46803-43fe-4350-d2be-bd3c8c1bf290"
      },
      "outputs": [
        {
          "output_type": "stream",
          "name": "stderr",
          "text": [
            "\u001b[34m\u001b[1mwandb\u001b[0m: \u001b[33mWARNING\u001b[0m The `run_name` is currently set to the same value as `TrainingArguments.output_dir`. If this was not intended, please specify a different run name by setting the `TrainingArguments.run_name` parameter.\n",
            "\u001b[34m\u001b[1mwandb\u001b[0m: Using wandb-core as the SDK backend.  Please refer to https://wandb.me/wandb-core for more information.\n"
          ]
        },
        {
          "output_type": "display_data",
          "data": {
            "text/plain": [
              "<IPython.core.display.Javascript object>"
            ],
            "application/javascript": [
              "\n",
              "        window._wandbApiKey = new Promise((resolve, reject) => {\n",
              "            function loadScript(url) {\n",
              "            return new Promise(function(resolve, reject) {\n",
              "                let newScript = document.createElement(\"script\");\n",
              "                newScript.onerror = reject;\n",
              "                newScript.onload = resolve;\n",
              "                document.body.appendChild(newScript);\n",
              "                newScript.src = url;\n",
              "            });\n",
              "            }\n",
              "            loadScript(\"https://cdn.jsdelivr.net/npm/postmate/build/postmate.min.js\").then(() => {\n",
              "            const iframe = document.createElement('iframe')\n",
              "            iframe.style.cssText = \"width:0;height:0;border:none\"\n",
              "            document.body.appendChild(iframe)\n",
              "            const handshake = new Postmate({\n",
              "                container: iframe,\n",
              "                url: 'https://wandb.ai/authorize'\n",
              "            });\n",
              "            const timeout = setTimeout(() => reject(\"Couldn't auto authenticate\"), 5000)\n",
              "            handshake.then(function(child) {\n",
              "                child.on('authorize', data => {\n",
              "                    clearTimeout(timeout)\n",
              "                    resolve(data)\n",
              "                });\n",
              "            });\n",
              "            })\n",
              "        });\n",
              "    "
            ]
          },
          "metadata": {}
        },
        {
          "output_type": "stream",
          "name": "stderr",
          "text": [
            "\u001b[34m\u001b[1mwandb\u001b[0m: Logging into wandb.ai. (Learn how to deploy a W&B server locally: https://wandb.me/wandb-server)\n",
            "\u001b[34m\u001b[1mwandb\u001b[0m: You can find your API key in your browser here: https://wandb.ai/authorize\n",
            "wandb: Paste an API key from your profile and hit enter, or press ctrl+c to quit:"
          ]
        },
        {
          "name": "stdout",
          "output_type": "stream",
          "text": [
            " ··········\n"
          ]
        },
        {
          "output_type": "stream",
          "name": "stderr",
          "text": [
            "\u001b[34m\u001b[1mwandb\u001b[0m: Appending key for api.wandb.ai to your netrc file: /root/.netrc\n"
          ]
        },
        {
          "output_type": "display_data",
          "data": {
            "text/plain": [
              "<IPython.core.display.HTML object>"
            ],
            "text/html": [
              "Tracking run with wandb version 0.19.1"
            ]
          },
          "metadata": {}
        },
        {
          "output_type": "display_data",
          "data": {
            "text/plain": [
              "<IPython.core.display.HTML object>"
            ],
            "text/html": [
              "Run data is saved locally in <code>/content/wandb/run-20241220_063145-6j218c6n</code>"
            ]
          },
          "metadata": {}
        },
        {
          "output_type": "display_data",
          "data": {
            "text/plain": [
              "<IPython.core.display.HTML object>"
            ],
            "text/html": [
              "Syncing run <strong><a href='https://wandb.ai/m-rayhan-nur-universitas-pendidikan-indonesia/huggingface/runs/6j218c6n' target=\"_blank\">./results_indonanot5_5e-05_6_10</a></strong> to <a href='https://wandb.ai/m-rayhan-nur-universitas-pendidikan-indonesia/huggingface' target=\"_blank\">Weights & Biases</a> (<a href='https://wandb.me/developer-guide' target=\"_blank\">docs</a>)<br>"
            ]
          },
          "metadata": {}
        },
        {
          "output_type": "display_data",
          "data": {
            "text/plain": [
              "<IPython.core.display.HTML object>"
            ],
            "text/html": [
              " View project at <a href='https://wandb.ai/m-rayhan-nur-universitas-pendidikan-indonesia/huggingface' target=\"_blank\">https://wandb.ai/m-rayhan-nur-universitas-pendidikan-indonesia/huggingface</a>"
            ]
          },
          "metadata": {}
        },
        {
          "output_type": "display_data",
          "data": {
            "text/plain": [
              "<IPython.core.display.HTML object>"
            ],
            "text/html": [
              " View run at <a href='https://wandb.ai/m-rayhan-nur-universitas-pendidikan-indonesia/huggingface/runs/6j218c6n' target=\"_blank\">https://wandb.ai/m-rayhan-nur-universitas-pendidikan-indonesia/huggingface/runs/6j218c6n</a>"
            ]
          },
          "metadata": {}
        },
        {
          "output_type": "stream",
          "name": "stderr",
          "text": [
            "Passing a tuple of `past_key_values` is deprecated and will be removed in Transformers v4.48.0. You should pass an instance of `EncoderDecoderCache` instead, e.g. `past_key_values=EncoderDecoderCache.from_legacy_cache(past_key_values)`.\n"
          ]
        },
        {
          "output_type": "display_data",
          "data": {
            "text/plain": [
              "<IPython.core.display.HTML object>"
            ],
            "text/html": [
              "\n",
              "    <div>\n",
              "      \n",
              "      <progress value='3000' max='3000' style='width:300px; height:20px; vertical-align: middle;'></progress>\n",
              "      [3000/3000 1:00:51, Epoch 10/10]\n",
              "    </div>\n",
              "    <table border=\"1\" class=\"dataframe\">\n",
              "  <thead>\n",
              " <tr style=\"text-align: left;\">\n",
              "      <th>Epoch</th>\n",
              "      <th>Training Loss</th>\n",
              "      <th>Validation Loss</th>\n",
              "    </tr>\n",
              "  </thead>\n",
              "  <tbody>\n",
              "    <tr>\n",
              "      <td>1</td>\n",
              "      <td>No log</td>\n",
              "      <td>0.417902</td>\n",
              "    </tr>\n",
              "    <tr>\n",
              "      <td>2</td>\n",
              "      <td>0.802300</td>\n",
              "      <td>0.379284</td>\n",
              "    </tr>\n",
              "    <tr>\n",
              "      <td>3</td>\n",
              "      <td>0.802300</td>\n",
              "      <td>0.396192</td>\n",
              "    </tr>\n",
              "    <tr>\n",
              "      <td>4</td>\n",
              "      <td>0.293600</td>\n",
              "      <td>0.401993</td>\n",
              "    </tr>\n",
              "    <tr>\n",
              "      <td>5</td>\n",
              "      <td>0.187200</td>\n",
              "      <td>0.424517</td>\n",
              "    </tr>\n",
              "    <tr>\n",
              "      <td>6</td>\n",
              "      <td>0.187200</td>\n",
              "      <td>0.457529</td>\n",
              "    </tr>\n",
              "    <tr>\n",
              "      <td>7</td>\n",
              "      <td>0.117600</td>\n",
              "      <td>0.474406</td>\n",
              "    </tr>\n",
              "    <tr>\n",
              "      <td>8</td>\n",
              "      <td>0.117600</td>\n",
              "      <td>0.498432</td>\n",
              "    </tr>\n",
              "    <tr>\n",
              "      <td>9</td>\n",
              "      <td>0.079900</td>\n",
              "      <td>0.503454</td>\n",
              "    </tr>\n",
              "    <tr>\n",
              "      <td>10</td>\n",
              "      <td>0.062200</td>\n",
              "      <td>0.513108</td>\n",
              "    </tr>\n",
              "  </tbody>\n",
              "</table><p>"
            ]
          },
          "metadata": {}
        },
        {
          "output_type": "execute_result",
          "data": {
            "text/plain": [
              "TrainOutput(global_step=3000, training_loss=0.2571316140492757, metrics={'train_runtime': 3704.8172, 'train_samples_per_second': 4.859, 'train_steps_per_second': 0.81, 'total_flos': 1.2325632344064e+16, 'train_loss': 0.2571316140492757, 'epoch': 10.0})"
            ]
          },
          "metadata": {},
          "execution_count": 25
        }
      ],
      "source": [
        "trainer.train()"
      ]
    },
    {
      "cell_type": "code",
      "source": [
        "import matplotlib.pyplot as plt\n",
        "import pandas as pd\n",
        "\n",
        "# Prepare the data\n",
        "data = {\n",
        "    'Epoch': [1, 2, 3, 4, 5, 6, 7, 8, 9, 10],\n",
        "    'Training Loss': [None, 0.802300, 0.802300, 0.293600, 0.187200, 0.187200, 0.117600, 0.117600, 0.079900, 0.062200],\n",
        "    'Validation Loss': [0.417902, 0.379284, 0.396192, 0.401993, 0.424517, 0.457529, 0.474406, 0.498432, 0.503454, 0.513108]\n",
        "}\n",
        "\n",
        "# Create a DataFrame\n",
        "df = pd.DataFrame(data)\n",
        "\n",
        "# Fill missing values for plotting\n",
        "df['Validation Loss'].fillna(method='ffill', inplace=True)  # Forward fill for missing values\n",
        "\n",
        "# Plotting\n",
        "plt.figure(figsize=(10, 5))\n",
        "plt.plot(df['Epoch'], df['Training Loss'], label='Training Loss', marker='o', linestyle='-')\n",
        "plt.plot(df['Epoch'], df['Validation Loss'], label='Validation Loss', marker='o', linestyle='-')\n",
        "plt.title('Training and Validation Loss Over Epochs (FineTuning IndoNanoT5-Base)')\n",
        "plt.xlabel('Epoch')\n",
        "plt.ylabel('Loss')\n",
        "plt.xticks(df['Epoch'])  # Set x-ticks to be the epoch numbers\n",
        "plt.legend()\n",
        "plt.grid()\n",
        "plt.show()\n"
      ],
      "metadata": {
        "colab": {
          "base_uri": "https://localhost:8080/",
          "height": 671
        },
        "id": "VZ-I7mQRAZUV",
        "outputId": "8ea6e035-eda2-4bbc-d226-890228cf1acf"
      },
      "execution_count": 57,
      "outputs": [
        {
          "output_type": "stream",
          "name": "stderr",
          "text": [
            "<ipython-input-57-238ed54d08ff>:15: FutureWarning: A value is trying to be set on a copy of a DataFrame or Series through chained assignment using an inplace method.\n",
            "The behavior will change in pandas 3.0. This inplace method will never work because the intermediate object on which we are setting values always behaves as a copy.\n",
            "\n",
            "For example, when doing 'df[col].method(value, inplace=True)', try using 'df.method({col: value}, inplace=True)' or df[col] = df[col].method(value) instead, to perform the operation inplace on the original object.\n",
            "\n",
            "\n",
            "  df['Validation Loss'].fillna(method='ffill', inplace=True)  # Forward fill for missing values\n",
            "<ipython-input-57-238ed54d08ff>:15: FutureWarning: Series.fillna with 'method' is deprecated and will raise in a future version. Use obj.ffill() or obj.bfill() instead.\n",
            "  df['Validation Loss'].fillna(method='ffill', inplace=True)  # Forward fill for missing values\n"
          ]
        },
        {
          "output_type": "display_data",
          "data": {
            "text/plain": [
              "<Figure size 1000x500 with 1 Axes>"
            ],
            "image/png": "[encoded data removed]"
          },
          "metadata": {}
        }
      ]
    },
    {
      "cell_type": "markdown",
      "metadata": {
        "id": "bsggFNjcz3kv"
      },
      "source": [
        "### Menyimpan Model Hasil FineTune IndoNanoT5-base dengan Dataset Sendiri"
      ]
    },
    {
      "cell_type": "code",
      "execution_count": 59,
      "metadata": {
        "id": "_KC5jDnYLWiN"
      },
      "outputs": [],
      "source": [
        "model_ft_output_directory = f'./fine_tuned_model_indonanot5_{learning_rate}_{train_batch_size}_{epochs}'"
      ]
    },
    {
      "cell_type": "code",
      "execution_count": 60,
      "metadata": {
        "colab": {
          "base_uri": "https://localhost:8080/"
        },
        "id": "Kmec3aMczi63",
        "outputId": "432b228e-55d5-4d18-b96e-ddb3311e78b3"
      },
      "outputs": [
        {
          "output_type": "execute_result",
          "data": {
            "text/plain": [
              "('./fine_tuned_model_indonanot5_5e-05_6_10/tokenizer_config.json',\n",
              " './fine_tuned_model_indonanot5_5e-05_6_10/special_tokens_map.json',\n",
              " './fine_tuned_model_indonanot5_5e-05_6_10/tokenizer.json')"
            ]
          },
          "metadata": {},
          "execution_count": 60
        }
      ],
      "source": [
        "model_ft.save_pretrained(model_ft_output_directory)\n",
        "tokenizer_ft.save_pretrained(model_ft_output_directory)"
      ]
    },
    {
      "cell_type": "markdown",
      "metadata": {
        "id": "ogSLiKIsz8H-"
      },
      "source": [
        "### Mencoba Generate Summary dengan Model IndoNanoT5-base Hasil FineTune"
      ]
    },
    {
      "cell_type": "code",
      "execution_count": 35,
      "metadata": {
        "colab": {
          "base_uri": "https://localhost:8080/"
        },
        "id": "8cc3oKRwz_up",
        "outputId": "31258618-a130-404c-9b60-e9179e512cc7"
      },
      "outputs": [
        {
          "output_type": "stream",
          "name": "stdout",
          "text": [
            "Berita:  Jakarta Baru memiliki sepasang anak kembar ternyata bukan satu satunya kabar menyenangkan dari Jay Z Suami Beyonce itu mengumumkan akan merilis album baru yang bertajuk 4 44 pada akhir Juni Melansir AFP kabar itu diumumkan Senin 19 6 waktu Amerika Serikat melalui layanan musik daring yang dimiliki Jay Z Tidal Album itu pun tersedia secara eksklusif untuk pelanggan Tidal dan Sprint perusahaan telekomunikasi yang membeli 30 persen saham Tidal Sebuah trailer selama 30 detik menampilkan lirik dari sang rapper yang mengindikasikan sebuah album baru di tengah berita Beyonce telah melahirkan Senin 19 6 Trailer tersebut kemudian dikonfirmasi oleh Tidal dan Sprint pada tengah malam Jay Z adalah ikon global dan kami memberikan pelanggan kami kesempatan luar biasa untuk berada di antara orang pertama yang dapat menikmati album barunya Jay Z 4 44 kata CEO Sprint Marcelo Claure dalam pernyataannya Sebelumnya rumor Jay Z akan merilis album baru sudah tersiar setelah berbagai publikasi bertuliskan 4 44 muncul di internet dan beberapa media Tanda itu kemudian berubah menjadi iklan berisi film misterius yang dibintangi Muhammad Ali Lupita Nyong O dan Danny Glover Klip terbaru menggambarkan visual yang serupa dan ditutup dengan empat baris sajak dari Jay Z Album 4 44 menjadi karya pertama Jay Z usai merilis album Magna Carta Holy Grail pada 2013 lalu Meski penggemar sudah memiliki tanggal perilisan namun masih belum jelas terkait album dan filmnya akan terpisah atau menjadi album visual seperti Lemonade yang dirilis Beyonce tahun lalu\n",
            "Referensi:  Baru memiliki sepasang anak kembar ternyata bukan satu satunya kabar menyenangkan dari Jay Z Suami Beyonce itu mengumumkan akan merilis album baru yang bertajuk 4 44 pada akhir Juni Kabar itu diumumkanmelalui layanan musik daring yang dimiliki Jay Z Tidal Album itu pun tersedia secara eksklusif untuk pelanggan Tidal dan Sprint perusahaan telekomunikasi yang membeli 30 persen saham Tidal\n",
            "Ringkasan Hasil Fine Tune: baru memiliki sepasang anak kembar ternyata bukan satu satunya kabar menyenangkan dari jay z suami beyonce itu mengumumkan akan merilis album baru yang bertajuk 4 44 pada akhir juni melansir afp kabar itu diumumkan senin 19 6 waktu amerika serikat melalui layanan musik daring yang dimiliki jay z tidal album itu pun tersedia secara eksklusif untuk\n"
          ]
        }
      ],
      "source": [
        "from transformers import AutoTokenizer, AutoModelForSeq2SeqLM\n",
        "\n",
        "tokenizer_result = AutoTokenizer.from_pretrained(model_ft_output_directory)\n",
        "model_result = AutoModelForSeq2SeqLM.from_pretrained(model_ft_output_directory)\n",
        "\n",
        "# Teks input\n",
        "input_text = \"Rangkum teks berita ini: \" + teks_berita\n",
        "\n",
        "# Tokenisasi\n",
        "input_ids = tokenizer_result.encode(input_text, return_tensors='pt')\n",
        "\n",
        "# Menghasilkan ringkasan\n",
        "output_ids = model_result.generate(input_ids, max_length=70)\n",
        "output_text = tokenizer_result.decode(output_ids[0], skip_special_tokens=True)\n",
        "\n",
        "print(\"Berita: \", teks_berita)\n",
        "print(\"Referensi: \", referensi_ringkasan)\n",
        "print(\"Ringkasan Hasil Fine Tune:\", output_text)"
      ]
    },
    {
      "cell_type": "code",
      "execution_count": 36,
      "metadata": {
        "colab": {
          "base_uri": "https://localhost:8080/"
        },
        "id": "2bsA-kiC05P2",
        "outputId": "f0e8c955-faab-4435-cf98-d83c9360fd70"
      },
      "outputs": [
        {
          "output_type": "stream",
          "name": "stdout",
          "text": [
            "0.8\n",
            "0.7610619469026548\n",
            "0.8\n"
          ]
        }
      ],
      "source": [
        "scores = scorer.score(referensi_ringkasan, output_text)\n",
        "print(scores['rouge1'].fmeasure)\n",
        "print(scores['rouge2'].fmeasure)\n",
        "print(scores['rougeL'].fmeasure)"
      ]
    },
    {
      "cell_type": "markdown",
      "metadata": {
        "id": "DQ_bwyE4Nhrr"
      },
      "source": [
        "# 2) Mencoba Model LLM lain (google/mt5-small) Untuk Generate Ringkasan dengan 1-shot dan Few-shots"
      ]
    },
    {
      "cell_type": "markdown",
      "metadata": {
        "id": "dIrkHOfWN1Iq"
      },
      "source": [
        "## Load Model mt5-small"
      ]
    },
    {
      "cell_type": "code",
      "execution_count": 37,
      "metadata": {
        "id": "BE7pOvK5O9yC",
        "colab": {
          "base_uri": "https://localhost:8080/",
          "height": 81,
          "referenced_widgets": [
            "78ee4673742e414ea3045cabf80568e9",
            "977c0a19b8894fae8ec609950b9896d1",
            "759a4ea999da45ff9db9b3953a20a50e",
            "2445980b40c4484dabd2532c471307d9",
            "2def98871abb46bea6ccb7a7b249cd18",
            "bccf568385ef49ee97508e4b6990c6e8",
            "575e0149ebe640cd9cdfbde36d30188a",
            "5601042a32654a6887f5b5789d7c2ba3",
            "c6b5a22d979b4c2fbe1d6c15508845be",
            "79cb1aa048044ab1b7a274c6bc88f3c5",
            "2853bfabc07c44e280521acf7ebbb98b",
            "2a2f74737a4a4afc803cc8febf4cb25c",
            "49524239066446838f653a805ab43e5d",
            "29dfd5e516b94ce292e0c07d6dd7ef1d",
            "8338a0c87adc4ce681b7038453294d3c",
            "8002814e2dda454d899d3602424ed518",
            "cd2cf9de9be64cc58912954bfe84193f",
            "ac550eaf4c044e3590216721731395a8",
            "9178b101ff99497999c11a6b6ff73bba",
            "d4967172ab144d9586beab5776df916a",
            "4a19d1fdd3a3457e87f613336851afa3",
            "f4bec302841d4045b39dd6501f33e53e"
          ]
        },
        "outputId": "288fb821-6a28-4876-a6db-22e4c8531636"
      },
      "outputs": [
        {
          "output_type": "display_data",
          "data": {
            "text/plain": [
              "pytorch_model.bin:   0%|          | 0.00/1.20G [00:00<?, ?B/s]"
            ],
            "application/vnd.jupyter.widget-view+json": {
              "version_major": 2,
              "version_minor": 0,
              "model_id": "78ee4673742e414ea3045cabf80568e9"
            }
          },
          "metadata": {}
        },
        {
          "output_type": "display_data",
          "data": {
            "text/plain": [
              "generation_config.json:   0%|          | 0.00/147 [00:00<?, ?B/s]"
            ],
            "application/vnd.jupyter.widget-view+json": {
              "version_major": 2,
              "version_minor": 0,
              "model_id": "2a2f74737a4a4afc803cc8febf4cb25c"
            }
          },
          "metadata": {}
        }
      ],
      "source": [
        "from transformers import MT5ForConditionalGeneration, MT5Tokenizer\n",
        "\n",
        "# Muat model dan tokenizer\n",
        "model_name = 'google/mt5-small'\n",
        "tokenizer_mt5 = MT5Tokenizer.from_pretrained(model_name)\n",
        "model_mt5 = MT5ForConditionalGeneration.from_pretrained(model_name)"
      ]
    },
    {
      "cell_type": "markdown",
      "metadata": {
        "id": "qVczZIhEPHb7"
      },
      "source": [
        "## Mencoba Generate Ringkasan dengan One-Shot Learning"
      ]
    },
    {
      "cell_type": "code",
      "execution_count": 38,
      "metadata": {
        "id": "QHsFzp88POqp"
      },
      "outputs": [],
      "source": [
        "input_text_one_shot = df_train['text'][0]\n",
        "example_summary_one_shot = df_train['summary'][0]\n",
        "\n",
        "task_text = df_predict['text'][0]\n",
        "task_summary = df_predict['summary'][0]"
      ]
    },
    {
      "cell_type": "code",
      "execution_count": 39,
      "metadata": {
        "colab": {
          "base_uri": "https://localhost:8080/"
        },
        "id": "NfmbuhLnPfgJ",
        "outputId": "2a53743c-3f6f-4b69-ab86-1b3ca6d575ab"
      },
      "outputs": [
        {
          "output_type": "stream",
          "name": "stdout",
          "text": [
            "Contoh Teks:  Jakarta Dokter Ryan Thamrin yang terkenal lewat acara Dokter Oz Indonesia meninggal dunia pada Jumat 4 8 dini hari Dokter Lula Kamal yang merupakan selebriti sekaligus rekan kerja Ryan menyebut kawannya itu sudah sakit sejak setahun yang lalu Lula menuturkan sakit itu membuat Ryan mesti vakum dari semua kegiatannya termasuk menjadi pembawa acara Dokter Oz Indonesia Kondisi itu membuat Ryan harus kembali ke kampung halamannya di Pekanbaru Riau untuk menjalani istirahat Setahu saya dia orangnya sehat tapi tahun lalu saya dengar dia sakit Karena sakitnya ia langsung pulang ke Pekanbaru jadi kami yang mau jenguk juga susah Barangkali mau istirahat ya betul juga kalau di Jakarta susah isirahatnya kata Lula kepada CNNIndonesia com Jumat 4 8 Lula yang mengenal Ryan sejak sebelum aktif berkarier di televisi mengaku belum sempat membesuk Ryan lantaran lokasi yang jauh Dia juga tak tahu penyakit apa yang diderita Ryan Itu saya enggak tahu belum sempat jenguk dan enggak selamanya bisa dijenguk juga Enggak tahu berat sekali apa bagaimana tutur Ryan Walau sudah setahun menderita sakit Lula tak mengetahui apa penyebab pasti kematian Dr Oz Indonesia itu Meski demikian ia mendengar beberapa kabar yang menyebut bahwa penyebab Ryan meninggal adalah karena jatuh di kamar mandi Saya tidak tahu barangkali penyakit yang dulu sama yang sekarang berbeda atau penyebab kematiannya beda dari penyakit sebelumnya Kita kan enggak bisa mengambil kesimpulan kata Lula Ryan Thamrin terkenal sebagai dokter yang rutin membagikan tips dan informasi kesehatan lewat tayangan Dokter Oz Indonesia Ryan menempuh Pendidikan Dokter pada tahun 2002 di Fakultas Kedokteran Universitas Gadjah Mada Dia kemudian melanjutkan pendidikan Klinis Kesehatan Reproduksi dan Penyakit Menular Seksual di Mahachulalongkornrajavidyalaya University Bangkok Thailand pada 2004\n",
            "Contoh Ringkasan:  Dokter Lula Kamal yang merupakan selebriti sekaligus rekan kerja Ryan Thamrin menyebut kawannya itu sudah sakit sejak setahun yang lalu Lula menuturkan sakit itu membuat Ryan mesti vakum dari semua kegiatannya termasuk menjadi pembawa acara Dokter Oz Indonesia Kondisi itu membuat Ryan harus kembali ke kampung halamannya di Pekanbaru Riau untuk menjalani istirahat\n"
          ]
        }
      ],
      "source": [
        "print('Contoh Teks: ', input_text_one_shot)\n",
        "print('Contoh Ringkasan: ', example_summary_one_shot)"
      ]
    },
    {
      "cell_type": "code",
      "execution_count": 49,
      "metadata": {
        "colab": {
          "base_uri": "https://localhost:8080/"
        },
        "id": "qLlYrtUMR-RI",
        "outputId": "eb82d357-79d2-4a44-a9da-5aea30316bc1"
      },
      "outputs": [
        {
          "output_type": "stream",
          "name": "stdout",
          "text": [
            "Teks yang ingin diringkas:  Jakarta Baru memiliki sepasang anak kembar ternyata bukan satu satunya kabar menyenangkan dari Jay Z Suami Beyonce itu mengumumkan akan merilis album baru yang bertajuk 4 44 pada akhir Juni Melansir AFP kabar itu diumumkan Senin 19 6 waktu Amerika Serikat melalui layanan musik daring yang dimiliki Jay Z Tidal Album itu pun tersedia secara eksklusif untuk pelanggan Tidal dan Sprint perusahaan telekomunikasi yang membeli 30 persen saham Tidal Sebuah trailer selama 30 detik menampilkan lirik dari sang rapper yang mengindikasikan sebuah album baru di tengah berita Beyonce telah melahirkan Senin 19 6 Trailer tersebut kemudian dikonfirmasi oleh Tidal dan Sprint pada tengah malam Jay Z adalah ikon global dan kami memberikan pelanggan kami kesempatan luar biasa untuk berada di antara orang pertama yang dapat menikmati album barunya Jay Z 4 44 kata CEO Sprint Marcelo Claure dalam pernyataannya Sebelumnya rumor Jay Z akan merilis album baru sudah tersiar setelah berbagai publikasi bertuliskan 4 44 muncul di internet dan beberapa media Tanda itu kemudian berubah menjadi iklan berisi film misterius yang dibintangi Muhammad Ali Lupita Nyong O dan Danny Glover Klip terbaru menggambarkan visual yang serupa dan ditutup dengan empat baris sajak dari Jay Z Album 4 44 menjadi karya pertama Jay Z usai merilis album Magna Carta Holy Grail pada 2013 lalu Meski penggemar sudah memiliki tanggal perilisan namun masih belum jelas terkait album dan filmnya akan terpisah atau menjadi album visual seperti Lemonade yang dirilis Beyonce tahun lalu\n"
          ]
        }
      ],
      "source": [
        "print('Teks yang ingin diringkas: ', task_text)"
      ]
    },
    {
      "cell_type": "code",
      "execution_count": 41,
      "metadata": {
        "id": "H8qsE9XJP60i"
      },
      "outputs": [],
      "source": [
        "# Gabungkan input dan contoh\n",
        "prompt = f\"Berita: {input_text_one_shot} \\nRingkasan: {example_summary_one_shot}\\n\\nBerita: {task_text}\\nRingkasan: \""
      ]
    },
    {
      "cell_type": "code",
      "execution_count": 42,
      "metadata": {
        "colab": {
          "base_uri": "https://localhost:8080/"
        },
        "id": "MHKPu98kP7jQ",
        "outputId": "fdf90e7b-b0d7-4c0a-e850-e96d3c6e9fa6"
      },
      "outputs": [
        {
          "output_type": "stream",
          "name": "stdout",
          "text": [
            "Berita: Jakarta Dokter Ryan Thamrin yang terkenal lewat acara Dokter Oz Indonesia meninggal dunia pada Jumat 4 8 dini hari Dokter Lula Kamal yang merupakan selebriti sekaligus rekan kerja Ryan menyebut kawannya itu sudah sakit sejak setahun yang lalu Lula menuturkan sakit itu membuat Ryan mesti vakum dari semua kegiatannya termasuk menjadi pembawa acara Dokter Oz Indonesia Kondisi itu membuat Ryan harus kembali ke kampung halamannya di Pekanbaru Riau untuk menjalani istirahat Setahu saya dia orangnya sehat tapi tahun lalu saya dengar dia sakit Karena sakitnya ia langsung pulang ke Pekanbaru jadi kami yang mau jenguk juga susah Barangkali mau istirahat ya betul juga kalau di Jakarta susah isirahatnya kata Lula kepada CNNIndonesia com Jumat 4 8 Lula yang mengenal Ryan sejak sebelum aktif berkarier di televisi mengaku belum sempat membesuk Ryan lantaran lokasi yang jauh Dia juga tak tahu penyakit apa yang diderita Ryan Itu saya enggak tahu belum sempat jenguk dan enggak selamanya bisa dijenguk juga Enggak tahu berat sekali apa bagaimana tutur Ryan Walau sudah setahun menderita sakit Lula tak mengetahui apa penyebab pasti kematian Dr Oz Indonesia itu Meski demikian ia mendengar beberapa kabar yang menyebut bahwa penyebab Ryan meninggal adalah karena jatuh di kamar mandi Saya tidak tahu barangkali penyakit yang dulu sama yang sekarang berbeda atau penyebab kematiannya beda dari penyakit sebelumnya Kita kan enggak bisa mengambil kesimpulan kata Lula Ryan Thamrin terkenal sebagai dokter yang rutin membagikan tips dan informasi kesehatan lewat tayangan Dokter Oz Indonesia Ryan menempuh Pendidikan Dokter pada tahun 2002 di Fakultas Kedokteran Universitas Gadjah Mada Dia kemudian melanjutkan pendidikan Klinis Kesehatan Reproduksi dan Penyakit Menular Seksual di Mahachulalongkornrajavidyalaya University Bangkok Thailand pada 2004 \n",
            "Ringkasan: Dokter Lula Kamal yang merupakan selebriti sekaligus rekan kerja Ryan Thamrin menyebut kawannya itu sudah sakit sejak setahun yang lalu Lula menuturkan sakit itu membuat Ryan mesti vakum dari semua kegiatannya termasuk menjadi pembawa acara Dokter Oz Indonesia Kondisi itu membuat Ryan harus kembali ke kampung halamannya di Pekanbaru Riau untuk menjalani istirahat\n",
            "\n",
            "Berita: Jakarta Baru memiliki sepasang anak kembar ternyata bukan satu satunya kabar menyenangkan dari Jay Z Suami Beyonce itu mengumumkan akan merilis album baru yang bertajuk 4 44 pada akhir Juni Melansir AFP kabar itu diumumkan Senin 19 6 waktu Amerika Serikat melalui layanan musik daring yang dimiliki Jay Z Tidal Album itu pun tersedia secara eksklusif untuk pelanggan Tidal dan Sprint perusahaan telekomunikasi yang membeli 30 persen saham Tidal Sebuah trailer selama 30 detik menampilkan lirik dari sang rapper yang mengindikasikan sebuah album baru di tengah berita Beyonce telah melahirkan Senin 19 6 Trailer tersebut kemudian dikonfirmasi oleh Tidal dan Sprint pada tengah malam Jay Z adalah ikon global dan kami memberikan pelanggan kami kesempatan luar biasa untuk berada di antara orang pertama yang dapat menikmati album barunya Jay Z 4 44 kata CEO Sprint Marcelo Claure dalam pernyataannya Sebelumnya rumor Jay Z akan merilis album baru sudah tersiar setelah berbagai publikasi bertuliskan 4 44 muncul di internet dan beberapa media Tanda itu kemudian berubah menjadi iklan berisi film misterius yang dibintangi Muhammad Ali Lupita Nyong O dan Danny Glover Klip terbaru menggambarkan visual yang serupa dan ditutup dengan empat baris sajak dari Jay Z Album 4 44 menjadi karya pertama Jay Z usai merilis album Magna Carta Holy Grail pada 2013 lalu Meski penggemar sudah memiliki tanggal perilisan namun masih belum jelas terkait album dan filmnya akan terpisah atau menjadi album visual seperti Lemonade yang dirilis Beyonce tahun lalu\n",
            "Ringkasan: \n"
          ]
        }
      ],
      "source": [
        "print(prompt)"
      ]
    },
    {
      "cell_type": "code",
      "execution_count": 43,
      "metadata": {
        "colab": {
          "base_uri": "https://localhost:8080/"
        },
        "id": "SvzHcyjhPHIR",
        "outputId": "91fdbce1-44e7-487c-b89b-a995856e4780"
      },
      "outputs": [
        {
          "output_type": "stream",
          "name": "stdout",
          "text": [
            "Ringkasan One-Shot: <extra_id_0> lebih lanjut\n"
          ]
        }
      ],
      "source": [
        "# Tokenisasi\n",
        "input_ids = tokenizer_mt5.encode(prompt, return_tensors='pt')\n",
        "\n",
        "# Menghasilkan ringkasan\n",
        "output_ids = model_mt5.generate(input_ids, max_length=70)\n",
        "output_summary_one_shot = tokenizer_mt5.decode(output_ids[0], skip_special_tokens=True)\n",
        "\n",
        "print(\"Ringkasan One-Shot:\", output_summary_one_shot)"
      ]
    },
    {
      "cell_type": "code",
      "execution_count": 50,
      "metadata": {
        "colab": {
          "base_uri": "https://localhost:8080/"
        },
        "id": "TkFlahUSQHvl",
        "outputId": "a822c5de-2404-4efc-fa71-c990289c99d6"
      },
      "outputs": [
        {
          "output_type": "stream",
          "name": "stdout",
          "text": [
            "0.0\n",
            "0.0\n",
            "0.0\n"
          ]
        }
      ],
      "source": [
        "scores = scorer.score(task_summary, output_summary_one_shot)\n",
        "print(scores['rouge1'].fmeasure)\n",
        "print(scores['rouge2'].fmeasure)\n",
        "print(scores['rougeL'].fmeasure)"
      ]
    },
    {
      "cell_type": "markdown",
      "metadata": {
        "id": "E8LwiWLDQWSZ"
      },
      "source": [
        "## Mencoba Generate Ringkasan dengan Few-Shots Learning"
      ]
    },
    {
      "cell_type": "code",
      "execution_count": 45,
      "metadata": {
        "id": "dK-dLl0-QkUA"
      },
      "outputs": [],
      "source": [
        "input_text_few_shots = [\n",
        "   df_train['text'][0],\n",
        "   df_train['text'][1],\n",
        "   df_train['text'][2],\n",
        "   df_train['text'][3],\n",
        "   df_train['text'][4]\n",
        "  ]\n",
        "\n",
        "example_summary_few_shots = [\n",
        "  df_train['summary'][0],\n",
        "  df_train['summary'][1],\n",
        "  df_train['summary'][2],\n",
        "  df_train['summary'][3],\n",
        "  df_train['summary'][4]\n",
        "]"
      ]
    },
    {
      "cell_type": "code",
      "execution_count": 46,
      "metadata": {
        "colab": {
          "base_uri": "https://localhost:8080/"
        },
        "id": "OclotDX6Qz05",
        "outputId": "95881ca2-bb67-4258-8544-6c4f90578fab"
      },
      "outputs": [
        {
          "output_type": "stream",
          "name": "stdout",
          "text": [
            "Berita: Jakarta Dokter Ryan Thamrin yang terkenal lewat acara Dokter Oz Indonesia meninggal dunia pada Jumat 4 8 dini hari Dokter Lula Kamal yang merupakan selebriti sekaligus rekan kerja Ryan menyebut kawannya itu sudah sakit sejak setahun yang lalu Lula menuturkan sakit itu membuat Ryan mesti vakum dari semua kegiatannya termasuk menjadi pembawa acara Dokter Oz Indonesia Kondisi itu membuat Ryan harus kembali ke kampung halamannya di Pekanbaru Riau untuk menjalani istirahat Setahu saya dia orangnya sehat tapi tahun lalu saya dengar dia sakit Karena sakitnya ia langsung pulang ke Pekanbaru jadi kami yang mau jenguk juga susah Barangkali mau istirahat ya betul juga kalau di Jakarta susah isirahatnya kata Lula kepada CNNIndonesia com Jumat 4 8 Lula yang mengenal Ryan sejak sebelum aktif berkarier di televisi mengaku belum sempat membesuk Ryan lantaran lokasi yang jauh Dia juga tak tahu penyakit apa yang diderita Ryan Itu saya enggak tahu belum sempat jenguk dan enggak selamanya bisa dijenguk juga Enggak tahu berat sekali apa bagaimana tutur Ryan Walau sudah setahun menderita sakit Lula tak mengetahui apa penyebab pasti kematian Dr Oz Indonesia itu Meski demikian ia mendengar beberapa kabar yang menyebut bahwa penyebab Ryan meninggal adalah karena jatuh di kamar mandi Saya tidak tahu barangkali penyakit yang dulu sama yang sekarang berbeda atau penyebab kematiannya beda dari penyakit sebelumnya Kita kan enggak bisa mengambil kesimpulan kata Lula Ryan Thamrin terkenal sebagai dokter yang rutin membagikan tips dan informasi kesehatan lewat tayangan Dokter Oz Indonesia Ryan menempuh Pendidikan Dokter pada tahun 2002 di Fakultas Kedokteran Universitas Gadjah Mada Dia kemudian melanjutkan pendidikan Klinis Kesehatan Reproduksi dan Penyakit Menular Seksual di Mahachulalongkornrajavidyalaya University Bangkok Thailand pada 2004\n",
            "Ringkasan: Dokter Lula Kamal yang merupakan selebriti sekaligus rekan kerja Ryan Thamrin menyebut kawannya itu sudah sakit sejak setahun yang lalu Lula menuturkan sakit itu membuat Ryan mesti vakum dari semua kegiatannya termasuk menjadi pembawa acara Dokter Oz Indonesia Kondisi itu membuat Ryan harus kembali ke kampung halamannya di Pekanbaru Riau untuk menjalani istirahat\n",
            "\n",
            "Berita: Indonesia Corruption Watch ICW meminta Komisi Pemberantas Korupsi KPK ikut memantau perkembangan atas meninggalnya saksi kunci kasus mega korupsi e KTP Johannes Marliem Peneliti ICW Divisi Hukum dan Monitoring Peradila Aradila Caesar mengatakan momentum meninggalnya saksi kunci tersebut menimbulkan kejanggalan dan tanda tanya besar Orang meninggal kita kan tidak bisa prediksi itu bukan kuasa kita Tapi kalau kita melihat momentum kan ada suatu kejanggalan Kenapa momentum meninggalnya saat kasus e ktp sedang ditangani oleh KPK katanya seusai konferensi pers di Kantor Sekeretariatan ICW Jakarta Minggu 13 8 Pihak ICW meminta KPK turut menyelidiki kematian saksi kunci ini dan menjelaskan kepada masyarakat apakah ada keterkaitan dengan permasalahan korupsi e KTP atau hal hal lain dibalik kematian Johannes Kita minta KPK dan juga bekerja sama dengan pihak otoritas untuk menyelidiki kematian dari saksi kunci tersebut dengan serius Artinya nanti KPK harus bisa menjelaskan kepada publik kenapa kematiannya pintanya ICW berharap dengan kematian saksi kunci tidak membuat efek negatif untuk permasalahan kasus e KTP ini Jangan sampai kematiannya berdampak negatif dalam konteks membongkar kasus e ktp tersebut pungkasnya ded\n",
            "Ringkasan: Indonesia Corruption Watch ICW meminta Komisi Pemberantas Korupsi KPK ikut memantau perkembangan atas meninggalnya saksi kunci kasus mega korupsi e KTP Johannes Marliem dan menjelaskan kepada masyarakat apakah ada keterkaitan dengan permasalahan korupsi e KTP atau hal hal lain dibalik kematian Johannes Peneliti ICW Divisi Hukum dan Monitoring Peradila Aradila Caesar mengatakan momentum meninggalnya saksi kunci tersebut menimbulkan kejanggalan dan tanda tanya besar\n",
            "\n",
            "Berita: Presiden Joko Widodo Jokowi memimpin upacara penurunan bendera di Halaman Istana Merdeka Jakarta Usai prosesi penurunan bendera dilakukan Jokowi kembali bagi bagi sepeda kepada tamu undangan yang mengenakan pakaian adat terbaik Berbeda dengan saat upacara pengibaran bendera bagi bagi sepeda kali ini diumumkan oleh Wakil Presiden Jusuf Kalla JK Hal berbeda juga terjadi bagi mereka yang menerima Apabila sepeda diberikan ke pejabat negara mau pun keluarga kali ini sepeda diberikan kepada masyarakat biasa Seperti tadi pagi sore ini juga panitia membentuk tim penilai untuk menilai siapa yang berbusana tradisional adat adat daerah yang paling baik sore ini kata JK Kelima penerima sepeda di antaranya Frans Maksim yang merupakan Kepala Suku Arfak Papua Ratna Dewi Budiono yang mengenakan pakaian adat Dayak Yusak Rumambi yang mengenakan pakaian adat Sulawesi Utara Teuku Johan Marzuki yang mengenakan pakaian adat Aceh Terakhir ada Sumahartarti yang mengenakan pakaian adat asal Bengkulu Silakan semua datang ke panggung Mendapat sepeda dari Bapak Presiden bisa langsung dipakai keliling keliling nanti ujarnya Pada Upacara Pengibaran Bendera lima orang menggunakan pakaian adat terbaik yakni Menteri Hukum dan Hak Asasi Manusia Menkum HAM Yasonna Hamonangan Laoly dengan pakaian adat Nias Ketua DPD RI Oesman Sapta Odang yang menggunakan pakaian adat Minang dan Asisten Ajudan Presiden Syarif Muhammad Fidriansyah dengan pakaian adat Dayak Kalimantan Barat Dua orang lainnya adalah istri Kapolri Jenderal Pol Tito Karnavian Tri Suswati yang mengenakan pakaian adat Papua dan istri Wakil Ketua MPR Mahyudin Agati Suli menggunakan baju adat Dayak bal\n",
            "Ringkasan: Jokowi memimpin upacara penurunan bendera Usai prosesi tersebut Jokowi bagi bagi sepeda kepada tamu undangan yang mengenakan pakaian adat terbaik Berbeda dengan saat upacara pengibaran bendera bagi bagi sepeda kali ini diumumkan oleh Wakil Presiden Jusuf Kalla JK Hal berbeda juga terjadi bagi mereka yang menerima Apabila sepeda diberikan ke pejabat negara mau pun keluarga kali ini sepeda diberikan kepada masyarakat biasa\n",
            "\n",
            "Berita: Timnas Indonesia hanya mampu meraih kemenangan tipis pada laga kedua Aceh World Solidarity Cup AWSC 2017 Tim Garuda mengalahkan Mongolia dengan skor 3 2 di Stadion Harapan Bangsa Senin 4 12 malam WIB Akan tetapi kemenangan tersebut tak membuat timnas Indonesia menduduki posisi puncak Ini karena mereka kalah produktivitas gol dari Kyrgyzstan yang juga mengumpulkan poin enam Babak pertamaTimnas Indonesia tampil atraktif sejak awal pertandingan dilmulai meski hujan deras mengguyur Febri Hariyadi langsung memberikan tekanan lewat kecepatan yang menyisir sisi sayap kemudian memberikan umpan lambung ke daerah pertahanan Mongolia Armada Luis Milla tersebut mampu membuka keunggulan pada menit tujuh Adalah Gavin Kwan Adsit yang mencatatkan namanya di papan skor setelah memanfaatkan bola liar dalam kotak penalti dengan kaki kirinya Unggul satu angka membuat kepercayaan para pemain timnas Indonesia bertambah Evan Dimas serta kolega semakin gencar membombardir pertahanan Mongolia lewat sentuhan bola cepat yang dikreasikan aksi individual Pada menit 27 timnas Indonesia mampu menambah keunggulannya Kali ini Osvaldo Haay yang menjebol gawang Batsaikhan Ariunbold usai menerima bola sodoran dari Ilija Spasojevic Sebelas menit berselang Mongolia mampu memperkecil keadaan dari titik putih Munkh Erdene yang menjadi eksekutor tendangan tersebut menjalankan tugasnya dengan baik Di masa injury time giliran timnas Indonesia yang mendapatkan penalti usai Spaso dilanggar di kotak terlarang Pemain Bhayangkara FC tersebut yang juga jadi algojonya dan berhasil mencetak gol Skor 3 1 buat keunggulan pasukan Merah Putih bertahan hingga jeda Babak keduaSelepas jeda timnas Indonesia tetap mengendurkan serangannya Febri masih menjadi motor serangan yang dibantu pergerakan lincah Osvaldo serta sokongan umpan yang diberikan Evan Pada menit 57 lagi Mongolia mampu mencetak gol dari titik putih Satria Tama melakukan pelanggaran yang berujung penalti Munkh Erdene kembali dipercaya menedang dan Tama tak bisa menghalaunya Kondisi ini membuat Milla melakukan pergantian pemain Pelatih asal Spanyol tersebut menarik Saddil Ramdani di menit 68 dan memasukkan winger lincah Ilham Udin Armaiyn agar menambah daya gedor timnya Hanif Sjahbandi mencoba peruntungannya dengan melepaskan tendangan keras dari luar penalti Sayang upayanya tersebut masih mampu diamankan dengan mudah oleh Batsaikhan Ariunbold Jelang berakhirnya pertandingan timnas Indonesia semakin sering melakukan serangan Tapi sampai wasit meniupkan peluit tanda berakhirnya laga tidak ada lagi gol yang tercipta Susunan pemain kedua timMongolia Batsaikhan Ariunbold Orkhon Munkh Dagina Turbat Normoo Tsedenbel Galt Tuguldur Tsagaantsooj Munkh Ser Od Yanjiv Munkh Erdene Batturdavaajav Oyunbat Bayarjagal Naranbold Nyam Osor Indonesia Satria Tama Gavin Kwan Adsit Fachruddin Aryanto Hansamu Yama Ricky Fajrin Evan Dimas Hanif Sjahbandi Osvaldo Haay Saddil Ramdani Febri Hariyadi Ilija Spasojevic\n",
            "Ringkasan: Timnas Indonesia hanya mampu meraih kemenangan tipis pada laga kedua Aceh World Solidarity Cup AWSC 2017 Tim Garuda mengalahkan Mongolia dengan skor 3 2 di Stadion Harapan Bangsa Senin 4 12 malam WIB Akan tetapi kemenangan tersebut tak membuat timnas Indonesia menduduki posisi puncak Ini karena mereka kalah produktivitas gol dari Kyrgyzstan yang juga mengumpulkan poin enam\n",
            "\n",
            "Berita: Tahun lalu HP meluncurkan sebuah printer portable yang dapat mencetak tanpa tinta bernama Sprocket Baru baru ini perangkat tersebut telah berevolusi menjadi kamera instan dengan nama yang pas yaitu Sprocket 2 in 1 Desain dan cara kerjanya sangat mirip seperti Polaroid Snap maupun Kodak Printomatic Bidik lewat viewfinder tekan tombol shutter lalu hasilnya dapat langsung dicetak di atas kertas ZINK berukuran 2 x 3 cm Bedanya Sprocket 2 in 1 masih bisa berfungsi sebagai printer biasa Hal ini berarti pengguna masih bisa menyambungkan ponselnya via Bluetooth mengedit foto yang diinginkan lalu mencetaknya menggunakan perangkat ini Yang cukup menarik HP tidak lupa menambahkan bumbu AR pada aplikasi pendamping Sprocket di Android maupun iOS Fitur tersebut memungkinkan pengguna untuk menyelipkan foto dan video tersembunyi pada gambar yang dicetak Jadi ketika gambar tersebut dilihat menggunakan kamera smartphone akan muncul sejumlah foto dan video yang diharapkan bisa membantu pengguna menghidupi kembali momen berkenang yang ada pada gambar Bersamaan dengan itu HP juga mengumumkan Sprocket Plus Model ini pada dasarnya sama seperti Sprocket standar yang diluncurkan tahun lalu hanya saja hasil cetakannya 30 lebih besar sehingga akan terasa lebih ideal untuk foto grup HP Sprocket 2 in 1 saat ini sudah dipasarkan seharga 160 sedangkan Sprocket Plus sedikit lebih murah di angka 150 Keduanya hadir dalam tiga pilihan warna putih hitam atau merah Sumber The Verge DailySocial id adalah portal berita startup dan inovasi teknologi Kamu bisa menjadi member komunitas startup dan inovasi DailySocial id mengunduh laporan riset dan statistik seputar teknologi secara cuma cuma dan mengikuti berita startup Indonesia dan gadget terbaru\n",
            "Ringkasan: Tahun lalu HP meluncurkan sebuah printer portable yang dapat mencetak tanpa tinta bernama Sprocket Baru baru ini perangkat tersebut telah berevolusi menjadi kamera instan dengan nama yang pas yaitu Sprocket 2 in 1 Desain dan cara kerjanya sangat mirip seperti Polaroid Snap maupun Kodak Printomatic Bedanya Sprocket 2 in 1 masih bisa berfungsi sebagai printer biasa\n",
            "\n",
            "Berita: Jakarta Baru memiliki sepasang anak kembar ternyata bukan satu satunya kabar menyenangkan dari Jay Z Suami Beyonce itu mengumumkan akan merilis album baru yang bertajuk 4 44 pada akhir Juni Melansir AFP kabar itu diumumkan Senin 19 6 waktu Amerika Serikat melalui layanan musik daring yang dimiliki Jay Z Tidal Album itu pun tersedia secara eksklusif untuk pelanggan Tidal dan Sprint perusahaan telekomunikasi yang membeli 30 persen saham Tidal Sebuah trailer selama 30 detik menampilkan lirik dari sang rapper yang mengindikasikan sebuah album baru di tengah berita Beyonce telah melahirkan Senin 19 6 Trailer tersebut kemudian dikonfirmasi oleh Tidal dan Sprint pada tengah malam Jay Z adalah ikon global dan kami memberikan pelanggan kami kesempatan luar biasa untuk berada di antara orang pertama yang dapat menikmati album barunya Jay Z 4 44 kata CEO Sprint Marcelo Claure dalam pernyataannya Sebelumnya rumor Jay Z akan merilis album baru sudah tersiar setelah berbagai publikasi bertuliskan 4 44 muncul di internet dan beberapa media Tanda itu kemudian berubah menjadi iklan berisi film misterius yang dibintangi Muhammad Ali Lupita Nyong O dan Danny Glover Klip terbaru menggambarkan visual yang serupa dan ditutup dengan empat baris sajak dari Jay Z Album 4 44 menjadi karya pertama Jay Z usai merilis album Magna Carta Holy Grail pada 2013 lalu Meski penggemar sudah memiliki tanggal perilisan namun masih belum jelas terkait album dan filmnya akan terpisah atau menjadi album visual seperti Lemonade yang dirilis Beyonce tahun lalu\n",
            "Ringkasan: \n"
          ]
        }
      ],
      "source": [
        "few_shots_example = \"\"\n",
        "\n",
        "# Loop untuk menggabungkan output\n",
        "for i in range(5):\n",
        "    few_shots_example += f'Berita: {input_text_few_shots[i]}\\n'\n",
        "    few_shots_example += f'Ringkasan: {example_summary_few_shots[i]}\\n\\n'\n",
        "\n",
        "few_shots_example += f'Berita: {task_text}\\nRingkasan: '\n",
        "\n",
        "# Menampilkan semua output dalam satu variabel\n",
        "print(few_shots_example)"
      ]
    },
    {
      "cell_type": "code",
      "execution_count": 47,
      "metadata": {
        "colab": {
          "base_uri": "https://localhost:8080/"
        },
        "id": "_GOF2NeLQfFp",
        "outputId": "7634dda9-1272-4415-f5c6-cf5ba9692078"
      },
      "outputs": [
        {
          "output_type": "stream",
          "name": "stdout",
          "text": [
            "Ringkasan Few-Shots: <extra_id_0> menjadi lebih menarik dari informasi ini\n"
          ]
        }
      ],
      "source": [
        "# Gabungkan input dan contoh\n",
        "prompt = few_shots_example\n",
        "\n",
        "# Tokenisasi\n",
        "input_ids = tokenizer_mt5.encode(prompt, return_tensors='pt')\n",
        "\n",
        "# Menghasilkan ringkasan\n",
        "output_ids = model_mt5.generate(input_ids, max_length=50)\n",
        "output_summary_few_shots = tokenizer_mt5.decode(output_ids[0], skip_special_tokens=True)\n",
        "\n",
        "print(\"Ringkasan Few-Shots:\", output_summary_few_shots)"
      ]
    },
    {
      "cell_type": "code",
      "execution_count": 48,
      "metadata": {
        "colab": {
          "base_uri": "https://localhost:8080/"
        },
        "id": "hEFInj2YS8J_",
        "outputId": "07afafce-1cb4-413a-a967-477af32b8fc9"
      },
      "outputs": [
        {
          "output_type": "stream",
          "name": "stdout",
          "text": [
            "0.02941176470588235\n",
            "0.0\n",
            "0.02941176470588235\n"
          ]
        }
      ],
      "source": [
        "scores = scorer.score(task_summary, output_summary_few_shots)\n",
        "print(scores['rouge1'].fmeasure)\n",
        "print(scores['rouge2'].fmeasure)\n",
        "print(scores['rougeL'].fmeasure)"
      ]
    },
    {
      "cell_type": "markdown",
      "source": [
        "# 3) Fine-Tune Model google/mt5-small untuk Generate Ringkasan dengan Dataset Sendiri"
      ],
      "metadata": {
        "id": "1yJRp0yJVnev"
      }
    },
    {
      "cell_type": "markdown",
      "source": [
        "## Fine Tuning Model google/mt5-small"
      ],
      "metadata": {
        "id": "eYSbS2v1W_sH"
      }
    },
    {
      "cell_type": "code",
      "source": [
        "# Muat model dan tokenizer\n",
        "model_checkpoint = 'google/mt5-small'"
      ],
      "metadata": {
        "id": "TUbVIuHkWTk3"
      },
      "execution_count": 61,
      "outputs": []
    },
    {
      "cell_type": "code",
      "source": [
        "from transformers import AutoTokenizer, AutoModelForSeq2SeqLM, Trainer, TrainingArguments, DataCollatorWithPadding\n",
        "\n",
        "tokenizer_ft_mt5 = AutoTokenizer.from_pretrained(model_checkpoint)\n",
        "\n",
        "def tokenize_function(examples):\n",
        "    # Tokenisasi teks input\n",
        "    model_inputs = tokenizer_ft_mt5(\n",
        "        examples['text'],\n",
        "        max_length=512,\n",
        "        truncation=True,\n",
        "        padding='max_length'  # Add padding to max_length\n",
        "    )\n",
        "    # Tokenisasi target\n",
        "    with tokenizer_ft_mt5.as_target_tokenizer():\n",
        "        labels = tokenizer_ft_mt5(\n",
        "            examples['summary'],\n",
        "            max_length=128,\n",
        "            truncation=True,\n",
        "            padding='max_length'  # Add padding to max_length\n",
        "        )\n",
        "    model_inputs['labels'] = labels['input_ids']\n",
        "    return model_inputs\n",
        "\n",
        "tokenized_dataset = df_train.apply(tokenize_function, axis=1)"
      ],
      "metadata": {
        "colab": {
          "base_uri": "https://localhost:8080/"
        },
        "id": "aR7kT5WZVx7l",
        "outputId": "3f17e372-9cfc-421c-ca3c-070a25f41786"
      },
      "execution_count": 62,
      "outputs": [
        {
          "output_type": "stream",
          "name": "stderr",
          "text": [
            "/usr/local/lib/python3.10/dist-packages/transformers/convert_slow_tokenizer.py:561: UserWarning: The sentencepiece tokenizer that you are converting to a fast tokenizer uses the byte fallback option which is not implemented in the fast tokenizers. In practice this means that the fast version of the tokenizer can produce unknown tokens whereas the sentencepiece version would have converted these unknown tokens into a sequence of byte tokens matching the original piece of text.\n",
            "  warnings.warn(\n",
            "/usr/local/lib/python3.10/dist-packages/transformers/tokenization_utils_base.py:3953: UserWarning: `as_target_tokenizer` is deprecated and will be removed in v5 of Transformers. You can tokenize your labels by using the argument `text_target` of the regular `__call__` method (either in the same call as your input texts if you use the same keyword arguments, or in a separate call.\n",
            "  warnings.warn(\n"
          ]
        }
      ]
    },
    {
      "cell_type": "code",
      "source": [
        "tokenized_dataset.head()"
      ],
      "metadata": {
        "colab": {
          "base_uri": "https://localhost:8080/",
          "height": 241
        },
        "id": "ByaM8ue3W006",
        "outputId": "f3e6a13d-cc4e-49d8-fe66-cf35ce5e22dd"
      },
      "execution_count": 63,
      "outputs": [
        {
          "output_type": "execute_result",
          "data": {
            "text/plain": [
              "0    [input_ids, attention_mask, labels]\n",
              "1    [input_ids, attention_mask, labels]\n",
              "2    [input_ids, attention_mask, labels]\n",
              "3    [input_ids, attention_mask, labels]\n",
              "4    [input_ids, attention_mask, labels]\n",
              "dtype: object"
            ],
            "text/html": [
              "<div>\n",
              "<style scoped>\n",
              "    .dataframe tbody tr th:only-of-type {\n",
              "        vertical-align: middle;\n",
              "    }\n",
              "\n",
              "    .dataframe tbody tr th {\n",
              "        vertical-align: top;\n",
              "    }\n",
              "\n",
              "    .dataframe thead th {\n",
              "        text-align: right;\n",
              "    }\n",
              "</style>\n",
              "<table border=\"1\" class=\"dataframe\">\n",
              "  <thead>\n",
              "    <tr style=\"text-align: right;\">\n",
              "      <th></th>\n",
              "      <th>0</th>\n",
              "    </tr>\n",
              "  </thead>\n",
              "  <tbody>\n",
              "    <tr>\n",
              "      <th>0</th>\n",
              "      <td>[input_ids, attention_mask, labels]</td>\n",
              "    </tr>\n",
              "    <tr>\n",
              "      <th>1</th>\n",
              "      <td>[input_ids, attention_mask, labels]</td>\n",
              "    </tr>\n",
              "    <tr>\n",
              "      <th>2</th>\n",
              "      <td>[input_ids, attention_mask, labels]</td>\n",
              "    </tr>\n",
              "    <tr>\n",
              "      <th>3</th>\n",
              "      <td>[input_ids, attention_mask, labels]</td>\n",
              "    </tr>\n",
              "    <tr>\n",
              "      <th>4</th>\n",
              "      <td>[input_ids, attention_mask, labels]</td>\n",
              "    </tr>\n",
              "  </tbody>\n",
              "</table>\n",
              "</div><br><label><b>dtype:</b> object</label>"
            ]
          },
          "metadata": {},
          "execution_count": 63
        }
      ]
    },
    {
      "cell_type": "code",
      "source": [
        "train_dataset = tokenized_dataset[:1800]\n",
        "eval_dataset = tokenized_dataset[1800:2000]  # atau 'validation' jika ada\n",
        "eval_dataset.reset_index(drop=True, inplace=True)"
      ],
      "metadata": {
        "id": "j_GJvZXjW2xn"
      },
      "execution_count": 64,
      "outputs": []
    },
    {
      "cell_type": "code",
      "source": [
        "train_dataset.head()"
      ],
      "metadata": {
        "colab": {
          "base_uri": "https://localhost:8080/",
          "height": 241
        },
        "id": "S6oxcQ93W4Ol",
        "outputId": "cd823ad5-008d-49a6-f5c3-af0fcb9b9a21"
      },
      "execution_count": 65,
      "outputs": [
        {
          "output_type": "execute_result",
          "data": {
            "text/plain": [
              "0    [input_ids, attention_mask, labels]\n",
              "1    [input_ids, attention_mask, labels]\n",
              "2    [input_ids, attention_mask, labels]\n",
              "3    [input_ids, attention_mask, labels]\n",
              "4    [input_ids, attention_mask, labels]\n",
              "dtype: object"
            ],
            "text/html": [
              "<div>\n",
              "<style scoped>\n",
              "    .dataframe tbody tr th:only-of-type {\n",
              "        vertical-align: middle;\n",
              "    }\n",
              "\n",
              "    .dataframe tbody tr th {\n",
              "        vertical-align: top;\n",
              "    }\n",
              "\n",
              "    .dataframe thead th {\n",
              "        text-align: right;\n",
              "    }\n",
              "</style>\n",
              "<table border=\"1\" class=\"dataframe\">\n",
              "  <thead>\n",
              "    <tr style=\"text-align: right;\">\n",
              "      <th></th>\n",
              "      <th>0</th>\n",
              "    </tr>\n",
              "  </thead>\n",
              "  <tbody>\n",
              "    <tr>\n",
              "      <th>0</th>\n",
              "      <td>[input_ids, attention_mask, labels]</td>\n",
              "    </tr>\n",
              "    <tr>\n",
              "      <th>1</th>\n",
              "      <td>[input_ids, attention_mask, labels]</td>\n",
              "    </tr>\n",
              "    <tr>\n",
              "      <th>2</th>\n",
              "      <td>[input_ids, attention_mask, labels]</td>\n",
              "    </tr>\n",
              "    <tr>\n",
              "      <th>3</th>\n",
              "      <td>[input_ids, attention_mask, labels]</td>\n",
              "    </tr>\n",
              "    <tr>\n",
              "      <th>4</th>\n",
              "      <td>[input_ids, attention_mask, labels]</td>\n",
              "    </tr>\n",
              "  </tbody>\n",
              "</table>\n",
              "</div><br><label><b>dtype:</b> object</label>"
            ]
          },
          "metadata": {},
          "execution_count": 65
        }
      ]
    },
    {
      "cell_type": "code",
      "source": [
        "eval_dataset.head()"
      ],
      "metadata": {
        "colab": {
          "base_uri": "https://localhost:8080/",
          "height": 241
        },
        "id": "3SeaEwrTW5we",
        "outputId": "598a067d-526f-45ea-eb4d-59fd4192b4ec"
      },
      "execution_count": 66,
      "outputs": [
        {
          "output_type": "execute_result",
          "data": {
            "text/plain": [
              "0    [input_ids, attention_mask, labels]\n",
              "1    [input_ids, attention_mask, labels]\n",
              "2    [input_ids, attention_mask, labels]\n",
              "3    [input_ids, attention_mask, labels]\n",
              "4    [input_ids, attention_mask, labels]\n",
              "dtype: object"
            ],
            "text/html": [
              "<div>\n",
              "<style scoped>\n",
              "    .dataframe tbody tr th:only-of-type {\n",
              "        vertical-align: middle;\n",
              "    }\n",
              "\n",
              "    .dataframe tbody tr th {\n",
              "        vertical-align: top;\n",
              "    }\n",
              "\n",
              "    .dataframe thead th {\n",
              "        text-align: right;\n",
              "    }\n",
              "</style>\n",
              "<table border=\"1\" class=\"dataframe\">\n",
              "  <thead>\n",
              "    <tr style=\"text-align: right;\">\n",
              "      <th></th>\n",
              "      <th>0</th>\n",
              "    </tr>\n",
              "  </thead>\n",
              "  <tbody>\n",
              "    <tr>\n",
              "      <th>0</th>\n",
              "      <td>[input_ids, attention_mask, labels]</td>\n",
              "    </tr>\n",
              "    <tr>\n",
              "      <th>1</th>\n",
              "      <td>[input_ids, attention_mask, labels]</td>\n",
              "    </tr>\n",
              "    <tr>\n",
              "      <th>2</th>\n",
              "      <td>[input_ids, attention_mask, labels]</td>\n",
              "    </tr>\n",
              "    <tr>\n",
              "      <th>3</th>\n",
              "      <td>[input_ids, attention_mask, labels]</td>\n",
              "    </tr>\n",
              "    <tr>\n",
              "      <th>4</th>\n",
              "      <td>[input_ids, attention_mask, labels]</td>\n",
              "    </tr>\n",
              "  </tbody>\n",
              "</table>\n",
              "</div><br><label><b>dtype:</b> object</label>"
            ]
          },
          "metadata": {},
          "execution_count": 66
        }
      ]
    },
    {
      "cell_type": "markdown",
      "source": [
        "### Mengatur Parameter Model untuk Fine-Tuning"
      ],
      "metadata": {
        "id": "xcnXGPXBXK3n"
      }
    },
    {
      "cell_type": "code",
      "source": [
        "# Parameter\n",
        "learning_rate = 5e-5  # Laju pembelajaran\n",
        "train_batch_size = 6    # Ukuran batch untuk pelatihan\n",
        "epochs = 10              # Jumlah epoch\n",
        "weight_decay = 0.001      # Pengurangan bobot\n",
        "\n",
        "# Direktori untuk menyimpan hasil\n",
        "output_directory = f'./results_mt5_{learning_rate}_{train_batch_size}_{epochs}'"
      ],
      "metadata": {
        "id": "hVFumOYuW7vV"
      },
      "execution_count": 67,
      "outputs": []
    },
    {
      "cell_type": "code",
      "source": [
        "from transformers import T5ForConditionalGeneration, Trainer, TrainingArguments\n",
        "\n",
        "model_ft_mt5 = AutoModelForSeq2SeqLM.from_pretrained(model_checkpoint)\n",
        "\n",
        "# Use DataCollatorWithPadding\n",
        "data_collator = DataCollatorWithPadding(tokenizer=tokenizer_ft_mt5)\n",
        "\n",
        "training_args = TrainingArguments(\n",
        "    output_dir = output_directory,          # direktori untuk menyimpan model\n",
        "    evaluation_strategy=\"epoch\",     # evaluasi setiap epoch\n",
        "    learning_rate=learning_rate,\n",
        "    per_device_train_batch_size=train_batch_size,   # ukuran batch untuk pelatihan\n",
        "    num_train_epochs=epochs,              # jumlah epoch\n",
        "    weight_decay=weight_decay,               # pengurangan bobot\n",
        ")\n",
        "\n",
        "\n",
        "trainer = Trainer(\n",
        "    model=model_ft_mt5,\n",
        "    args=training_args,\n",
        "    train_dataset=train_dataset,\n",
        "    eval_dataset=eval_dataset,\n",
        "    data_collator=data_collator,  # Use the data collator\n",
        ")"
      ],
      "metadata": {
        "colab": {
          "base_uri": "https://localhost:8080/"
        },
        "id": "U-iDjet1XTvA",
        "outputId": "8cba4de5-a994-4a05-bb03-9509fbcc4dc2"
      },
      "execution_count": 68,
      "outputs": [
        {
          "output_type": "stream",
          "name": "stderr",
          "text": [
            "/usr/local/lib/python3.10/dist-packages/transformers/training_args.py:1575: FutureWarning: `evaluation_strategy` is deprecated and will be removed in version 4.46 of 🤗 Transformers. Use `eval_strategy` instead\n",
            "  warnings.warn(\n"
          ]
        }
      ]
    },
    {
      "cell_type": "markdown",
      "source": [
        "### Melakukan Re-Train untuk Fine-tuning dengan Dataset Sendiri"
      ],
      "metadata": {
        "id": "b00a8zDZXWPm"
      }
    },
    {
      "cell_type": "code",
      "source": [
        "trainer.train()"
      ],
      "metadata": {
        "colab": {
          "base_uri": "https://localhost:8080/",
          "height": 463
        },
        "id": "8tZg4IbsXV3s",
        "outputId": "b4821062-feee-429f-b84c-f95260ede4ad",
        "collapsed": true
      },
      "execution_count": 69,
      "outputs": [
        {
          "output_type": "stream",
          "name": "stderr",
          "text": [
            "Passing a tuple of `past_key_values` is deprecated and will be removed in Transformers v4.48.0. You should pass an instance of `EncoderDecoderCache` instead, e.g. `past_key_values=EncoderDecoderCache.from_legacy_cache(past_key_values)`.\n"
          ]
        },
        {
          "output_type": "display_data",
          "data": {
            "text/plain": [
              "<IPython.core.display.HTML object>"
            ],
            "text/html": [
              "\n",
              "    <div>\n",
              "      \n",
              "      <progress value='3000' max='3000' style='width:300px; height:20px; vertical-align: middle;'></progress>\n",
              "      [3000/3000 33:29, Epoch 10/10]\n",
              "    </div>\n",
              "    <table border=\"1\" class=\"dataframe\">\n",
              "  <thead>\n",
              " <tr style=\"text-align: left;\">\n",
              "      <th>Epoch</th>\n",
              "      <th>Training Loss</th>\n",
              "      <th>Validation Loss</th>\n",
              "    </tr>\n",
              "  </thead>\n",
              "  <tbody>\n",
              "    <tr>\n",
              "      <td>1</td>\n",
              "      <td>No log</td>\n",
              "      <td>2.993078</td>\n",
              "    </tr>\n",
              "    <tr>\n",
              "      <td>2</td>\n",
              "      <td>10.449100</td>\n",
              "      <td>0.886132</td>\n",
              "    </tr>\n",
              "    <tr>\n",
              "      <td>3</td>\n",
              "      <td>10.449100</td>\n",
              "      <td>0.670692</td>\n",
              "    </tr>\n",
              "    <tr>\n",
              "      <td>4</td>\n",
              "      <td>1.684500</td>\n",
              "      <td>0.666020</td>\n",
              "    </tr>\n",
              "    <tr>\n",
              "      <td>5</td>\n",
              "      <td>1.138600</td>\n",
              "      <td>0.643905</td>\n",
              "    </tr>\n",
              "    <tr>\n",
              "      <td>6</td>\n",
              "      <td>1.138600</td>\n",
              "      <td>0.628667</td>\n",
              "    </tr>\n",
              "    <tr>\n",
              "      <td>7</td>\n",
              "      <td>0.998100</td>\n",
              "      <td>0.626453</td>\n",
              "    </tr>\n",
              "    <tr>\n",
              "      <td>8</td>\n",
              "      <td>0.998100</td>\n",
              "      <td>0.620023</td>\n",
              "    </tr>\n",
              "    <tr>\n",
              "      <td>9</td>\n",
              "      <td>0.904800</td>\n",
              "      <td>0.613712</td>\n",
              "    </tr>\n",
              "    <tr>\n",
              "      <td>10</td>\n",
              "      <td>0.889800</td>\n",
              "      <td>0.613640</td>\n",
              "    </tr>\n",
              "  </tbody>\n",
              "</table><p>"
            ]
          },
          "metadata": {}
        },
        {
          "output_type": "execute_result",
          "data": {
            "text/plain": [
              "TrainOutput(global_step=3000, training_loss=2.677504180908203, metrics={'train_runtime': 2009.5987, 'train_samples_per_second': 8.957, 'train_steps_per_second': 1.493, 'total_flos': 9517494435840000.0, 'train_loss': 2.677504180908203, 'epoch': 10.0})"
            ]
          },
          "metadata": {},
          "execution_count": 69
        }
      ]
    },
    {
      "cell_type": "code",
      "source": [
        "import matplotlib.pyplot as plt\n",
        "import pandas as pd\n",
        "\n",
        "# Prepare the data\n",
        "data = {\n",
        "    'Epoch': [1, 2, 3, 4, 5, 6, 7, 8, 9, 10],\n",
        "    'Training Loss': [None, 10.449100, 10.449100, 1.684500, 1.138600, 1.138600, 0.998100, 0.998100, 0.904800, 0.889800],\n",
        "    'Validation Loss': [2.993078, 0.886132, 0.670692, 0.666020, 0.643905, 0.628667, 0.626453, 0.620023, 0.613712, 0.613640]\n",
        "}\n",
        "\n",
        "# Create a DataFrame\n",
        "df = pd.DataFrame(data)\n",
        "\n",
        "# Fill missing values for plotting\n",
        "df['Validation Loss'].fillna(method='ffill', inplace=True)  # Forward fill for missing values\n",
        "\n",
        "# Plotting\n",
        "plt.figure(figsize=(10, 5))\n",
        "plt.plot(df['Epoch'], df['Training Loss'], label='Training Loss', marker='o', linestyle='-')\n",
        "plt.plot(df['Epoch'], df['Validation Loss'], label='Validation Loss', marker='o', linestyle='-')\n",
        "plt.title('Training and Validation Loss Over Epochs (FineTuning IndoNanoT5-Base)')\n",
        "plt.xlabel('Epoch')\n",
        "plt.ylabel('Loss')\n",
        "plt.xticks(df['Epoch'])  # Set x-ticks to be the epoch numbers\n",
        "plt.legend()\n",
        "plt.grid()\n",
        "plt.show()\n"
      ],
      "metadata": {
        "colab": {
          "base_uri": "https://localhost:8080/",
          "height": 671
        },
        "id": "3WBDmLOoBxVD",
        "outputId": "b4b1b849-dd03-43c7-acf3-6077b21938de"
      },
      "execution_count": 87,
      "outputs": [
        {
          "output_type": "stream",
          "name": "stderr",
          "text": [
            "<ipython-input-87-f8cb5d8c4891>:15: FutureWarning: A value is trying to be set on a copy of a DataFrame or Series through chained assignment using an inplace method.\n",
            "The behavior will change in pandas 3.0. This inplace method will never work because the intermediate object on which we are setting values always behaves as a copy.\n",
            "\n",
            "For example, when doing 'df[col].method(value, inplace=True)', try using 'df.method({col: value}, inplace=True)' or df[col] = df[col].method(value) instead, to perform the operation inplace on the original object.\n",
            "\n",
            "\n",
            "  df['Validation Loss'].fillna(method='ffill', inplace=True)  # Forward fill for missing values\n",
            "<ipython-input-87-f8cb5d8c4891>:15: FutureWarning: Series.fillna with 'method' is deprecated and will raise in a future version. Use obj.ffill() or obj.bfill() instead.\n",
            "  df['Validation Loss'].fillna(method='ffill', inplace=True)  # Forward fill for missing values\n"
          ]
        },
        {
          "output_type": "display_data",
          "data": {
            "text/plain": [
              "<Figure size 1000x500 with 1 Axes>"
            ],
            "image/png": "[encoded data removed]"
          },
          "metadata": {}
        }
      ]
    },
    {
      "cell_type": "markdown",
      "source": [
        "### Menyimpan Model Hasil FineTune google/mt5-small dengan Dataset Sendiri"
      ],
      "metadata": {
        "id": "IvranAghXxzV"
      }
    },
    {
      "cell_type": "code",
      "source": [
        "model_ft_mt5_output_directory = f'./fine_tuned_model_mt5_{learning_rate}_{train_batch_size}_{epochs}'"
      ],
      "metadata": {
        "id": "uxODQge_X4aU"
      },
      "execution_count": 71,
      "outputs": []
    },
    {
      "cell_type": "code",
      "source": [
        "model_ft_mt5.save_pretrained(model_ft_mt5_output_directory)\n",
        "tokenizer_ft_mt5.save_pretrained(model_ft_mt5_output_directory)"
      ],
      "metadata": {
        "colab": {
          "base_uri": "https://localhost:8080/"
        },
        "id": "M8AzTKinX7i2",
        "outputId": "aee2b282-12c6-4b65-ea60-50e278700238"
      },
      "execution_count": 90,
      "outputs": [
        {
          "output_type": "execute_result",
          "data": {
            "text/plain": [
              "('./fine_tuned_model_mt5_5e-05_6_10/tokenizer_config.json',\n",
              " './fine_tuned_model_mt5_5e-05_6_10/special_tokens_map.json',\n",
              " './fine_tuned_model_mt5_5e-05_6_10/spiece.model',\n",
              " './fine_tuned_model_mt5_5e-05_6_10/added_tokens.json',\n",
              " './fine_tuned_model_mt5_5e-05_6_10/tokenizer.json')"
            ]
          },
          "metadata": {},
          "execution_count": 90
        }
      ]
    },
    {
      "cell_type": "markdown",
      "source": [
        "### Mencoba Generate Summary dengan Model google/mt5-small Hasil FineTune"
      ],
      "metadata": {
        "id": "hZP5zs1AYFI0"
      }
    },
    {
      "cell_type": "code",
      "source": [
        "teks_berita = df_predict['text'][0]\n",
        "referensi_ringkasan = df_predict['summary'][0]"
      ],
      "metadata": {
        "id": "0fMpGARIamo2"
      },
      "execution_count": 91,
      "outputs": []
    },
    {
      "cell_type": "markdown",
      "source": [
        "0 Shot"
      ],
      "metadata": {
        "id": "5ooyhSxIYZs1"
      }
    },
    {
      "cell_type": "code",
      "source": [
        "from transformers import AutoTokenizer, AutoModelForSeq2SeqLM\n",
        "\n",
        "tokenizer_result_mt5 = AutoTokenizer.from_pretrained(model_ft_mt5_output_directory)\n",
        "model_result_mt5 = AutoModelForSeq2SeqLM.from_pretrained(model_ft_mt5_output_directory)\n",
        "\n",
        "# Teks input\n",
        "input_text = teks_berita\n",
        "\n",
        "# Tokenisasi\n",
        "input_ids = tokenizer_result_mt5.encode(input_text, return_tensors='pt')\n",
        "\n",
        "# Menghasilkan ringkasan\n",
        "output_ids = model_result_mt5.generate(input_ids, max_length=70)\n",
        "output_text = tokenizer_result_mt5.decode(output_ids[0], skip_special_tokens=True)\n",
        "\n",
        "print(\"Berita: \", teks_berita)\n",
        "print(\"Referensi: \", referensi_ringkasan)\n",
        "print(\"Ringkasan Hasil Fine Tune:\", output_text)"
      ],
      "metadata": {
        "colab": {
          "base_uri": "https://localhost:8080/"
        },
        "id": "ajxy9x_0YJRs",
        "outputId": "a28e774d-06a9-4daf-ec20-e2f20d4f2a81"
      },
      "execution_count": 92,
      "outputs": [
        {
          "output_type": "stream",
          "name": "stderr",
          "text": [
            "/usr/local/lib/python3.10/dist-packages/transformers/convert_slow_tokenizer.py:561: UserWarning: The sentencepiece tokenizer that you are converting to a fast tokenizer uses the byte fallback option which is not implemented in the fast tokenizers. In practice this means that the fast version of the tokenizer can produce unknown tokens whereas the sentencepiece version would have converted these unknown tokens into a sequence of byte tokens matching the original piece of text.\n",
            "  warnings.warn(\n"
          ]
        },
        {
          "output_type": "stream",
          "name": "stdout",
          "text": [
            "Berita:  Jakarta Baru memiliki sepasang anak kembar ternyata bukan satu satunya kabar menyenangkan dari Jay Z Suami Beyonce itu mengumumkan akan merilis album baru yang bertajuk 4 44 pada akhir Juni Melansir AFP kabar itu diumumkan Senin 19 6 waktu Amerika Serikat melalui layanan musik daring yang dimiliki Jay Z Tidal Album itu pun tersedia secara eksklusif untuk pelanggan Tidal dan Sprint perusahaan telekomunikasi yang membeli 30 persen saham Tidal Sebuah trailer selama 30 detik menampilkan lirik dari sang rapper yang mengindikasikan sebuah album baru di tengah berita Beyonce telah melahirkan Senin 19 6 Trailer tersebut kemudian dikonfirmasi oleh Tidal dan Sprint pada tengah malam Jay Z adalah ikon global dan kami memberikan pelanggan kami kesempatan luar biasa untuk berada di antara orang pertama yang dapat menikmati album barunya Jay Z 4 44 kata CEO Sprint Marcelo Claure dalam pernyataannya Sebelumnya rumor Jay Z akan merilis album baru sudah tersiar setelah berbagai publikasi bertuliskan 4 44 muncul di internet dan beberapa media Tanda itu kemudian berubah menjadi iklan berisi film misterius yang dibintangi Muhammad Ali Lupita Nyong O dan Danny Glover Klip terbaru menggambarkan visual yang serupa dan ditutup dengan empat baris sajak dari Jay Z Album 4 44 menjadi karya pertama Jay Z usai merilis album Magna Carta Holy Grail pada 2013 lalu Meski penggemar sudah memiliki tanggal perilisan namun masih belum jelas terkait album dan filmnya akan terpisah atau menjadi album visual seperti Lemonade yang dirilis Beyonce tahun lalu\n",
            "Referensi:  Baru memiliki sepasang anak kembar ternyata bukan satu satunya kabar menyenangkan dari Jay Z Suami Beyonce itu mengumumkan akan merilis album baru yang bertajuk 4 44 pada akhir Juni Kabar itu diumumkanmelalui layanan musik daring yang dimiliki Jay Z Tidal Album itu pun tersedia secara eksklusif untuk pelanggan Tidal dan Sprint perusahaan telekomunikasi yang membeli 30 persen saham Tidal\n",
            "Ringkasan Hasil Fine Tune: <extra_id_0> memiliki sepasang anak kembar ternyata bukan satu satunya kabar menyenangkan dari Jay Z Suami Beyonce itu mengumumkan akan merilis album baru yang bertajuk 4 44 pada akhir Juni Melansir AFP kabar itu diumumkan Senin 19 6 waktu Amerika Serikat melalui layanan musik daring yang\n"
          ]
        }
      ]
    },
    {
      "cell_type": "code",
      "source": [
        "scores = scorer.score(referensi_ringkasan, output_text)\n",
        "print(scores['rouge1'].fmeasure)\n",
        "print(scores['rouge2'].fmeasure)\n",
        "print(scores['rougeL'].fmeasure)"
      ],
      "metadata": {
        "colab": {
          "base_uri": "https://localhost:8080/"
        },
        "id": "Ep0bYG-jYVTO",
        "outputId": "1d067bbb-8b7f-44b1-95ed-7b0dcca916cb"
      },
      "execution_count": 93,
      "outputs": [
        {
          "output_type": "stream",
          "name": "stdout",
          "text": [
            "0.6415094339622641\n",
            "0.5961538461538461\n",
            "0.6415094339622641\n"
          ]
        }
      ]
    },
    {
      "cell_type": "markdown",
      "source": [
        "1-Shot"
      ],
      "metadata": {
        "id": "46r8bwdqYgE1"
      }
    },
    {
      "cell_type": "code",
      "execution_count": 94,
      "metadata": {
        "id": "rl-B6sNja6Mn"
      },
      "outputs": [],
      "source": [
        "input_text_one_shot = df_train['text'][0]\n",
        "example_summary_one_shot = df_train['summary'][0]\n",
        "\n",
        "task_text = df_predict['text'][0]\n",
        "task_summary = df_predict['summary'][0]"
      ]
    },
    {
      "cell_type": "code",
      "execution_count": 95,
      "metadata": {
        "colab": {
          "base_uri": "https://localhost:8080/"
        },
        "outputId": "c5b25ead-0dad-4ee0-aac1-ec19e796482c",
        "id": "TTacexz-a6Mn"
      },
      "outputs": [
        {
          "output_type": "stream",
          "name": "stdout",
          "text": [
            "Contoh Teks:  Jakarta Dokter Ryan Thamrin yang terkenal lewat acara Dokter Oz Indonesia meninggal dunia pada Jumat 4 8 dini hari Dokter Lula Kamal yang merupakan selebriti sekaligus rekan kerja Ryan menyebut kawannya itu sudah sakit sejak setahun yang lalu Lula menuturkan sakit itu membuat Ryan mesti vakum dari semua kegiatannya termasuk menjadi pembawa acara Dokter Oz Indonesia Kondisi itu membuat Ryan harus kembali ke kampung halamannya di Pekanbaru Riau untuk menjalani istirahat Setahu saya dia orangnya sehat tapi tahun lalu saya dengar dia sakit Karena sakitnya ia langsung pulang ke Pekanbaru jadi kami yang mau jenguk juga susah Barangkali mau istirahat ya betul juga kalau di Jakarta susah isirahatnya kata Lula kepada CNNIndonesia com Jumat 4 8 Lula yang mengenal Ryan sejak sebelum aktif berkarier di televisi mengaku belum sempat membesuk Ryan lantaran lokasi yang jauh Dia juga tak tahu penyakit apa yang diderita Ryan Itu saya enggak tahu belum sempat jenguk dan enggak selamanya bisa dijenguk juga Enggak tahu berat sekali apa bagaimana tutur Ryan Walau sudah setahun menderita sakit Lula tak mengetahui apa penyebab pasti kematian Dr Oz Indonesia itu Meski demikian ia mendengar beberapa kabar yang menyebut bahwa penyebab Ryan meninggal adalah karena jatuh di kamar mandi Saya tidak tahu barangkali penyakit yang dulu sama yang sekarang berbeda atau penyebab kematiannya beda dari penyakit sebelumnya Kita kan enggak bisa mengambil kesimpulan kata Lula Ryan Thamrin terkenal sebagai dokter yang rutin membagikan tips dan informasi kesehatan lewat tayangan Dokter Oz Indonesia Ryan menempuh Pendidikan Dokter pada tahun 2002 di Fakultas Kedokteran Universitas Gadjah Mada Dia kemudian melanjutkan pendidikan Klinis Kesehatan Reproduksi dan Penyakit Menular Seksual di Mahachulalongkornrajavidyalaya University Bangkok Thailand pada 2004\n",
            "Contoh Ringkasan:  Dokter Lula Kamal yang merupakan selebriti sekaligus rekan kerja Ryan Thamrin menyebut kawannya itu sudah sakit sejak setahun yang lalu Lula menuturkan sakit itu membuat Ryan mesti vakum dari semua kegiatannya termasuk menjadi pembawa acara Dokter Oz Indonesia Kondisi itu membuat Ryan harus kembali ke kampung halamannya di Pekanbaru Riau untuk menjalani istirahat\n"
          ]
        }
      ],
      "source": [
        "print('Contoh Teks: ', input_text_one_shot)\n",
        "print('Contoh Ringkasan: ', example_summary_one_shot)"
      ]
    },
    {
      "cell_type": "code",
      "execution_count": 96,
      "metadata": {
        "colab": {
          "base_uri": "https://localhost:8080/"
        },
        "outputId": "659a272c-3692-4e85-f710-eabb7a16b90f",
        "id": "5yL3GIJya6Mn"
      },
      "outputs": [
        {
          "output_type": "stream",
          "name": "stdout",
          "text": [
            "Teks yang ingin diringkas:  Jakarta Baru memiliki sepasang anak kembar ternyata bukan satu satunya kabar menyenangkan dari Jay Z Suami Beyonce itu mengumumkan akan merilis album baru yang bertajuk 4 44 pada akhir Juni Melansir AFP kabar itu diumumkan Senin 19 6 waktu Amerika Serikat melalui layanan musik daring yang dimiliki Jay Z Tidal Album itu pun tersedia secara eksklusif untuk pelanggan Tidal dan Sprint perusahaan telekomunikasi yang membeli 30 persen saham Tidal Sebuah trailer selama 30 detik menampilkan lirik dari sang rapper yang mengindikasikan sebuah album baru di tengah berita Beyonce telah melahirkan Senin 19 6 Trailer tersebut kemudian dikonfirmasi oleh Tidal dan Sprint pada tengah malam Jay Z adalah ikon global dan kami memberikan pelanggan kami kesempatan luar biasa untuk berada di antara orang pertama yang dapat menikmati album barunya Jay Z 4 44 kata CEO Sprint Marcelo Claure dalam pernyataannya Sebelumnya rumor Jay Z akan merilis album baru sudah tersiar setelah berbagai publikasi bertuliskan 4 44 muncul di internet dan beberapa media Tanda itu kemudian berubah menjadi iklan berisi film misterius yang dibintangi Muhammad Ali Lupita Nyong O dan Danny Glover Klip terbaru menggambarkan visual yang serupa dan ditutup dengan empat baris sajak dari Jay Z Album 4 44 menjadi karya pertama Jay Z usai merilis album Magna Carta Holy Grail pada 2013 lalu Meski penggemar sudah memiliki tanggal perilisan namun masih belum jelas terkait album dan filmnya akan terpisah atau menjadi album visual seperti Lemonade yang dirilis Beyonce tahun lalu\n"
          ]
        }
      ],
      "source": [
        "print('Teks yang ingin diringkas: ', task_text)"
      ]
    },
    {
      "cell_type": "code",
      "execution_count": 97,
      "metadata": {
        "id": "LqtIQMlNa6Mo"
      },
      "outputs": [],
      "source": [
        "# Gabungkan input dan contoh\n",
        "prompt = f\"Berita: {input_text_one_shot} \\nRingkasan: {example_summary_one_shot}\\n\\nBerita: {task_text}\\nRingkasan: \""
      ]
    },
    {
      "cell_type": "code",
      "execution_count": 98,
      "metadata": {
        "colab": {
          "base_uri": "https://localhost:8080/"
        },
        "outputId": "18631790-a4d5-4bed-af80-c1588962e4b4",
        "id": "cCxgrN82a6Mo"
      },
      "outputs": [
        {
          "output_type": "stream",
          "name": "stdout",
          "text": [
            "Berita: Jakarta Dokter Ryan Thamrin yang terkenal lewat acara Dokter Oz Indonesia meninggal dunia pada Jumat 4 8 dini hari Dokter Lula Kamal yang merupakan selebriti sekaligus rekan kerja Ryan menyebut kawannya itu sudah sakit sejak setahun yang lalu Lula menuturkan sakit itu membuat Ryan mesti vakum dari semua kegiatannya termasuk menjadi pembawa acara Dokter Oz Indonesia Kondisi itu membuat Ryan harus kembali ke kampung halamannya di Pekanbaru Riau untuk menjalani istirahat Setahu saya dia orangnya sehat tapi tahun lalu saya dengar dia sakit Karena sakitnya ia langsung pulang ke Pekanbaru jadi kami yang mau jenguk juga susah Barangkali mau istirahat ya betul juga kalau di Jakarta susah isirahatnya kata Lula kepada CNNIndonesia com Jumat 4 8 Lula yang mengenal Ryan sejak sebelum aktif berkarier di televisi mengaku belum sempat membesuk Ryan lantaran lokasi yang jauh Dia juga tak tahu penyakit apa yang diderita Ryan Itu saya enggak tahu belum sempat jenguk dan enggak selamanya bisa dijenguk juga Enggak tahu berat sekali apa bagaimana tutur Ryan Walau sudah setahun menderita sakit Lula tak mengetahui apa penyebab pasti kematian Dr Oz Indonesia itu Meski demikian ia mendengar beberapa kabar yang menyebut bahwa penyebab Ryan meninggal adalah karena jatuh di kamar mandi Saya tidak tahu barangkali penyakit yang dulu sama yang sekarang berbeda atau penyebab kematiannya beda dari penyakit sebelumnya Kita kan enggak bisa mengambil kesimpulan kata Lula Ryan Thamrin terkenal sebagai dokter yang rutin membagikan tips dan informasi kesehatan lewat tayangan Dokter Oz Indonesia Ryan menempuh Pendidikan Dokter pada tahun 2002 di Fakultas Kedokteran Universitas Gadjah Mada Dia kemudian melanjutkan pendidikan Klinis Kesehatan Reproduksi dan Penyakit Menular Seksual di Mahachulalongkornrajavidyalaya University Bangkok Thailand pada 2004 \n",
            "Ringkasan: Dokter Lula Kamal yang merupakan selebriti sekaligus rekan kerja Ryan Thamrin menyebut kawannya itu sudah sakit sejak setahun yang lalu Lula menuturkan sakit itu membuat Ryan mesti vakum dari semua kegiatannya termasuk menjadi pembawa acara Dokter Oz Indonesia Kondisi itu membuat Ryan harus kembali ke kampung halamannya di Pekanbaru Riau untuk menjalani istirahat\n",
            "\n",
            "Berita: Jakarta Baru memiliki sepasang anak kembar ternyata bukan satu satunya kabar menyenangkan dari Jay Z Suami Beyonce itu mengumumkan akan merilis album baru yang bertajuk 4 44 pada akhir Juni Melansir AFP kabar itu diumumkan Senin 19 6 waktu Amerika Serikat melalui layanan musik daring yang dimiliki Jay Z Tidal Album itu pun tersedia secara eksklusif untuk pelanggan Tidal dan Sprint perusahaan telekomunikasi yang membeli 30 persen saham Tidal Sebuah trailer selama 30 detik menampilkan lirik dari sang rapper yang mengindikasikan sebuah album baru di tengah berita Beyonce telah melahirkan Senin 19 6 Trailer tersebut kemudian dikonfirmasi oleh Tidal dan Sprint pada tengah malam Jay Z adalah ikon global dan kami memberikan pelanggan kami kesempatan luar biasa untuk berada di antara orang pertama yang dapat menikmati album barunya Jay Z 4 44 kata CEO Sprint Marcelo Claure dalam pernyataannya Sebelumnya rumor Jay Z akan merilis album baru sudah tersiar setelah berbagai publikasi bertuliskan 4 44 muncul di internet dan beberapa media Tanda itu kemudian berubah menjadi iklan berisi film misterius yang dibintangi Muhammad Ali Lupita Nyong O dan Danny Glover Klip terbaru menggambarkan visual yang serupa dan ditutup dengan empat baris sajak dari Jay Z Album 4 44 menjadi karya pertama Jay Z usai merilis album Magna Carta Holy Grail pada 2013 lalu Meski penggemar sudah memiliki tanggal perilisan namun masih belum jelas terkait album dan filmnya akan terpisah atau menjadi album visual seperti Lemonade yang dirilis Beyonce tahun lalu\n",
            "Ringkasan: \n"
          ]
        }
      ],
      "source": [
        "print(prompt)"
      ]
    },
    {
      "cell_type": "code",
      "source": [
        "# Tokenisasi\n",
        "input_ids = tokenizer_result_mt5.encode(prompt, return_tensors='pt')\n",
        "\n",
        "# Menghasilkan ringkasan\n",
        "output_ids = model_result_mt5.generate(input_ids, max_length=70)\n",
        "output_summary_one_shot = tokenizer_result_mt5.decode(output_ids[0], skip_special_tokens=True)\n",
        "\n",
        "print(\"Ringkasan One-Shot:\", output_summary_one_shot)"
      ],
      "metadata": {
        "colab": {
          "base_uri": "https://localhost:8080/"
        },
        "id": "pJF4FCgrYoKM",
        "outputId": "7a56f4b8-e51a-4ab6-ad63-4d4cd226b741"
      },
      "execution_count": 99,
      "outputs": [
        {
          "output_type": "stream",
          "name": "stdout",
          "text": [
            "Ringkasan One-Shot: <extra_id_0> Ryan Thamrin yang terkenal lewat acara Dokter Oz Indonesia meninggal dunia pada Jumat 4 8 dini hari Dokter Ryan Thamrin yang terkenal lewat acara Dokter Oz Indonesia meninggal dunia pada Jumat 4 8 dini hari Dokter Ryan Thamrin yang terkenal lewat acara Dokter Oz Indonesia meninggal\n"
          ]
        }
      ]
    },
    {
      "cell_type": "code",
      "source": [
        "scores = scorer.score(task_summary, output_summary_one_shot)\n",
        "print(scores['rouge1'].fmeasure)\n",
        "print(scores['rouge2'].fmeasure)\n",
        "print(scores['rougeL'].fmeasure)"
      ],
      "metadata": {
        "colab": {
          "base_uri": "https://localhost:8080/"
        },
        "id": "7L9vULRhYokk",
        "outputId": "9d53788e-0e72-4c11-f6ab-74f81fa8aa76"
      },
      "execution_count": 100,
      "outputs": [
        {
          "output_type": "stream",
          "name": "stdout",
          "text": [
            "0.09259259259259259\n",
            "0.0\n",
            "0.07407407407407407\n"
          ]
        }
      ]
    },
    {
      "cell_type": "markdown",
      "source": [
        "Few-Shots"
      ],
      "metadata": {
        "id": "p_xPuxDbYhIE"
      }
    },
    {
      "cell_type": "code",
      "execution_count": 101,
      "metadata": {
        "id": "Mq_LvmNobLtd"
      },
      "outputs": [],
      "source": [
        "input_text_few_shots = [\n",
        "   df_train['text'][0],\n",
        "   df_train['text'][1],\n",
        "   df_train['text'][2],\n",
        "   df_train['text'][3],\n",
        "   df_train['text'][4]\n",
        "  ]\n",
        "\n",
        "example_summary_few_shots = [\n",
        "  df_train['summary'][0],\n",
        "  df_train['summary'][1],\n",
        "  df_train['summary'][2],\n",
        "  df_train['summary'][3],\n",
        "  df_train['summary'][4]\n",
        "]"
      ]
    },
    {
      "cell_type": "code",
      "execution_count": 102,
      "metadata": {
        "colab": {
          "base_uri": "https://localhost:8080/"
        },
        "outputId": "f1692a0b-c196-4035-b17a-c452f9c79585",
        "id": "q51kpHeDbLtd"
      },
      "outputs": [
        {
          "output_type": "stream",
          "name": "stdout",
          "text": [
            "Berita: Jakarta Dokter Ryan Thamrin yang terkenal lewat acara Dokter Oz Indonesia meninggal dunia pada Jumat 4 8 dini hari Dokter Lula Kamal yang merupakan selebriti sekaligus rekan kerja Ryan menyebut kawannya itu sudah sakit sejak setahun yang lalu Lula menuturkan sakit itu membuat Ryan mesti vakum dari semua kegiatannya termasuk menjadi pembawa acara Dokter Oz Indonesia Kondisi itu membuat Ryan harus kembali ke kampung halamannya di Pekanbaru Riau untuk menjalani istirahat Setahu saya dia orangnya sehat tapi tahun lalu saya dengar dia sakit Karena sakitnya ia langsung pulang ke Pekanbaru jadi kami yang mau jenguk juga susah Barangkali mau istirahat ya betul juga kalau di Jakarta susah isirahatnya kata Lula kepada CNNIndonesia com Jumat 4 8 Lula yang mengenal Ryan sejak sebelum aktif berkarier di televisi mengaku belum sempat membesuk Ryan lantaran lokasi yang jauh Dia juga tak tahu penyakit apa yang diderita Ryan Itu saya enggak tahu belum sempat jenguk dan enggak selamanya bisa dijenguk juga Enggak tahu berat sekali apa bagaimana tutur Ryan Walau sudah setahun menderita sakit Lula tak mengetahui apa penyebab pasti kematian Dr Oz Indonesia itu Meski demikian ia mendengar beberapa kabar yang menyebut bahwa penyebab Ryan meninggal adalah karena jatuh di kamar mandi Saya tidak tahu barangkali penyakit yang dulu sama yang sekarang berbeda atau penyebab kematiannya beda dari penyakit sebelumnya Kita kan enggak bisa mengambil kesimpulan kata Lula Ryan Thamrin terkenal sebagai dokter yang rutin membagikan tips dan informasi kesehatan lewat tayangan Dokter Oz Indonesia Ryan menempuh Pendidikan Dokter pada tahun 2002 di Fakultas Kedokteran Universitas Gadjah Mada Dia kemudian melanjutkan pendidikan Klinis Kesehatan Reproduksi dan Penyakit Menular Seksual di Mahachulalongkornrajavidyalaya University Bangkok Thailand pada 2004\n",
            "Ringkasan: Dokter Lula Kamal yang merupakan selebriti sekaligus rekan kerja Ryan Thamrin menyebut kawannya itu sudah sakit sejak setahun yang lalu Lula menuturkan sakit itu membuat Ryan mesti vakum dari semua kegiatannya termasuk menjadi pembawa acara Dokter Oz Indonesia Kondisi itu membuat Ryan harus kembali ke kampung halamannya di Pekanbaru Riau untuk menjalani istirahat\n",
            "\n",
            "Berita: Indonesia Corruption Watch ICW meminta Komisi Pemberantas Korupsi KPK ikut memantau perkembangan atas meninggalnya saksi kunci kasus mega korupsi e KTP Johannes Marliem Peneliti ICW Divisi Hukum dan Monitoring Peradila Aradila Caesar mengatakan momentum meninggalnya saksi kunci tersebut menimbulkan kejanggalan dan tanda tanya besar Orang meninggal kita kan tidak bisa prediksi itu bukan kuasa kita Tapi kalau kita melihat momentum kan ada suatu kejanggalan Kenapa momentum meninggalnya saat kasus e ktp sedang ditangani oleh KPK katanya seusai konferensi pers di Kantor Sekeretariatan ICW Jakarta Minggu 13 8 Pihak ICW meminta KPK turut menyelidiki kematian saksi kunci ini dan menjelaskan kepada masyarakat apakah ada keterkaitan dengan permasalahan korupsi e KTP atau hal hal lain dibalik kematian Johannes Kita minta KPK dan juga bekerja sama dengan pihak otoritas untuk menyelidiki kematian dari saksi kunci tersebut dengan serius Artinya nanti KPK harus bisa menjelaskan kepada publik kenapa kematiannya pintanya ICW berharap dengan kematian saksi kunci tidak membuat efek negatif untuk permasalahan kasus e KTP ini Jangan sampai kematiannya berdampak negatif dalam konteks membongkar kasus e ktp tersebut pungkasnya ded\n",
            "Ringkasan: Indonesia Corruption Watch ICW meminta Komisi Pemberantas Korupsi KPK ikut memantau perkembangan atas meninggalnya saksi kunci kasus mega korupsi e KTP Johannes Marliem dan menjelaskan kepada masyarakat apakah ada keterkaitan dengan permasalahan korupsi e KTP atau hal hal lain dibalik kematian Johannes Peneliti ICW Divisi Hukum dan Monitoring Peradila Aradila Caesar mengatakan momentum meninggalnya saksi kunci tersebut menimbulkan kejanggalan dan tanda tanya besar\n",
            "\n",
            "Berita: Presiden Joko Widodo Jokowi memimpin upacara penurunan bendera di Halaman Istana Merdeka Jakarta Usai prosesi penurunan bendera dilakukan Jokowi kembali bagi bagi sepeda kepada tamu undangan yang mengenakan pakaian adat terbaik Berbeda dengan saat upacara pengibaran bendera bagi bagi sepeda kali ini diumumkan oleh Wakil Presiden Jusuf Kalla JK Hal berbeda juga terjadi bagi mereka yang menerima Apabila sepeda diberikan ke pejabat negara mau pun keluarga kali ini sepeda diberikan kepada masyarakat biasa Seperti tadi pagi sore ini juga panitia membentuk tim penilai untuk menilai siapa yang berbusana tradisional adat adat daerah yang paling baik sore ini kata JK Kelima penerima sepeda di antaranya Frans Maksim yang merupakan Kepala Suku Arfak Papua Ratna Dewi Budiono yang mengenakan pakaian adat Dayak Yusak Rumambi yang mengenakan pakaian adat Sulawesi Utara Teuku Johan Marzuki yang mengenakan pakaian adat Aceh Terakhir ada Sumahartarti yang mengenakan pakaian adat asal Bengkulu Silakan semua datang ke panggung Mendapat sepeda dari Bapak Presiden bisa langsung dipakai keliling keliling nanti ujarnya Pada Upacara Pengibaran Bendera lima orang menggunakan pakaian adat terbaik yakni Menteri Hukum dan Hak Asasi Manusia Menkum HAM Yasonna Hamonangan Laoly dengan pakaian adat Nias Ketua DPD RI Oesman Sapta Odang yang menggunakan pakaian adat Minang dan Asisten Ajudan Presiden Syarif Muhammad Fidriansyah dengan pakaian adat Dayak Kalimantan Barat Dua orang lainnya adalah istri Kapolri Jenderal Pol Tito Karnavian Tri Suswati yang mengenakan pakaian adat Papua dan istri Wakil Ketua MPR Mahyudin Agati Suli menggunakan baju adat Dayak bal\n",
            "Ringkasan: Jokowi memimpin upacara penurunan bendera Usai prosesi tersebut Jokowi bagi bagi sepeda kepada tamu undangan yang mengenakan pakaian adat terbaik Berbeda dengan saat upacara pengibaran bendera bagi bagi sepeda kali ini diumumkan oleh Wakil Presiden Jusuf Kalla JK Hal berbeda juga terjadi bagi mereka yang menerima Apabila sepeda diberikan ke pejabat negara mau pun keluarga kali ini sepeda diberikan kepada masyarakat biasa\n",
            "\n",
            "Berita: Timnas Indonesia hanya mampu meraih kemenangan tipis pada laga kedua Aceh World Solidarity Cup AWSC 2017 Tim Garuda mengalahkan Mongolia dengan skor 3 2 di Stadion Harapan Bangsa Senin 4 12 malam WIB Akan tetapi kemenangan tersebut tak membuat timnas Indonesia menduduki posisi puncak Ini karena mereka kalah produktivitas gol dari Kyrgyzstan yang juga mengumpulkan poin enam Babak pertamaTimnas Indonesia tampil atraktif sejak awal pertandingan dilmulai meski hujan deras mengguyur Febri Hariyadi langsung memberikan tekanan lewat kecepatan yang menyisir sisi sayap kemudian memberikan umpan lambung ke daerah pertahanan Mongolia Armada Luis Milla tersebut mampu membuka keunggulan pada menit tujuh Adalah Gavin Kwan Adsit yang mencatatkan namanya di papan skor setelah memanfaatkan bola liar dalam kotak penalti dengan kaki kirinya Unggul satu angka membuat kepercayaan para pemain timnas Indonesia bertambah Evan Dimas serta kolega semakin gencar membombardir pertahanan Mongolia lewat sentuhan bola cepat yang dikreasikan aksi individual Pada menit 27 timnas Indonesia mampu menambah keunggulannya Kali ini Osvaldo Haay yang menjebol gawang Batsaikhan Ariunbold usai menerima bola sodoran dari Ilija Spasojevic Sebelas menit berselang Mongolia mampu memperkecil keadaan dari titik putih Munkh Erdene yang menjadi eksekutor tendangan tersebut menjalankan tugasnya dengan baik Di masa injury time giliran timnas Indonesia yang mendapatkan penalti usai Spaso dilanggar di kotak terlarang Pemain Bhayangkara FC tersebut yang juga jadi algojonya dan berhasil mencetak gol Skor 3 1 buat keunggulan pasukan Merah Putih bertahan hingga jeda Babak keduaSelepas jeda timnas Indonesia tetap mengendurkan serangannya Febri masih menjadi motor serangan yang dibantu pergerakan lincah Osvaldo serta sokongan umpan yang diberikan Evan Pada menit 57 lagi Mongolia mampu mencetak gol dari titik putih Satria Tama melakukan pelanggaran yang berujung penalti Munkh Erdene kembali dipercaya menedang dan Tama tak bisa menghalaunya Kondisi ini membuat Milla melakukan pergantian pemain Pelatih asal Spanyol tersebut menarik Saddil Ramdani di menit 68 dan memasukkan winger lincah Ilham Udin Armaiyn agar menambah daya gedor timnya Hanif Sjahbandi mencoba peruntungannya dengan melepaskan tendangan keras dari luar penalti Sayang upayanya tersebut masih mampu diamankan dengan mudah oleh Batsaikhan Ariunbold Jelang berakhirnya pertandingan timnas Indonesia semakin sering melakukan serangan Tapi sampai wasit meniupkan peluit tanda berakhirnya laga tidak ada lagi gol yang tercipta Susunan pemain kedua timMongolia Batsaikhan Ariunbold Orkhon Munkh Dagina Turbat Normoo Tsedenbel Galt Tuguldur Tsagaantsooj Munkh Ser Od Yanjiv Munkh Erdene Batturdavaajav Oyunbat Bayarjagal Naranbold Nyam Osor Indonesia Satria Tama Gavin Kwan Adsit Fachruddin Aryanto Hansamu Yama Ricky Fajrin Evan Dimas Hanif Sjahbandi Osvaldo Haay Saddil Ramdani Febri Hariyadi Ilija Spasojevic\n",
            "Ringkasan: Timnas Indonesia hanya mampu meraih kemenangan tipis pada laga kedua Aceh World Solidarity Cup AWSC 2017 Tim Garuda mengalahkan Mongolia dengan skor 3 2 di Stadion Harapan Bangsa Senin 4 12 malam WIB Akan tetapi kemenangan tersebut tak membuat timnas Indonesia menduduki posisi puncak Ini karena mereka kalah produktivitas gol dari Kyrgyzstan yang juga mengumpulkan poin enam\n",
            "\n",
            "Berita: Tahun lalu HP meluncurkan sebuah printer portable yang dapat mencetak tanpa tinta bernama Sprocket Baru baru ini perangkat tersebut telah berevolusi menjadi kamera instan dengan nama yang pas yaitu Sprocket 2 in 1 Desain dan cara kerjanya sangat mirip seperti Polaroid Snap maupun Kodak Printomatic Bidik lewat viewfinder tekan tombol shutter lalu hasilnya dapat langsung dicetak di atas kertas ZINK berukuran 2 x 3 cm Bedanya Sprocket 2 in 1 masih bisa berfungsi sebagai printer biasa Hal ini berarti pengguna masih bisa menyambungkan ponselnya via Bluetooth mengedit foto yang diinginkan lalu mencetaknya menggunakan perangkat ini Yang cukup menarik HP tidak lupa menambahkan bumbu AR pada aplikasi pendamping Sprocket di Android maupun iOS Fitur tersebut memungkinkan pengguna untuk menyelipkan foto dan video tersembunyi pada gambar yang dicetak Jadi ketika gambar tersebut dilihat menggunakan kamera smartphone akan muncul sejumlah foto dan video yang diharapkan bisa membantu pengguna menghidupi kembali momen berkenang yang ada pada gambar Bersamaan dengan itu HP juga mengumumkan Sprocket Plus Model ini pada dasarnya sama seperti Sprocket standar yang diluncurkan tahun lalu hanya saja hasil cetakannya 30 lebih besar sehingga akan terasa lebih ideal untuk foto grup HP Sprocket 2 in 1 saat ini sudah dipasarkan seharga 160 sedangkan Sprocket Plus sedikit lebih murah di angka 150 Keduanya hadir dalam tiga pilihan warna putih hitam atau merah Sumber The Verge DailySocial id adalah portal berita startup dan inovasi teknologi Kamu bisa menjadi member komunitas startup dan inovasi DailySocial id mengunduh laporan riset dan statistik seputar teknologi secara cuma cuma dan mengikuti berita startup Indonesia dan gadget terbaru\n",
            "Ringkasan: Tahun lalu HP meluncurkan sebuah printer portable yang dapat mencetak tanpa tinta bernama Sprocket Baru baru ini perangkat tersebut telah berevolusi menjadi kamera instan dengan nama yang pas yaitu Sprocket 2 in 1 Desain dan cara kerjanya sangat mirip seperti Polaroid Snap maupun Kodak Printomatic Bedanya Sprocket 2 in 1 masih bisa berfungsi sebagai printer biasa\n",
            "\n",
            "Berita: Jakarta Baru memiliki sepasang anak kembar ternyata bukan satu satunya kabar menyenangkan dari Jay Z Suami Beyonce itu mengumumkan akan merilis album baru yang bertajuk 4 44 pada akhir Juni Melansir AFP kabar itu diumumkan Senin 19 6 waktu Amerika Serikat melalui layanan musik daring yang dimiliki Jay Z Tidal Album itu pun tersedia secara eksklusif untuk pelanggan Tidal dan Sprint perusahaan telekomunikasi yang membeli 30 persen saham Tidal Sebuah trailer selama 30 detik menampilkan lirik dari sang rapper yang mengindikasikan sebuah album baru di tengah berita Beyonce telah melahirkan Senin 19 6 Trailer tersebut kemudian dikonfirmasi oleh Tidal dan Sprint pada tengah malam Jay Z adalah ikon global dan kami memberikan pelanggan kami kesempatan luar biasa untuk berada di antara orang pertama yang dapat menikmati album barunya Jay Z 4 44 kata CEO Sprint Marcelo Claure dalam pernyataannya Sebelumnya rumor Jay Z akan merilis album baru sudah tersiar setelah berbagai publikasi bertuliskan 4 44 muncul di internet dan beberapa media Tanda itu kemudian berubah menjadi iklan berisi film misterius yang dibintangi Muhammad Ali Lupita Nyong O dan Danny Glover Klip terbaru menggambarkan visual yang serupa dan ditutup dengan empat baris sajak dari Jay Z Album 4 44 menjadi karya pertama Jay Z usai merilis album Magna Carta Holy Grail pada 2013 lalu Meski penggemar sudah memiliki tanggal perilisan namun masih belum jelas terkait album dan filmnya akan terpisah atau menjadi album visual seperti Lemonade yang dirilis Beyonce tahun lalu\n",
            "Ringkasan: \n"
          ]
        }
      ],
      "source": [
        "few_shots_example = \"\"\n",
        "\n",
        "# Loop untuk menggabungkan output\n",
        "for i in range(5):\n",
        "    few_shots_example += f'Berita: {input_text_few_shots[i]}\\n'\n",
        "    few_shots_example += f'Ringkasan: {example_summary_few_shots[i]}\\n\\n'\n",
        "\n",
        "few_shots_example += f'Berita: {task_text}\\nRingkasan: '\n",
        "\n",
        "# Menampilkan semua output dalam satu variabel\n",
        "print(few_shots_example)"
      ]
    },
    {
      "cell_type": "code",
      "execution_count": 103,
      "metadata": {
        "colab": {
          "base_uri": "https://localhost:8080/"
        },
        "outputId": "8b78d321-afe3-4d4a-ea48-af6f7309bb32",
        "id": "8OWR6iB7bLte"
      },
      "outputs": [
        {
          "output_type": "stream",
          "name": "stdout",
          "text": [
            "Ringkasan Few-Shots: <extra_id_0> Berita: Jakarta Dokter Ryan Thamrin yang terkenal lewat acara Dokter Oz Indonesia meninggal dunia pada Jumat 4 8 dini hari Dokter Lula Kamal yang merupakan selebriti sekaligus rekan kerja Ryan menye\n"
          ]
        }
      ],
      "source": [
        "# Gabungkan input dan contoh\n",
        "prompt = few_shots_example\n",
        "\n",
        "# Tokenisasi\n",
        "input_ids = tokenizer_result_mt5.encode(prompt, return_tensors='pt')\n",
        "\n",
        "# Menghasilkan ringkasan\n",
        "output_ids = model_result_mt5.generate(input_ids, max_length=50)\n",
        "output_summary_few_shots = tokenizer_result_mt5.decode(output_ids[0], skip_special_tokens=True)\n",
        "\n",
        "print(\"Ringkasan Few-Shots:\", output_summary_few_shots)"
      ]
    },
    {
      "cell_type": "code",
      "execution_count": 104,
      "metadata": {
        "colab": {
          "base_uri": "https://localhost:8080/"
        },
        "outputId": "4cb739ce-efb6-4eed-9f04-1c564025dc66",
        "id": "ufVfWmfnbLte"
      },
      "outputs": [
        {
          "output_type": "stream",
          "name": "stdout",
          "text": [
            "0.08602150537634408\n",
            "0.0\n",
            "0.06451612903225808\n"
          ]
        }
      ],
      "source": [
        "scores = scorer.score(task_summary, output_summary_few_shots)\n",
        "print(scores['rouge1'].fmeasure)\n",
        "print(scores['rouge2'].fmeasure)\n",
        "print(scores['rougeL'].fmeasure)"
      ]
    }
  ],
  "metadata": {
    "accelerator": "GPU",
    "colab": {
      "gpuType": "T4",
      "provenance": []
    },
    "kernelspec": {
      "display_name": "Python 3",
      "name": "python3"
    },
    "language_info": {
      "name": "python"
    },
    "widgets": {
      "application/vnd.jupyter.widget-state+json": {
        "6b6d09100426418390c05842881b1e6e": {
          "model_module": "@jupyter-widgets/controls",
          "model_name": "HBoxModel",
          "model_module_version": "1.5.0",
          "state": {
            "_dom_classes": [],
            "_model_module": "@jupyter-widgets/controls",
            "_model_module_version": "1.5.0",
            "_model_name": "HBoxModel",
            "_view_count": null,
            "_view_module": "@jupyter-widgets/controls",
            "_view_module_version": "1.5.0",
            "_view_name": "HBoxView",
            "box_style": "",
            "children": [
              "IPY_MODEL_85898d11393642679504baaaed5e175b",
              "IPY_MODEL_59b250a1e73e4c74b3d87a6100d17613",
              "IPY_MODEL_440d98eaf12a47c5941c831e066c78ce"
            ],
            "layout": "IPY_MODEL_4a9cf260d91c48cd8a4f5147df6cd568"
          }
        },
        "85898d11393642679504baaaed5e175b": {
          "model_module": "@jupyter-widgets/controls",
          "model_name": "HTMLModel",
          "model_module_version": "1.5.0",
          "state": {
            "_dom_classes": [],
            "_model_module": "@jupyter-widgets/controls",
            "_model_module_version": "1.5.0",
            "_model_name": "HTMLModel",
            "_view_count": null,
            "_view_module": "@jupyter-widgets/controls",
            "_view_module_version": "1.5.0",
            "_view_name": "HTMLView",
            "description": "",
            "description_tooltip": null,
            "layout": "IPY_MODEL_b010c394644b4fafbcae210608ecdfbd",
            "placeholder": "​",
            "style": "IPY_MODEL_d9d90f1cc9f047c2836f2276c6eb50c5",
            "value": "tokenizer_config.json: 100%"
          }
        },
        "59b250a1e73e4c74b3d87a6100d17613": {
          "model_module": "@jupyter-widgets/controls",
          "model_name": "FloatProgressModel",
          "model_module_version": "1.5.0",
          "state": {
            "_dom_classes": [],
            "_model_module": "@jupyter-widgets/controls",
            "_model_module_version": "1.5.0",
            "_model_name": "FloatProgressModel",
            "_view_count": null,
            "_view_module": "@jupyter-widgets/controls",
            "_view_module_version": "1.5.0",
            "_view_name": "ProgressView",
            "bar_style": "success",
            "description": "",
            "description_tooltip": null,
            "layout": "IPY_MODEL_6e20a18d72bc4698bdf699f4363f1e26",
            "max": 20774,
            "min": 0,
            "orientation": "horizontal",
            "style": "IPY_MODEL_4290e4c365424f40b4f6559a6aaa200c",
            "value": 20774
          }
        },
        "440d98eaf12a47c5941c831e066c78ce": {
          "model_module": "@jupyter-widgets/controls",
          "model_name": "HTMLModel",
          "model_module_version": "1.5.0",
          "state": {
            "_dom_classes": [],
            "_model_module": "@jupyter-widgets/controls",
            "_model_module_version": "1.5.0",
            "_model_name": "HTMLModel",
            "_view_count": null,
            "_view_module": "@jupyter-widgets/controls",
            "_view_module_version": "1.5.0",
            "_view_name": "HTMLView",
            "description": "",
            "description_tooltip": null,
            "layout": "IPY_MODEL_35c61041ec884189a157313323c9052e",
            "placeholder": "​",
            "style": "IPY_MODEL_6b269b95c53a4d3f8136625083c115e5",
            "value": " 20.8k/20.8k [00:00&lt;00:00, 314kB/s]"
          }
        },
        "4a9cf260d91c48cd8a4f5147df6cd568": {
          "model_module": "@jupyter-widgets/base",
          "model_name": "LayoutModel",
          "model_module_version": "1.2.0",
          "state": {
            "_model_module": "@jupyter-widgets/base",
            "_model_module_version": "1.2.0",
            "_model_name": "LayoutModel",
            "_view_count": null,
            "_view_module": "@jupyter-widgets/base",
            "_view_module_version": "1.2.0",
            "_view_name": "LayoutView",
            "align_content": null,
            "align_items": null,
            "align_self": null,
            "border": null,
            "bottom": null,
            "display": null,
            "flex": null,
            "flex_flow": null,
            "grid_area": null,
            "grid_auto_columns": null,
            "grid_auto_flow": null,
            "grid_auto_rows": null,
            "grid_column": null,
            "grid_gap": null,
            "grid_row": null,
            "grid_template_areas": null,
            "grid_template_columns": null,
            "grid_template_rows": null,
            "height": null,
            "justify_content": null,
            "justify_items": null,
            "left": null,
            "margin": null,
            "max_height": null,
            "max_width": null,
            "min_height": null,
            "min_width": null,
            "object_fit": null,
            "object_position": null,
            "order": null,
            "overflow": null,
            "overflow_x": null,
            "overflow_y": null,
            "padding": null,
            "right": null,
            "top": null,
            "visibility": null,
            "width": null
          }
        },
        "b010c394644b4fafbcae210608ecdfbd": {
          "model_module": "@jupyter-widgets/base",
          "model_name": "LayoutModel",
          "model_module_version": "1.2.0",
          "state": {
            "_model_module": "@jupyter-widgets/base",
            "_model_module_version": "1.2.0",
            "_model_name": "LayoutModel",
            "_view_count": null,
            "_view_module": "@jupyter-widgets/base",
            "_view_module_version": "1.2.0",
            "_view_name": "LayoutView",
            "align_content": null,
            "align_items": null,
            "align_self": null,
            "border": null,
            "bottom": null,
            "display": null,
            "flex": null,
            "flex_flow": null,
            "grid_area": null,
            "grid_auto_columns": null,
            "grid_auto_flow": null,
            "grid_auto_rows": null,
            "grid_column": null,
            "grid_gap": null,
            "grid_row": null,
            "grid_template_areas": null,
            "grid_template_columns": null,
            "grid_template_rows": null,
            "height": null,
            "justify_content": null,
            "justify_items": null,
            "left": null,
            "margin": null,
            "max_height": null,
            "max_width": null,
            "min_height": null,
            "min_width": null,
            "object_fit": null,
            "object_position": null,
            "order": null,
            "overflow": null,
            "overflow_x": null,
            "overflow_y": null,
            "padding": null,
            "right": null,
            "top": null,
            "visibility": null,
            "width": null
          }
        },
        "d9d90f1cc9f047c2836f2276c6eb50c5": {
          "model_module": "@jupyter-widgets/controls",
          "model_name": "DescriptionStyleModel",
          "model_module_version": "1.5.0",
          "state": {
            "_model_module": "@jupyter-widgets/controls",
            "_model_module_version": "1.5.0",
            "_model_name": "DescriptionStyleModel",
            "_view_count": null,
            "_view_module": "@jupyter-widgets/base",
            "_view_module_version": "1.2.0",
            "_view_name": "StyleView",
            "description_width": ""
          }
        },
        "6e20a18d72bc4698bdf699f4363f1e26": {
          "model_module": "@jupyter-widgets/base",
          "model_name": "LayoutModel",
          "model_module_version": "1.2.0",
          "state": {
            "_model_module": "@jupyter-widgets/base",
            "_model_module_version": "1.2.0",
            "_model_name": "LayoutModel",
            "_view_count": null,
            "_view_module": "@jupyter-widgets/base",
            "_view_module_version": "1.2.0",
            "_view_name": "LayoutView",
            "align_content": null,
            "align_items": null,
            "align_self": null,
            "border": null,
            "bottom": null,
            "display": null,
            "flex": null,
            "flex_flow": null,
            "grid_area": null,
            "grid_auto_columns": null,
            "grid_auto_flow": null,
            "grid_auto_rows": null,
            "grid_column": null,
            "grid_gap": null,
            "grid_row": null,
            "grid_template_areas": null,
            "grid_template_columns": null,
            "grid_template_rows": null,
            "height": null,
            "justify_content": null,
            "justify_items": null,
            "left": null,
            "margin": null,
            "max_height": null,
            "max_width": null,
            "min_height": null,
            "min_width": null,
            "object_fit": null,
            "object_position": null,
            "order": null,
            "overflow": null,
            "overflow_x": null,
            "overflow_y": null,
            "padding": null,
            "right": null,
            "top": null,
            "visibility": null,
            "width": null
          }
        },
        "4290e4c365424f40b4f6559a6aaa200c": {
          "model_module": "@jupyter-widgets/controls",
          "model_name": "ProgressStyleModel",
          "model_module_version": "1.5.0",
          "state": {
            "_model_module": "@jupyter-widgets/controls",
            "_model_module_version": "1.5.0",
            "_model_name": "ProgressStyleModel",
            "_view_count": null,
            "_view_module": "@jupyter-widgets/base",
            "_view_module_version": "1.2.0",
            "_view_name": "StyleView",
            "bar_color": null,
            "description_width": ""
          }
        },
        "35c61041ec884189a157313323c9052e": {
          "model_module": "@jupyter-widgets/base",
          "model_name": "LayoutModel",
          "model_module_version": "1.2.0",
          "state": {
            "_model_module": "@jupyter-widgets/base",
            "_model_module_version": "1.2.0",
            "_model_name": "LayoutModel",
            "_view_count": null,
            "_view_module": "@jupyter-widgets/base",
            "_view_module_version": "1.2.0",
            "_view_name": "LayoutView",
            "align_content": null,
            "align_items": null,
            "align_self": null,
            "border": null,
            "bottom": null,
            "display": null,
            "flex": null,
            "flex_flow": null,
            "grid_area": null,
            "grid_auto_columns": null,
            "grid_auto_flow": null,
            "grid_auto_rows": null,
            "grid_column": null,
            "grid_gap": null,
            "grid_row": null,
            "grid_template_areas": null,
            "grid_template_columns": null,
            "grid_template_rows": null,
            "height": null,
            "justify_content": null,
            "justify_items": null,
            "left": null,
            "margin": null,
            "max_height": null,
            "max_width": null,
            "min_height": null,
            "min_width": null,
            "object_fit": null,
            "object_position": null,
            "order": null,
            "overflow": null,
            "overflow_x": null,
            "overflow_y": null,
            "padding": null,
            "right": null,
            "top": null,
            "visibility": null,
            "width": null
          }
        },
        "6b269b95c53a4d3f8136625083c115e5": {
          "model_module": "@jupyter-widgets/controls",
          "model_name": "DescriptionStyleModel",
          "model_module_version": "1.5.0",
          "state": {
            "_model_module": "@jupyter-widgets/controls",
            "_model_module_version": "1.5.0",
            "_model_name": "DescriptionStyleModel",
            "_view_count": null,
            "_view_module": "@jupyter-widgets/base",
            "_view_module_version": "1.2.0",
            "_view_name": "StyleView",
            "description_width": ""
          }
        },
        "122e53fc7dbb4f8e9176d765e9845eab": {
          "model_module": "@jupyter-widgets/controls",
          "model_name": "HBoxModel",
          "model_module_version": "1.5.0",
          "state": {
            "_dom_classes": [],
            "_model_module": "@jupyter-widgets/controls",
            "_model_module_version": "1.5.0",
            "_model_name": "HBoxModel",
            "_view_count": null,
            "_view_module": "@jupyter-widgets/controls",
            "_view_module_version": "1.5.0",
            "_view_name": "HBoxView",
            "box_style": "",
            "children": [
              "IPY_MODEL_4ea5237bb093436faf06d5d4244acad1",
              "IPY_MODEL_095cfcd8c2fc4147ac59c0a74583d54e",
              "IPY_MODEL_6a7e653cfa6f41d5883d736cc879d5c5"
            ],
            "layout": "IPY_MODEL_1d4a700bbbca4690bf3edcaf0666424f"
          }
        },
        "4ea5237bb093436faf06d5d4244acad1": {
          "model_module": "@jupyter-widgets/controls",
          "model_name": "HTMLModel",
          "model_module_version": "1.5.0",
          "state": {
            "_dom_classes": [],
            "_model_module": "@jupyter-widgets/controls",
            "_model_module_version": "1.5.0",
            "_model_name": "HTMLModel",
            "_view_count": null,
            "_view_module": "@jupyter-widgets/controls",
            "_view_module_version": "1.5.0",
            "_view_name": "HTMLView",
            "description": "",
            "description_tooltip": null,
            "layout": "IPY_MODEL_42ebf54f19cf4690aa94099ac91cd4ce",
            "placeholder": "​",
            "style": "IPY_MODEL_e5e0280ac18a4ac78b8ee481e391af12",
            "value": "tokenizer.json: 100%"
          }
        },
        "095cfcd8c2fc4147ac59c0a74583d54e": {
          "model_module": "@jupyter-widgets/controls",
          "model_name": "FloatProgressModel",
          "model_module_version": "1.5.0",
          "state": {
            "_dom_classes": [],
            "_model_module": "@jupyter-widgets/controls",
            "_model_module_version": "1.5.0",
            "_model_name": "FloatProgressModel",
            "_view_count": null,
            "_view_module": "@jupyter-widgets/controls",
            "_view_module_version": "1.5.0",
            "_view_name": "ProgressView",
            "bar_style": "success",
            "description": "",
            "description_tooltip": null,
            "layout": "IPY_MODEL_94949170554b4b5f8c0e3ae0831f432b",
            "max": 2029653,
            "min": 0,
            "orientation": "horizontal",
            "style": "IPY_MODEL_9eb218e15a664dfdb2f6662abdc9409a",
            "value": 2029653
          }
        },
        "6a7e653cfa6f41d5883d736cc879d5c5": {
          "model_module": "@jupyter-widgets/controls",
          "model_name": "HTMLModel",
          "model_module_version": "1.5.0",
          "state": {
            "_dom_classes": [],
            "_model_module": "@jupyter-widgets/controls",
            "_model_module_version": "1.5.0",
            "_model_name": "HTMLModel",
            "_view_count": null,
            "_view_module": "@jupyter-widgets/controls",
            "_view_module_version": "1.5.0",
            "_view_name": "HTMLView",
            "description": "",
            "description_tooltip": null,
            "layout": "IPY_MODEL_50f101de83e34e79b7987f86aff6f2c7",
            "placeholder": "​",
            "style": "IPY_MODEL_f253f9e58b684b3bb0dafdedbf91d660",
            "value": " 2.03M/2.03M [00:00&lt;00:00, 7.66MB/s]"
          }
        },
        "1d4a700bbbca4690bf3edcaf0666424f": {
          "model_module": "@jupyter-widgets/base",
          "model_name": "LayoutModel",
          "model_module_version": "1.2.0",
          "state": {
            "_model_module": "@jupyter-widgets/base",
            "_model_module_version": "1.2.0",
            "_model_name": "LayoutModel",
            "_view_count": null,
            "_view_module": "@jupyter-widgets/base",
            "_view_module_version": "1.2.0",
            "_view_name": "LayoutView",
            "align_content": null,
            "align_items": null,
            "align_self": null,
            "border": null,
            "bottom": null,
            "display": null,
            "flex": null,
            "flex_flow": null,
            "grid_area": null,
            "grid_auto_columns": null,
            "grid_auto_flow": null,
            "grid_auto_rows": null,
            "grid_column": null,
            "grid_gap": null,
            "grid_row": null,
            "grid_template_areas": null,
            "grid_template_columns": null,
            "grid_template_rows": null,
            "height": null,
            "justify_content": null,
            "justify_items": null,
            "left": null,
            "margin": null,
            "max_height": null,
            "max_width": null,
            "min_height": null,
            "min_width": null,
            "object_fit": null,
            "object_position": null,
            "order": null,
            "overflow": null,
            "overflow_x": null,
            "overflow_y": null,
            "padding": null,
            "right": null,
            "top": null,
            "visibility": null,
            "width": null
          }
        },
        "42ebf54f19cf4690aa94099ac91cd4ce": {
          "model_module": "@jupyter-widgets/base",
          "model_name": "LayoutModel",
          "model_module_version": "1.2.0",
          "state": {
            "_model_module": "@jupyter-widgets/base",
            "_model_module_version": "1.2.0",
            "_model_name": "LayoutModel",
            "_view_count": null,
            "_view_module": "@jupyter-widgets/base",
            "_view_module_version": "1.2.0",
            "_view_name": "LayoutView",
            "align_content": null,
            "align_items": null,
            "align_self": null,
            "border": null,
            "bottom": null,
            "display": null,
            "flex": null,
            "flex_flow": null,
            "grid_area": null,
            "grid_auto_columns": null,
            "grid_auto_flow": null,
            "grid_auto_rows": null,
            "grid_column": null,
            "grid_gap": null,
            "grid_row": null,
            "grid_template_areas": null,
            "grid_template_columns": null,
            "grid_template_rows": null,
            "height": null,
            "justify_content": null,
            "justify_items": null,
            "left": null,
            "margin": null,
            "max_height": null,
            "max_width": null,
            "min_height": null,
            "min_width": null,
            "object_fit": null,
            "object_position": null,
            "order": null,
            "overflow": null,
            "overflow_x": null,
            "overflow_y": null,
            "padding": null,
            "right": null,
            "top": null,
            "visibility": null,
            "width": null
          }
        },
        "e5e0280ac18a4ac78b8ee481e391af12": {
          "model_module": "@jupyter-widgets/controls",
          "model_name": "DescriptionStyleModel",
          "model_module_version": "1.5.0",
          "state": {
            "_model_module": "@jupyter-widgets/controls",
            "_model_module_version": "1.5.0",
            "_model_name": "DescriptionStyleModel",
            "_view_count": null,
            "_view_module": "@jupyter-widgets/base",
            "_view_module_version": "1.2.0",
            "_view_name": "StyleView",
            "description_width": ""
          }
        },
        "94949170554b4b5f8c0e3ae0831f432b": {
          "model_module": "@jupyter-widgets/base",
          "model_name": "LayoutModel",
          "model_module_version": "1.2.0",
          "state": {
            "_model_module": "@jupyter-widgets/base",
            "_model_module_version": "1.2.0",
            "_model_name": "LayoutModel",
            "_view_count": null,
            "_view_module": "@jupyter-widgets/base",
            "_view_module_version": "1.2.0",
            "_view_name": "LayoutView",
            "align_content": null,
            "align_items": null,
            "align_self": null,
            "border": null,
            "bottom": null,
            "display": null,
            "flex": null,
            "flex_flow": null,
            "grid_area": null,
            "grid_auto_columns": null,
            "grid_auto_flow": null,
            "grid_auto_rows": null,
            "grid_column": null,
            "grid_gap": null,
            "grid_row": null,
            "grid_template_areas": null,
            "grid_template_columns": null,
            "grid_template_rows": null,
            "height": null,
            "justify_content": null,
            "justify_items": null,
            "left": null,
            "margin": null,
            "max_height": null,
            "max_width": null,
            "min_height": null,
            "min_width": null,
            "object_fit": null,
            "object_position": null,
            "order": null,
            "overflow": null,
            "overflow_x": null,
            "overflow_y": null,
            "padding": null,
            "right": null,
            "top": null,
            "visibility": null,
            "width": null
          }
        },
        "9eb218e15a664dfdb2f6662abdc9409a": {
          "model_module": "@jupyter-widgets/controls",
          "model_name": "ProgressStyleModel",
          "model_module_version": "1.5.0",
          "state": {
            "_model_module": "@jupyter-widgets/controls",
            "_model_module_version": "1.5.0",
            "_model_name": "ProgressStyleModel",
            "_view_count": null,
            "_view_module": "@jupyter-widgets/base",
            "_view_module_version": "1.2.0",
            "_view_name": "StyleView",
            "bar_color": null,
            "description_width": ""
          }
        },
        "50f101de83e34e79b7987f86aff6f2c7": {
          "model_module": "@jupyter-widgets/base",
          "model_name": "LayoutModel",
          "model_module_version": "1.2.0",
          "state": {
            "_model_module": "@jupyter-widgets/base",
            "_model_module_version": "1.2.0",
            "_model_name": "LayoutModel",
            "_view_count": null,
            "_view_module": "@jupyter-widgets/base",
            "_view_module_version": "1.2.0",
            "_view_name": "LayoutView",
            "align_content": null,
            "align_items": null,
            "align_self": null,
            "border": null,
            "bottom": null,
            "display": null,
            "flex": null,
            "flex_flow": null,
            "grid_area": null,
            "grid_auto_columns": null,
            "grid_auto_flow": null,
            "grid_auto_rows": null,
            "grid_column": null,
            "grid_gap": null,
            "grid_row": null,
            "grid_template_areas": null,
            "grid_template_columns": null,
            "grid_template_rows": null,
            "height": null,
            "justify_content": null,
            "justify_items": null,
            "left": null,
            "margin": null,
            "max_height": null,
            "max_width": null,
            "min_height": null,
            "min_width": null,
            "object_fit": null,
            "object_position": null,
            "order": null,
            "overflow": null,
            "overflow_x": null,
            "overflow_y": null,
            "padding": null,
            "right": null,
            "top": null,
            "visibility": null,
            "width": null
          }
        },
        "f253f9e58b684b3bb0dafdedbf91d660": {
          "model_module": "@jupyter-widgets/controls",
          "model_name": "DescriptionStyleModel",
          "model_module_version": "1.5.0",
          "state": {
            "_model_module": "@jupyter-widgets/controls",
            "_model_module_version": "1.5.0",
            "_model_name": "DescriptionStyleModel",
            "_view_count": null,
            "_view_module": "@jupyter-widgets/base",
            "_view_module_version": "1.2.0",
            "_view_name": "StyleView",
            "description_width": ""
          }
        },
        "c49dfcb8f52f49e089e9f4b243181c7e": {
          "model_module": "@jupyter-widgets/controls",
          "model_name": "HBoxModel",
          "model_module_version": "1.5.0",
          "state": {
            "_dom_classes": [],
            "_model_module": "@jupyter-widgets/controls",
            "_model_module_version": "1.5.0",
            "_model_name": "HBoxModel",
            "_view_count": null,
            "_view_module": "@jupyter-widgets/controls",
            "_view_module_version": "1.5.0",
            "_view_name": "HBoxView",
            "box_style": "",
            "children": [
              "IPY_MODEL_f9b8dfbd1dbd4721b9938074251fd8ad",
              "IPY_MODEL_91c7c0393d7e44dfab52b4fe930c5c59",
              "IPY_MODEL_17b3d1d22dec4e95bd5ce775291ee925"
            ],
            "layout": "IPY_MODEL_4d3a89b8afc74f9d8d45da77c03d1235"
          }
        },
        "f9b8dfbd1dbd4721b9938074251fd8ad": {
          "model_module": "@jupyter-widgets/controls",
          "model_name": "HTMLModel",
          "model_module_version": "1.5.0",
          "state": {
            "_dom_classes": [],
            "_model_module": "@jupyter-widgets/controls",
            "_model_module_version": "1.5.0",
            "_model_name": "HTMLModel",
            "_view_count": null,
            "_view_module": "@jupyter-widgets/controls",
            "_view_module_version": "1.5.0",
            "_view_name": "HTMLView",
            "description": "",
            "description_tooltip": null,
            "layout": "IPY_MODEL_2b49cd13dbde4ab3917347058f7fe323",
            "placeholder": "​",
            "style": "IPY_MODEL_bf14563f6a9e4889894b4ef30a88df72",
            "value": "special_tokens_map.json: 100%"
          }
        },
        "91c7c0393d7e44dfab52b4fe930c5c59": {
          "model_module": "@jupyter-widgets/controls",
          "model_name": "FloatProgressModel",
          "model_module_version": "1.5.0",
          "state": {
            "_dom_classes": [],
            "_model_module": "@jupyter-widgets/controls",
            "_model_module_version": "1.5.0",
            "_model_name": "FloatProgressModel",
            "_view_count": null,
            "_view_module": "@jupyter-widgets/controls",
            "_view_module_version": "1.5.0",
            "_view_name": "ProgressView",
            "bar_style": "success",
            "description": "",
            "description_tooltip": null,
            "layout": "IPY_MODEL_40fb16cfdde242c28ce3acb5ff2f8cb5",
            "max": 2201,
            "min": 0,
            "orientation": "horizontal",
            "style": "IPY_MODEL_992a3a404e424d8c8e77cb9a14ced2f1",
            "value": 2201
          }
        },
        "17b3d1d22dec4e95bd5ce775291ee925": {
          "model_module": "@jupyter-widgets/controls",
          "model_name": "HTMLModel",
          "model_module_version": "1.5.0",
          "state": {
            "_dom_classes": [],
            "_model_module": "@jupyter-widgets/controls",
            "_model_module_version": "1.5.0",
            "_model_name": "HTMLModel",
            "_view_count": null,
            "_view_module": "@jupyter-widgets/controls",
            "_view_module_version": "1.5.0",
            "_view_name": "HTMLView",
            "description": "",
            "description_tooltip": null,
            "layout": "IPY_MODEL_267c98078000429ab7834c6fd0e1ef0b",
            "placeholder": "​",
            "style": "IPY_MODEL_5fc28dbfb91948d5a108823441aa1628",
            "value": " 2.20k/2.20k [00:00&lt;00:00, 105kB/s]"
          }
        },
        "4d3a89b8afc74f9d8d45da77c03d1235": {
          "model_module": "@jupyter-widgets/base",
          "model_name": "LayoutModel",
          "model_module_version": "1.2.0",
          "state": {
            "_model_module": "@jupyter-widgets/base",
            "_model_module_version": "1.2.0",
            "_model_name": "LayoutModel",
            "_view_count": null,
            "_view_module": "@jupyter-widgets/base",
            "_view_module_version": "1.2.0",
            "_view_name": "LayoutView",
            "align_content": null,
            "align_items": null,
            "align_self": null,
            "border": null,
            "bottom": null,
            "display": null,
            "flex": null,
            "flex_flow": null,
            "grid_area": null,
            "grid_auto_columns": null,
            "grid_auto_flow": null,
            "grid_auto_rows": null,
            "grid_column": null,
            "grid_gap": null,
            "grid_row": null,
            "grid_template_areas": null,
            "grid_template_columns": null,
            "grid_template_rows": null,
            "height": null,
            "justify_content": null,
            "justify_items": null,
            "left": null,
            "margin": null,
            "max_height": null,
            "max_width": null,
            "min_height": null,
            "min_width": null,
            "object_fit": null,
            "object_position": null,
            "order": null,
            "overflow": null,
            "overflow_x": null,
            "overflow_y": null,
            "padding": null,
            "right": null,
            "top": null,
            "visibility": null,
            "width": null
          }
        },
        "2b49cd13dbde4ab3917347058f7fe323": {
          "model_module": "@jupyter-widgets/base",
          "model_name": "LayoutModel",
          "model_module_version": "1.2.0",
          "state": {
            "_model_module": "@jupyter-widgets/base",
            "_model_module_version": "1.2.0",
            "_model_name": "LayoutModel",
            "_view_count": null,
            "_view_module": "@jupyter-widgets/base",
            "_view_module_version": "1.2.0",
            "_view_name": "LayoutView",
            "align_content": null,
            "align_items": null,
            "align_self": null,
            "border": null,
            "bottom": null,
            "display": null,
            "flex": null,
            "flex_flow": null,
            "grid_area": null,
            "grid_auto_columns": null,
            "grid_auto_flow": null,
            "grid_auto_rows": null,
            "grid_column": null,
            "grid_gap": null,
            "grid_row": null,
            "grid_template_areas": null,
            "grid_template_columns": null,
            "grid_template_rows": null,
            "height": null,
            "justify_content": null,
            "justify_items": null,
            "left": null,
            "margin": null,
            "max_height": null,
            "max_width": null,
            "min_height": null,
            "min_width": null,
            "object_fit": null,
            "object_position": null,
            "order": null,
            "overflow": null,
            "overflow_x": null,
            "overflow_y": null,
            "padding": null,
            "right": null,
            "top": null,
            "visibility": null,
            "width": null
          }
        },
        "bf14563f6a9e4889894b4ef30a88df72": {
          "model_module": "@jupyter-widgets/controls",
          "model_name": "DescriptionStyleModel",
          "model_module_version": "1.5.0",
          "state": {
            "_model_module": "@jupyter-widgets/controls",
            "_model_module_version": "1.5.0",
            "_model_name": "DescriptionStyleModel",
            "_view_count": null,
            "_view_module": "@jupyter-widgets/base",
            "_view_module_version": "1.2.0",
            "_view_name": "StyleView",
            "description_width": ""
          }
        },
        "40fb16cfdde242c28ce3acb5ff2f8cb5": {
          "model_module": "@jupyter-widgets/base",
          "model_name": "LayoutModel",
          "model_module_version": "1.2.0",
          "state": {
            "_model_module": "@jupyter-widgets/base",
            "_model_module_version": "1.2.0",
            "_model_name": "LayoutModel",
            "_view_count": null,
            "_view_module": "@jupyter-widgets/base",
            "_view_module_version": "1.2.0",
            "_view_name": "LayoutView",
            "align_content": null,
            "align_items": null,
            "align_self": null,
            "border": null,
            "bottom": null,
            "display": null,
            "flex": null,
            "flex_flow": null,
            "grid_area": null,
            "grid_auto_columns": null,
            "grid_auto_flow": null,
            "grid_auto_rows": null,
            "grid_column": null,
            "grid_gap": null,
            "grid_row": null,
            "grid_template_areas": null,
            "grid_template_columns": null,
            "grid_template_rows": null,
            "height": null,
            "justify_content": null,
            "justify_items": null,
            "left": null,
            "margin": null,
            "max_height": null,
            "max_width": null,
            "min_height": null,
            "min_width": null,
            "object_fit": null,
            "object_position": null,
            "order": null,
            "overflow": null,
            "overflow_x": null,
            "overflow_y": null,
            "padding": null,
            "right": null,
            "top": null,
            "visibility": null,
            "width": null
          }
        },
        "992a3a404e424d8c8e77cb9a14ced2f1": {
          "model_module": "@jupyter-widgets/controls",
          "model_name": "ProgressStyleModel",
          "model_module_version": "1.5.0",
          "state": {
            "_model_module": "@jupyter-widgets/controls",
            "_model_module_version": "1.5.0",
            "_model_name": "ProgressStyleModel",
            "_view_count": null,
            "_view_module": "@jupyter-widgets/base",
            "_view_module_version": "1.2.0",
            "_view_name": "StyleView",
            "bar_color": null,
            "description_width": ""
          }
        },
        "267c98078000429ab7834c6fd0e1ef0b": {
          "model_module": "@jupyter-widgets/base",
          "model_name": "LayoutModel",
          "model_module_version": "1.2.0",
          "state": {
            "_model_module": "@jupyter-widgets/base",
            "_model_module_version": "1.2.0",
            "_model_name": "LayoutModel",
            "_view_count": null,
            "_view_module": "@jupyter-widgets/base",
            "_view_module_version": "1.2.0",
            "_view_name": "LayoutView",
            "align_content": null,
            "align_items": null,
            "align_self": null,
            "border": null,
            "bottom": null,
            "display": null,
            "flex": null,
            "flex_flow": null,
            "grid_area": null,
            "grid_auto_columns": null,
            "grid_auto_flow": null,
            "grid_auto_rows": null,
            "grid_column": null,
            "grid_gap": null,
            "grid_row": null,
            "grid_template_areas": null,
            "grid_template_columns": null,
            "grid_template_rows": null,
            "height": null,
            "justify_content": null,
            "justify_items": null,
            "left": null,
            "margin": null,
            "max_height": null,
            "max_width": null,
            "min_height": null,
            "min_width": null,
            "object_fit": null,
            "object_position": null,
            "order": null,
            "overflow": null,
            "overflow_x": null,
            "overflow_y": null,
            "padding": null,
            "right": null,
            "top": null,
            "visibility": null,
            "width": null
          }
        },
        "5fc28dbfb91948d5a108823441aa1628": {
          "model_module": "@jupyter-widgets/controls",
          "model_name": "DescriptionStyleModel",
          "model_module_version": "1.5.0",
          "state": {
            "_model_module": "@jupyter-widgets/controls",
            "_model_module_version": "1.5.0",
            "_model_name": "DescriptionStyleModel",
            "_view_count": null,
            "_view_module": "@jupyter-widgets/base",
            "_view_module_version": "1.2.0",
            "_view_name": "StyleView",
            "description_width": ""
          }
        },
        "d891e4934fc0458bbce5c541f146dd8f": {
          "model_module": "@jupyter-widgets/controls",
          "model_name": "HBoxModel",
          "model_module_version": "1.5.0",
          "state": {
            "_dom_classes": [],
            "_model_module": "@jupyter-widgets/controls",
            "_model_module_version": "1.5.0",
            "_model_name": "HBoxModel",
            "_view_count": null,
            "_view_module": "@jupyter-widgets/controls",
            "_view_module_version": "1.5.0",
            "_view_name": "HBoxView",
            "box_style": "",
            "children": [
              "IPY_MODEL_041abefc5b654e0a9e6f231018551e04",
              "IPY_MODEL_4333084a27c74fc5b5107cc5c1e48538",
              "IPY_MODEL_d21b48b5fd654c03aa1de65cf68c8dff"
            ],
            "layout": "IPY_MODEL_2267c846f4404351821f7553271429b5"
          }
        },
        "041abefc5b654e0a9e6f231018551e04": {
          "model_module": "@jupyter-widgets/controls",
          "model_name": "HTMLModel",
          "model_module_version": "1.5.0",
          "state": {
            "_dom_classes": [],
            "_model_module": "@jupyter-widgets/controls",
            "_model_module_version": "1.5.0",
            "_model_name": "HTMLModel",
            "_view_count": null,
            "_view_module": "@jupyter-widgets/controls",
            "_view_module_version": "1.5.0",
            "_view_name": "HTMLView",
            "description": "",
            "description_tooltip": null,
            "layout": "IPY_MODEL_71628bf009da47db84147725eb2cadba",
            "placeholder": "​",
            "style": "IPY_MODEL_524c57f7fa954095baacd7046f3df92f",
            "value": "config.json: 100%"
          }
        },
        "4333084a27c74fc5b5107cc5c1e48538": {
          "model_module": "@jupyter-widgets/controls",
          "model_name": "FloatProgressModel",
          "model_module_version": "1.5.0",
          "state": {
            "_dom_classes": [],
            "_model_module": "@jupyter-widgets/controls",
            "_model_module_version": "1.5.0",
            "_model_name": "FloatProgressModel",
            "_view_count": null,
            "_view_module": "@jupyter-widgets/controls",
            "_view_module_version": "1.5.0",
            "_view_name": "ProgressView",
            "bar_style": "success",
            "description": "",
            "description_tooltip": null,
            "layout": "IPY_MODEL_e3c53466acf24fcdb2f5884351a38506",
            "max": 775,
            "min": 0,
            "orientation": "horizontal",
            "style": "IPY_MODEL_ddf30dce8ca740bea0b2f04a0f379170",
            "value": 775
          }
        },
        "d21b48b5fd654c03aa1de65cf68c8dff": {
          "model_module": "@jupyter-widgets/controls",
          "model_name": "HTMLModel",
          "model_module_version": "1.5.0",
          "state": {
            "_dom_classes": [],
            "_model_module": "@jupyter-widgets/controls",
            "_model_module_version": "1.5.0",
            "_model_name": "HTMLModel",
            "_view_count": null,
            "_view_module": "@jupyter-widgets/controls",
            "_view_module_version": "1.5.0",
            "_view_name": "HTMLView",
            "description": "",
            "description_tooltip": null,
            "layout": "IPY_MODEL_cecdcf63b90d40b9ace130986473e0e9",
            "placeholder": "​",
            "style": "IPY_MODEL_0b5d28da6cb24563b6c581f14403404d",
            "value": " 775/775 [00:00&lt;00:00, 17.3kB/s]"
          }
        },
        "2267c846f4404351821f7553271429b5": {
          "model_module": "@jupyter-widgets/base",
          "model_name": "LayoutModel",
          "model_module_version": "1.2.0",
          "state": {
            "_model_module": "@jupyter-widgets/base",
            "_model_module_version": "1.2.0",
            "_model_name": "LayoutModel",
            "_view_count": null,
            "_view_module": "@jupyter-widgets/base",
            "_view_module_version": "1.2.0",
            "_view_name": "LayoutView",
            "align_content": null,
            "align_items": null,
            "align_self": null,
            "border": null,
            "bottom": null,
            "display": null,
            "flex": null,
            "flex_flow": null,
            "grid_area": null,
            "grid_auto_columns": null,
            "grid_auto_flow": null,
            "grid_auto_rows": null,
            "grid_column": null,
            "grid_gap": null,
            "grid_row": null,
            "grid_template_areas": null,
            "grid_template_columns": null,
            "grid_template_rows": null,
            "height": null,
            "justify_content": null,
            "justify_items": null,
            "left": null,
            "margin": null,
            "max_height": null,
            "max_width": null,
            "min_height": null,
            "min_width": null,
            "object_fit": null,
            "object_position": null,
            "order": null,
            "overflow": null,
            "overflow_x": null,
            "overflow_y": null,
            "padding": null,
            "right": null,
            "top": null,
            "visibility": null,
            "width": null
          }
        },
        "71628bf009da47db84147725eb2cadba": {
          "model_module": "@jupyter-widgets/base",
          "model_name": "LayoutModel",
          "model_module_version": "1.2.0",
          "state": {
            "_model_module": "@jupyter-widgets/base",
            "_model_module_version": "1.2.0",
            "_model_name": "LayoutModel",
            "_view_count": null,
            "_view_module": "@jupyter-widgets/base",
            "_view_module_version": "1.2.0",
            "_view_name": "LayoutView",
            "align_content": null,
            "align_items": null,
            "align_self": null,
            "border": null,
            "bottom": null,
            "display": null,
            "flex": null,
            "flex_flow": null,
            "grid_area": null,
            "grid_auto_columns": null,
            "grid_auto_flow": null,
            "grid_auto_rows": null,
            "grid_column": null,
            "grid_gap": null,
            "grid_row": null,
            "grid_template_areas": null,
            "grid_template_columns": null,
            "grid_template_rows": null,
            "height": null,
            "justify_content": null,
            "justify_items": null,
            "left": null,
            "margin": null,
            "max_height": null,
            "max_width": null,
            "min_height": null,
            "min_width": null,
            "object_fit": null,
            "object_position": null,
            "order": null,
            "overflow": null,
            "overflow_x": null,
            "overflow_y": null,
            "padding": null,
            "right": null,
            "top": null,
            "visibility": null,
            "width": null
          }
        },
        "524c57f7fa954095baacd7046f3df92f": {
          "model_module": "@jupyter-widgets/controls",
          "model_name": "DescriptionStyleModel",
          "model_module_version": "1.5.0",
          "state": {
            "_model_module": "@jupyter-widgets/controls",
            "_model_module_version": "1.5.0",
            "_model_name": "DescriptionStyleModel",
            "_view_count": null,
            "_view_module": "@jupyter-widgets/base",
            "_view_module_version": "1.2.0",
            "_view_name": "StyleView",
            "description_width": ""
          }
        },
        "e3c53466acf24fcdb2f5884351a38506": {
          "model_module": "@jupyter-widgets/base",
          "model_name": "LayoutModel",
          "model_module_version": "1.2.0",
          "state": {
            "_model_module": "@jupyter-widgets/base",
            "_model_module_version": "1.2.0",
            "_model_name": "LayoutModel",
            "_view_count": null,
            "_view_module": "@jupyter-widgets/base",
            "_view_module_version": "1.2.0",
            "_view_name": "LayoutView",
            "align_content": null,
            "align_items": null,
            "align_self": null,
            "border": null,
            "bottom": null,
            "display": null,
            "flex": null,
            "flex_flow": null,
            "grid_area": null,
            "grid_auto_columns": null,
            "grid_auto_flow": null,
            "grid_auto_rows": null,
            "grid_column": null,
            "grid_gap": null,
            "grid_row": null,
            "grid_template_areas": null,
            "grid_template_columns": null,
            "grid_template_rows": null,
            "height": null,
            "justify_content": null,
            "justify_items": null,
            "left": null,
            "margin": null,
            "max_height": null,
            "max_width": null,
            "min_height": null,
            "min_width": null,
            "object_fit": null,
            "object_position": null,
            "order": null,
            "overflow": null,
            "overflow_x": null,
            "overflow_y": null,
            "padding": null,
            "right": null,
            "top": null,
            "visibility": null,
            "width": null
          }
        },
        "ddf30dce8ca740bea0b2f04a0f379170": {
          "model_module": "@jupyter-widgets/controls",
          "model_name": "ProgressStyleModel",
          "model_module_version": "1.5.0",
          "state": {
            "_model_module": "@jupyter-widgets/controls",
            "_model_module_version": "1.5.0",
            "_model_name": "ProgressStyleModel",
            "_view_count": null,
            "_view_module": "@jupyter-widgets/base",
            "_view_module_version": "1.2.0",
            "_view_name": "StyleView",
            "bar_color": null,
            "description_width": ""
          }
        },
        "cecdcf63b90d40b9ace130986473e0e9": {
          "model_module": "@jupyter-widgets/base",
          "model_name": "LayoutModel",
          "model_module_version": "1.2.0",
          "state": {
            "_model_module": "@jupyter-widgets/base",
            "_model_module_version": "1.2.0",
            "_model_name": "LayoutModel",
            "_view_count": null,
            "_view_module": "@jupyter-widgets/base",
            "_view_module_version": "1.2.0",
            "_view_name": "LayoutView",
            "align_content": null,
            "align_items": null,
            "align_self": null,
            "border": null,
            "bottom": null,
            "display": null,
            "flex": null,
            "flex_flow": null,
            "grid_area": null,
            "grid_auto_columns": null,
            "grid_auto_flow": null,
            "grid_auto_rows": null,
            "grid_column": null,
            "grid_gap": null,
            "grid_row": null,
            "grid_template_areas": null,
            "grid_template_columns": null,
            "grid_template_rows": null,
            "height": null,
            "justify_content": null,
            "justify_items": null,
            "left": null,
            "margin": null,
            "max_height": null,
            "max_width": null,
            "min_height": null,
            "min_width": null,
            "object_fit": null,
            "object_position": null,
            "order": null,
            "overflow": null,
            "overflow_x": null,
            "overflow_y": null,
            "padding": null,
            "right": null,
            "top": null,
            "visibility": null,
            "width": null
          }
        },
        "0b5d28da6cb24563b6c581f14403404d": {
          "model_module": "@jupyter-widgets/controls",
          "model_name": "DescriptionStyleModel",
          "model_module_version": "1.5.0",
          "state": {
            "_model_module": "@jupyter-widgets/controls",
            "_model_module_version": "1.5.0",
            "_model_name": "DescriptionStyleModel",
            "_view_count": null,
            "_view_module": "@jupyter-widgets/base",
            "_view_module_version": "1.2.0",
            "_view_name": "StyleView",
            "description_width": ""
          }
        },
        "506f6e71206943158f249b2ae61e3236": {
          "model_module": "@jupyter-widgets/controls",
          "model_name": "HBoxModel",
          "model_module_version": "1.5.0",
          "state": {
            "_dom_classes": [],
            "_model_module": "@jupyter-widgets/controls",
            "_model_module_version": "1.5.0",
            "_model_name": "HBoxModel",
            "_view_count": null,
            "_view_module": "@jupyter-widgets/controls",
            "_view_module_version": "1.5.0",
            "_view_name": "HBoxView",
            "box_style": "",
            "children": [
              "IPY_MODEL_7f731af9ee294a6382546515d97a25b9",
              "IPY_MODEL_8f1dcff87eb04fc389e4fc9fd1f1cf10",
              "IPY_MODEL_09fa365355b644849fcbc53b8c4901cb"
            ],
            "layout": "IPY_MODEL_0de0c99a9596444fb752cf841ca45eee"
          }
        },
        "7f731af9ee294a6382546515d97a25b9": {
          "model_module": "@jupyter-widgets/controls",
          "model_name": "HTMLModel",
          "model_module_version": "1.5.0",
          "state": {
            "_dom_classes": [],
            "_model_module": "@jupyter-widgets/controls",
            "_model_module_version": "1.5.0",
            "_model_name": "HTMLModel",
            "_view_count": null,
            "_view_module": "@jupyter-widgets/controls",
            "_view_module_version": "1.5.0",
            "_view_name": "HTMLView",
            "description": "",
            "description_tooltip": null,
            "layout": "IPY_MODEL_9b12cc3367e0461381039e620cd56fc9",
            "placeholder": "​",
            "style": "IPY_MODEL_73afbe29d7274f0fa6b8d2bc84f2cdc6",
            "value": "model.safetensors: 100%"
          }
        },
        "8f1dcff87eb04fc389e4fc9fd1f1cf10": {
          "model_module": "@jupyter-widgets/controls",
          "model_name": "FloatProgressModel",
          "model_module_version": "1.5.0",
          "state": {
            "_dom_classes": [],
            "_model_module": "@jupyter-widgets/controls",
            "_model_module_version": "1.5.0",
            "_model_name": "FloatProgressModel",
            "_view_count": null,
            "_view_module": "@jupyter-widgets/controls",
            "_view_module_version": "1.5.0",
            "_view_name": "ProgressView",
            "bar_style": "success",
            "description": "",
            "description_tooltip": null,
            "layout": "IPY_MODEL_78a2106a594346c78eb6a2f99afc30d5",
            "max": 990345064,
            "min": 0,
            "orientation": "horizontal",
            "style": "IPY_MODEL_779a9fc793a24d2ba45148e544e6a9d0",
            "value": 990345064
          }
        },
        "09fa365355b644849fcbc53b8c4901cb": {
          "model_module": "@jupyter-widgets/controls",
          "model_name": "HTMLModel",
          "model_module_version": "1.5.0",
          "state": {
            "_dom_classes": [],
            "_model_module": "@jupyter-widgets/controls",
            "_model_module_version": "1.5.0",
            "_model_name": "HTMLModel",
            "_view_count": null,
            "_view_module": "@jupyter-widgets/controls",
            "_view_module_version": "1.5.0",
            "_view_name": "HTMLView",
            "description": "",
            "description_tooltip": null,
            "layout": "IPY_MODEL_5ee1e2ca1cd64eba94ba5bbcb606c30b",
            "placeholder": "​",
            "style": "IPY_MODEL_9c8fb1b5fba44a4abf6eeb1f9b3eece0",
            "value": " 990M/990M [00:23&lt;00:00, 41.3MB/s]"
          }
        },
        "0de0c99a9596444fb752cf841ca45eee": {
          "model_module": "@jupyter-widgets/base",
          "model_name": "LayoutModel",
          "model_module_version": "1.2.0",
          "state": {
            "_model_module": "@jupyter-widgets/base",
            "_model_module_version": "1.2.0",
            "_model_name": "LayoutModel",
            "_view_count": null,
            "_view_module": "@jupyter-widgets/base",
            "_view_module_version": "1.2.0",
            "_view_name": "LayoutView",
            "align_content": null,
            "align_items": null,
            "align_self": null,
            "border": null,
            "bottom": null,
            "display": null,
            "flex": null,
            "flex_flow": null,
            "grid_area": null,
            "grid_auto_columns": null,
            "grid_auto_flow": null,
            "grid_auto_rows": null,
            "grid_column": null,
            "grid_gap": null,
            "grid_row": null,
            "grid_template_areas": null,
            "grid_template_columns": null,
            "grid_template_rows": null,
            "height": null,
            "justify_content": null,
            "justify_items": null,
            "left": null,
            "margin": null,
            "max_height": null,
            "max_width": null,
            "min_height": null,
            "min_width": null,
            "object_fit": null,
            "object_position": null,
            "order": null,
            "overflow": null,
            "overflow_x": null,
            "overflow_y": null,
            "padding": null,
            "right": null,
            "top": null,
            "visibility": null,
            "width": null
          }
        },
        "9b12cc3367e0461381039e620cd56fc9": {
          "model_module": "@jupyter-widgets/base",
          "model_name": "LayoutModel",
          "model_module_version": "1.2.0",
          "state": {
            "_model_module": "@jupyter-widgets/base",
            "_model_module_version": "1.2.0",
            "_model_name": "LayoutModel",
            "_view_count": null,
            "_view_module": "@jupyter-widgets/base",
            "_view_module_version": "1.2.0",
            "_view_name": "LayoutView",
            "align_content": null,
            "align_items": null,
            "align_self": null,
            "border": null,
            "bottom": null,
            "display": null,
            "flex": null,
            "flex_flow": null,
            "grid_area": null,
            "grid_auto_columns": null,
            "grid_auto_flow": null,
            "grid_auto_rows": null,
            "grid_column": null,
            "grid_gap": null,
            "grid_row": null,
            "grid_template_areas": null,
            "grid_template_columns": null,
            "grid_template_rows": null,
            "height": null,
            "justify_content": null,
            "justify_items": null,
            "left": null,
            "margin": null,
            "max_height": null,
            "max_width": null,
            "min_height": null,
            "min_width": null,
            "object_fit": null,
            "object_position": null,
            "order": null,
            "overflow": null,
            "overflow_x": null,
            "overflow_y": null,
            "padding": null,
            "right": null,
            "top": null,
            "visibility": null,
            "width": null
          }
        },
        "73afbe29d7274f0fa6b8d2bc84f2cdc6": {
          "model_module": "@jupyter-widgets/controls",
          "model_name": "DescriptionStyleModel",
          "model_module_version": "1.5.0",
          "state": {
            "_model_module": "@jupyter-widgets/controls",
            "_model_module_version": "1.5.0",
            "_model_name": "DescriptionStyleModel",
            "_view_count": null,
            "_view_module": "@jupyter-widgets/base",
            "_view_module_version": "1.2.0",
            "_view_name": "StyleView",
            "description_width": ""
          }
        },
        "78a2106a594346c78eb6a2f99afc30d5": {
          "model_module": "@jupyter-widgets/base",
          "model_name": "LayoutModel",
          "model_module_version": "1.2.0",
          "state": {
            "_model_module": "@jupyter-widgets/base",
            "_model_module_version": "1.2.0",
            "_model_name": "LayoutModel",
            "_view_count": null,
            "_view_module": "@jupyter-widgets/base",
            "_view_module_version": "1.2.0",
            "_view_name": "LayoutView",
            "align_content": null,
            "align_items": null,
            "align_self": null,
            "border": null,
            "bottom": null,
            "display": null,
            "flex": null,
            "flex_flow": null,
            "grid_area": null,
            "grid_auto_columns": null,
            "grid_auto_flow": null,
            "grid_auto_rows": null,
            "grid_column": null,
            "grid_gap": null,
            "grid_row": null,
            "grid_template_areas": null,
            "grid_template_columns": null,
            "grid_template_rows": null,
            "height": null,
            "justify_content": null,
            "justify_items": null,
            "left": null,
            "margin": null,
            "max_height": null,
            "max_width": null,
            "min_height": null,
            "min_width": null,
            "object_fit": null,
            "object_position": null,
            "order": null,
            "overflow": null,
            "overflow_x": null,
            "overflow_y": null,
            "padding": null,
            "right": null,
            "top": null,
            "visibility": null,
            "width": null
          }
        },
        "779a9fc793a24d2ba45148e544e6a9d0": {
          "model_module": "@jupyter-widgets/controls",
          "model_name": "ProgressStyleModel",
          "model_module_version": "1.5.0",
          "state": {
            "_model_module": "@jupyter-widgets/controls",
            "_model_module_version": "1.5.0",
            "_model_name": "ProgressStyleModel",
            "_view_count": null,
            "_view_module": "@jupyter-widgets/base",
            "_view_module_version": "1.2.0",
            "_view_name": "StyleView",
            "bar_color": null,
            "description_width": ""
          }
        },
        "5ee1e2ca1cd64eba94ba5bbcb606c30b": {
          "model_module": "@jupyter-widgets/base",
          "model_name": "LayoutModel",
          "model_module_version": "1.2.0",
          "state": {
            "_model_module": "@jupyter-widgets/base",
            "_model_module_version": "1.2.0",
            "_model_name": "LayoutModel",
            "_view_count": null,
            "_view_module": "@jupyter-widgets/base",
            "_view_module_version": "1.2.0",
            "_view_name": "LayoutView",
            "align_content": null,
            "align_items": null,
            "align_self": null,
            "border": null,
            "bottom": null,
            "display": null,
            "flex": null,
            "flex_flow": null,
            "grid_area": null,
            "grid_auto_columns": null,
            "grid_auto_flow": null,
            "grid_auto_rows": null,
            "grid_column": null,
            "grid_gap": null,
            "grid_row": null,
            "grid_template_areas": null,
            "grid_template_columns": null,
            "grid_template_rows": null,
            "height": null,
            "justify_content": null,
            "justify_items": null,
            "left": null,
            "margin": null,
            "max_height": null,
            "max_width": null,
            "min_height": null,
            "min_width": null,
            "object_fit": null,
            "object_position": null,
            "order": null,
            "overflow": null,
            "overflow_x": null,
            "overflow_y": null,
            "padding": null,
            "right": null,
            "top": null,
            "visibility": null,
            "width": null
          }
        },
        "9c8fb1b5fba44a4abf6eeb1f9b3eece0": {
          "model_module": "@jupyter-widgets/controls",
          "model_name": "DescriptionStyleModel",
          "model_module_version": "1.5.0",
          "state": {
            "_model_module": "@jupyter-widgets/controls",
            "_model_module_version": "1.5.0",
            "_model_name": "DescriptionStyleModel",
            "_view_count": null,
            "_view_module": "@jupyter-widgets/base",
            "_view_module_version": "1.2.0",
            "_view_name": "StyleView",
            "description_width": ""
          }
        },
        "a4224b54a34f4b46a9745835424e466c": {
          "model_module": "@jupyter-widgets/controls",
          "model_name": "HBoxModel",
          "model_module_version": "1.5.0",
          "state": {
            "_dom_classes": [],
            "_model_module": "@jupyter-widgets/controls",
            "_model_module_version": "1.5.0",
            "_model_name": "HBoxModel",
            "_view_count": null,
            "_view_module": "@jupyter-widgets/controls",
            "_view_module_version": "1.5.0",
            "_view_name": "HBoxView",
            "box_style": "",
            "children": [
              "IPY_MODEL_16e70b76485344fa91784a2ec058fd88",
              "IPY_MODEL_a0f2c2a287ee45ef99a13f9e5a1d70cb",
              "IPY_MODEL_fd928d1c847f4c30867aea9133674e2b"
            ],
            "layout": "IPY_MODEL_6c6b38eea859467cb34fc7bbe0e196e4"
          }
        },
        "16e70b76485344fa91784a2ec058fd88": {
          "model_module": "@jupyter-widgets/controls",
          "model_name": "HTMLModel",
          "model_module_version": "1.5.0",
          "state": {
            "_dom_classes": [],
            "_model_module": "@jupyter-widgets/controls",
            "_model_module_version": "1.5.0",
            "_model_name": "HTMLModel",
            "_view_count": null,
            "_view_module": "@jupyter-widgets/controls",
            "_view_module_version": "1.5.0",
            "_view_name": "HTMLView",
            "description": "",
            "description_tooltip": null,
            "layout": "IPY_MODEL_23977f6c56dc44bc8ce02472cdf5e516",
            "placeholder": "​",
            "style": "IPY_MODEL_cb3ef6f016de4d5cb8e5dc517192d202",
            "value": "generation_config.json: 100%"
          }
        },
        "a0f2c2a287ee45ef99a13f9e5a1d70cb": {
          "model_module": "@jupyter-widgets/controls",
          "model_name": "FloatProgressModel",
          "model_module_version": "1.5.0",
          "state": {
            "_dom_classes": [],
            "_model_module": "@jupyter-widgets/controls",
            "_model_module_version": "1.5.0",
            "_model_name": "FloatProgressModel",
            "_view_count": null,
            "_view_module": "@jupyter-widgets/controls",
            "_view_module_version": "1.5.0",
            "_view_name": "ProgressView",
            "bar_style": "success",
            "description": "",
            "description_tooltip": null,
            "layout": "IPY_MODEL_921097bca72041b8b6b59fe32d809584",
            "max": 142,
            "min": 0,
            "orientation": "horizontal",
            "style": "IPY_MODEL_d696b50354ca4c80b1bde00ee37cb74c",
            "value": 142
          }
        },
        "fd928d1c847f4c30867aea9133674e2b": {
          "model_module": "@jupyter-widgets/controls",
          "model_name": "HTMLModel",
          "model_module_version": "1.5.0",
          "state": {
            "_dom_classes": [],
            "_model_module": "@jupyter-widgets/controls",
            "_model_module_version": "1.5.0",
            "_model_name": "HTMLModel",
            "_view_count": null,
            "_view_module": "@jupyter-widgets/controls",
            "_view_module_version": "1.5.0",
            "_view_name": "HTMLView",
            "description": "",
            "description_tooltip": null,
            "layout": "IPY_MODEL_5e89667a38c643399c8880329903af01",
            "placeholder": "​",
            "style": "IPY_MODEL_1ecf9968844442e18776b16f12cb9361",
            "value": " 142/142 [00:00&lt;00:00, 8.04kB/s]"
          }
        },
        "6c6b38eea859467cb34fc7bbe0e196e4": {
          "model_module": "@jupyter-widgets/base",
          "model_name": "LayoutModel",
          "model_module_version": "1.2.0",
          "state": {
            "_model_module": "@jupyter-widgets/base",
            "_model_module_version": "1.2.0",
            "_model_name": "LayoutModel",
            "_view_count": null,
            "_view_module": "@jupyter-widgets/base",
            "_view_module_version": "1.2.0",
            "_view_name": "LayoutView",
            "align_content": null,
            "align_items": null,
            "align_self": null,
            "border": null,
            "bottom": null,
            "display": null,
            "flex": null,
            "flex_flow": null,
            "grid_area": null,
            "grid_auto_columns": null,
            "grid_auto_flow": null,
            "grid_auto_rows": null,
            "grid_column": null,
            "grid_gap": null,
            "grid_row": null,
            "grid_template_areas": null,
            "grid_template_columns": null,
            "grid_template_rows": null,
            "height": null,
            "justify_content": null,
            "justify_items": null,
            "left": null,
            "margin": null,
            "max_height": null,
            "max_width": null,
            "min_height": null,
            "min_width": null,
            "object_fit": null,
            "object_position": null,
            "order": null,
            "overflow": null,
            "overflow_x": null,
            "overflow_y": null,
            "padding": null,
            "right": null,
            "top": null,
            "visibility": null,
            "width": null
          }
        },
        "23977f6c56dc44bc8ce02472cdf5e516": {
          "model_module": "@jupyter-widgets/base",
          "model_name": "LayoutModel",
          "model_module_version": "1.2.0",
          "state": {
            "_model_module": "@jupyter-widgets/base",
            "_model_module_version": "1.2.0",
            "_model_name": "LayoutModel",
            "_view_count": null,
            "_view_module": "@jupyter-widgets/base",
            "_view_module_version": "1.2.0",
            "_view_name": "LayoutView",
            "align_content": null,
            "align_items": null,
            "align_self": null,
            "border": null,
            "bottom": null,
            "display": null,
            "flex": null,
            "flex_flow": null,
            "grid_area": null,
            "grid_auto_columns": null,
            "grid_auto_flow": null,
            "grid_auto_rows": null,
            "grid_column": null,
            "grid_gap": null,
            "grid_row": null,
            "grid_template_areas": null,
            "grid_template_columns": null,
            "grid_template_rows": null,
            "height": null,
            "justify_content": null,
            "justify_items": null,
            "left": null,
            "margin": null,
            "max_height": null,
            "max_width": null,
            "min_height": null,
            "min_width": null,
            "object_fit": null,
            "object_position": null,
            "order": null,
            "overflow": null,
            "overflow_x": null,
            "overflow_y": null,
            "padding": null,
            "right": null,
            "top": null,
            "visibility": null,
            "width": null
          }
        },
        "cb3ef6f016de4d5cb8e5dc517192d202": {
          "model_module": "@jupyter-widgets/controls",
          "model_name": "DescriptionStyleModel",
          "model_module_version": "1.5.0",
          "state": {
            "_model_module": "@jupyter-widgets/controls",
            "_model_module_version": "1.5.0",
            "_model_name": "DescriptionStyleModel",
            "_view_count": null,
            "_view_module": "@jupyter-widgets/base",
            "_view_module_version": "1.2.0",
            "_view_name": "StyleView",
            "description_width": ""
          }
        },
        "921097bca72041b8b6b59fe32d809584": {
          "model_module": "@jupyter-widgets/base",
          "model_name": "LayoutModel",
          "model_module_version": "1.2.0",
          "state": {
            "_model_module": "@jupyter-widgets/base",
            "_model_module_version": "1.2.0",
            "_model_name": "LayoutModel",
            "_view_count": null,
            "_view_module": "@jupyter-widgets/base",
            "_view_module_version": "1.2.0",
            "_view_name": "LayoutView",
            "align_content": null,
            "align_items": null,
            "align_self": null,
            "border": null,
            "bottom": null,
            "display": null,
            "flex": null,
            "flex_flow": null,
            "grid_area": null,
            "grid_auto_columns": null,
            "grid_auto_flow": null,
            "grid_auto_rows": null,
            "grid_column": null,
            "grid_gap": null,
            "grid_row": null,
            "grid_template_areas": null,
            "grid_template_columns": null,
            "grid_template_rows": null,
            "height": null,
            "justify_content": null,
            "justify_items": null,
            "left": null,
            "margin": null,
            "max_height": null,
            "max_width": null,
            "min_height": null,
            "min_width": null,
            "object_fit": null,
            "object_position": null,
            "order": null,
            "overflow": null,
            "overflow_x": null,
            "overflow_y": null,
            "padding": null,
            "right": null,
            "top": null,
            "visibility": null,
            "width": null
          }
        },
        "d696b50354ca4c80b1bde00ee37cb74c": {
          "model_module": "@jupyter-widgets/controls",
          "model_name": "ProgressStyleModel",
          "model_module_version": "1.5.0",
          "state": {
            "_model_module": "@jupyter-widgets/controls",
            "_model_module_version": "1.5.0",
            "_model_name": "ProgressStyleModel",
            "_view_count": null,
            "_view_module": "@jupyter-widgets/base",
            "_view_module_version": "1.2.0",
            "_view_name": "StyleView",
            "bar_color": null,
            "description_width": ""
          }
        },
        "5e89667a38c643399c8880329903af01": {
          "model_module": "@jupyter-widgets/base",
          "model_name": "LayoutModel",
          "model_module_version": "1.2.0",
          "state": {
            "_model_module": "@jupyter-widgets/base",
            "_model_module_version": "1.2.0",
            "_model_name": "LayoutModel",
            "_view_count": null,
            "_view_module": "@jupyter-widgets/base",
            "_view_module_version": "1.2.0",
            "_view_name": "LayoutView",
            "align_content": null,
            "align_items": null,
            "align_self": null,
            "border": null,
            "bottom": null,
            "display": null,
            "flex": null,
            "flex_flow": null,
            "grid_area": null,
            "grid_auto_columns": null,
            "grid_auto_flow": null,
            "grid_auto_rows": null,
            "grid_column": null,
            "grid_gap": null,
            "grid_row": null,
            "grid_template_areas": null,
            "grid_template_columns": null,
            "grid_template_rows": null,
            "height": null,
            "justify_content": null,
            "justify_items": null,
            "left": null,
            "margin": null,
            "max_height": null,
            "max_width": null,
            "min_height": null,
            "min_width": null,
            "object_fit": null,
            "object_position": null,
            "order": null,
            "overflow": null,
            "overflow_x": null,
            "overflow_y": null,
            "padding": null,
            "right": null,
            "top": null,
            "visibility": null,
            "width": null
          }
        },
        "1ecf9968844442e18776b16f12cb9361": {
          "model_module": "@jupyter-widgets/controls",
          "model_name": "DescriptionStyleModel",
          "model_module_version": "1.5.0",
          "state": {
            "_model_module": "@jupyter-widgets/controls",
            "_model_module_version": "1.5.0",
            "_model_name": "DescriptionStyleModel",
            "_view_count": null,
            "_view_module": "@jupyter-widgets/base",
            "_view_module_version": "1.2.0",
            "_view_name": "StyleView",
            "description_width": ""
          }
        },
        "78ee4673742e414ea3045cabf80568e9": {
          "model_module": "@jupyter-widgets/controls",
          "model_name": "HBoxModel",
          "model_module_version": "1.5.0",
          "state": {
            "_dom_classes": [],
            "_model_module": "@jupyter-widgets/controls",
            "_model_module_version": "1.5.0",
            "_model_name": "HBoxModel",
            "_view_count": null,
            "_view_module": "@jupyter-widgets/controls",
            "_view_module_version": "1.5.0",
            "_view_name": "HBoxView",
            "box_style": "",
            "children": [
              "IPY_MODEL_977c0a19b8894fae8ec609950b9896d1",
              "IPY_MODEL_759a4ea999da45ff9db9b3953a20a50e",
              "IPY_MODEL_2445980b40c4484dabd2532c471307d9"
            ],
            "layout": "IPY_MODEL_2def98871abb46bea6ccb7a7b249cd18"
          }
        },
        "977c0a19b8894fae8ec609950b9896d1": {
          "model_module": "@jupyter-widgets/controls",
          "model_name": "HTMLModel",
          "model_module_version": "1.5.0",
          "state": {
            "_dom_classes": [],
            "_model_module": "@jupyter-widgets/controls",
            "_model_module_version": "1.5.0",
            "_model_name": "HTMLModel",
            "_view_count": null,
            "_view_module": "@jupyter-widgets/controls",
            "_view_module_version": "1.5.0",
            "_view_name": "HTMLView",
            "description": "",
            "description_tooltip": null,
            "layout": "IPY_MODEL_bccf568385ef49ee97508e4b6990c6e8",
            "placeholder": "​",
            "style": "IPY_MODEL_575e0149ebe640cd9cdfbde36d30188a",
            "value": "pytorch_model.bin: 100%"
          }
        },
        "759a4ea999da45ff9db9b3953a20a50e": {
          "model_module": "@jupyter-widgets/controls",
          "model_name": "FloatProgressModel",
          "model_module_version": "1.5.0",
          "state": {
            "_dom_classes": [],
            "_model_module": "@jupyter-widgets/controls",
            "_model_module_version": "1.5.0",
            "_model_name": "FloatProgressModel",
            "_view_count": null,
            "_view_module": "@jupyter-widgets/controls",
            "_view_module_version": "1.5.0",
            "_view_name": "ProgressView",
            "bar_style": "success",
            "description": "",
            "description_tooltip": null,
            "layout": "IPY_MODEL_5601042a32654a6887f5b5789d7c2ba3",
            "max": 1200794589,
            "min": 0,
            "orientation": "horizontal",
            "style": "IPY_MODEL_c6b5a22d979b4c2fbe1d6c15508845be",
            "value": 1200794589
          }
        },
        "2445980b40c4484dabd2532c471307d9": {
          "model_module": "@jupyter-widgets/controls",
          "model_name": "HTMLModel",
          "model_module_version": "1.5.0",
          "state": {
            "_dom_classes": [],
            "_model_module": "@jupyter-widgets/controls",
            "_model_module_version": "1.5.0",
            "_model_name": "HTMLModel",
            "_view_count": null,
            "_view_module": "@jupyter-widgets/controls",
            "_view_module_version": "1.5.0",
            "_view_name": "HTMLView",
            "description": "",
            "description_tooltip": null,
            "layout": "IPY_MODEL_79cb1aa048044ab1b7a274c6bc88f3c5",
            "placeholder": "​",
            "style": "IPY_MODEL_2853bfabc07c44e280521acf7ebbb98b",
            "value": " 1.20G/1.20G [00:23&lt;00:00, 25.6MB/s]"
          }
        },
        "2def98871abb46bea6ccb7a7b249cd18": {
          "model_module": "@jupyter-widgets/base",
          "model_name": "LayoutModel",
          "model_module_version": "1.2.0",
          "state": {
            "_model_module": "@jupyter-widgets/base",
            "_model_module_version": "1.2.0",
            "_model_name": "LayoutModel",
            "_view_count": null,
            "_view_module": "@jupyter-widgets/base",
            "_view_module_version": "1.2.0",
            "_view_name": "LayoutView",
            "align_content": null,
            "align_items": null,
            "align_self": null,
            "border": null,
            "bottom": null,
            "display": null,
            "flex": null,
            "flex_flow": null,
            "grid_area": null,
            "grid_auto_columns": null,
            "grid_auto_flow": null,
            "grid_auto_rows": null,
            "grid_column": null,
            "grid_gap": null,
            "grid_row": null,
            "grid_template_areas": null,
            "grid_template_columns": null,
            "grid_template_rows": null,
            "height": null,
            "justify_content": null,
            "justify_items": null,
            "left": null,
            "margin": null,
            "max_height": null,
            "max_width": null,
            "min_height": null,
            "min_width": null,
            "object_fit": null,
            "object_position": null,
            "order": null,
            "overflow": null,
            "overflow_x": null,
            "overflow_y": null,
            "padding": null,
            "right": null,
            "top": null,
            "visibility": null,
            "width": null
          }
        },
        "bccf568385ef49ee97508e4b6990c6e8": {
          "model_module": "@jupyter-widgets/base",
          "model_name": "LayoutModel",
          "model_module_version": "1.2.0",
          "state": {
            "_model_module": "@jupyter-widgets/base",
            "_model_module_version": "1.2.0",
            "_model_name": "LayoutModel",
            "_view_count": null,
            "_view_module": "@jupyter-widgets/base",
            "_view_module_version": "1.2.0",
            "_view_name": "LayoutView",
            "align_content": null,
            "align_items": null,
            "align_self": null,
            "border": null,
            "bottom": null,
            "display": null,
            "flex": null,
            "flex_flow": null,
            "grid_area": null,
            "grid_auto_columns": null,
            "grid_auto_flow": null,
            "grid_auto_rows": null,
            "grid_column": null,
            "grid_gap": null,
            "grid_row": null,
            "grid_template_areas": null,
            "grid_template_columns": null,
            "grid_template_rows": null,
            "height": null,
            "justify_content": null,
            "justify_items": null,
            "left": null,
            "margin": null,
            "max_height": null,
            "max_width": null,
            "min_height": null,
            "min_width": null,
            "object_fit": null,
            "object_position": null,
            "order": null,
            "overflow": null,
            "overflow_x": null,
            "overflow_y": null,
            "padding": null,
            "right": null,
            "top": null,
            "visibility": null,
            "width": null
          }
        },
        "575e0149ebe640cd9cdfbde36d30188a": {
          "model_module": "@jupyter-widgets/controls",
          "model_name": "DescriptionStyleModel",
          "model_module_version": "1.5.0",
          "state": {
            "_model_module": "@jupyter-widgets/controls",
            "_model_module_version": "1.5.0",
            "_model_name": "DescriptionStyleModel",
            "_view_count": null,
            "_view_module": "@jupyter-widgets/base",
            "_view_module_version": "1.2.0",
            "_view_name": "StyleView",
            "description_width": ""
          }
        },
        "5601042a32654a6887f5b5789d7c2ba3": {
          "model_module": "@jupyter-widgets/base",
          "model_name": "LayoutModel",
          "model_module_version": "1.2.0",
          "state": {
            "_model_module": "@jupyter-widgets/base",
            "_model_module_version": "1.2.0",
            "_model_name": "LayoutModel",
            "_view_count": null,
            "_view_module": "@jupyter-widgets/base",
            "_view_module_version": "1.2.0",
            "_view_name": "LayoutView",
            "align_content": null,
            "align_items": null,
            "align_self": null,
            "border": null,
            "bottom": null,
            "display": null,
            "flex": null,
            "flex_flow": null,
            "grid_area": null,
            "grid_auto_columns": null,
            "grid_auto_flow": null,
            "grid_auto_rows": null,
            "grid_column": null,
            "grid_gap": null,
            "grid_row": null,
            "grid_template_areas": null,
            "grid_template_columns": null,
            "grid_template_rows": null,
            "height": null,
            "justify_content": null,
            "justify_items": null,
            "left": null,
            "margin": null,
            "max_height": null,
            "max_width": null,
            "min_height": null,
            "min_width": null,
            "object_fit": null,
            "object_position": null,
            "order": null,
            "overflow": null,
            "overflow_x": null,
            "overflow_y": null,
            "padding": null,
            "right": null,
            "top": null,
            "visibility": null,
            "width": null
          }
        },
        "c6b5a22d979b4c2fbe1d6c15508845be": {
          "model_module": "@jupyter-widgets/controls",
          "model_name": "ProgressStyleModel",
          "model_module_version": "1.5.0",
          "state": {
            "_model_module": "@jupyter-widgets/controls",
            "_model_module_version": "1.5.0",
            "_model_name": "ProgressStyleModel",
            "_view_count": null,
            "_view_module": "@jupyter-widgets/base",
            "_view_module_version": "1.2.0",
            "_view_name": "StyleView",
            "bar_color": null,
            "description_width": ""
          }
        },
        "79cb1aa048044ab1b7a274c6bc88f3c5": {
          "model_module": "@jupyter-widgets/base",
          "model_name": "LayoutModel",
          "model_module_version": "1.2.0",
          "state": {
            "_model_module": "@jupyter-widgets/base",
            "_model_module_version": "1.2.0",
            "_model_name": "LayoutModel",
            "_view_count": null,
            "_view_module": "@jupyter-widgets/base",
            "_view_module_version": "1.2.0",
            "_view_name": "LayoutView",
            "align_content": null,
            "align_items": null,
            "align_self": null,
            "border": null,
            "bottom": null,
            "display": null,
            "flex": null,
            "flex_flow": null,
            "grid_area": null,
            "grid_auto_columns": null,
            "grid_auto_flow": null,
            "grid_auto_rows": null,
            "grid_column": null,
            "grid_gap": null,
            "grid_row": null,
            "grid_template_areas": null,
            "grid_template_columns": null,
            "grid_template_rows": null,
            "height": null,
            "justify_content": null,
            "justify_items": null,
            "left": null,
            "margin": null,
            "max_height": null,
            "max_width": null,
            "min_height": null,
            "min_width": null,
            "object_fit": null,
            "object_position": null,
            "order": null,
            "overflow": null,
            "overflow_x": null,
            "overflow_y": null,
            "padding": null,
            "right": null,
            "top": null,
            "visibility": null,
            "width": null
          }
        },
        "2853bfabc07c44e280521acf7ebbb98b": {
          "model_module": "@jupyter-widgets/controls",
          "model_name": "DescriptionStyleModel",
          "model_module_version": "1.5.0",
          "state": {
            "_model_module": "@jupyter-widgets/controls",
            "_model_module_version": "1.5.0",
            "_model_name": "DescriptionStyleModel",
            "_view_count": null,
            "_view_module": "@jupyter-widgets/base",
            "_view_module_version": "1.2.0",
            "_view_name": "StyleView",
            "description_width": ""
          }
        },
        "2a2f74737a4a4afc803cc8febf4cb25c": {
          "model_module": "@jupyter-widgets/controls",
          "model_name": "HBoxModel",
          "model_module_version": "1.5.0",
          "state": {
            "_dom_classes": [],
            "_model_module": "@jupyter-widgets/controls",
            "_model_module_version": "1.5.0",
            "_model_name": "HBoxModel",
            "_view_count": null,
            "_view_module": "@jupyter-widgets/controls",
            "_view_module_version": "1.5.0",
            "_view_name": "HBoxView",
            "box_style": "",
            "children": [
              "IPY_MODEL_49524239066446838f653a805ab43e5d",
              "IPY_MODEL_29dfd5e516b94ce292e0c07d6dd7ef1d",
              "IPY_MODEL_8338a0c87adc4ce681b7038453294d3c"
            ],
            "layout": "IPY_MODEL_8002814e2dda454d899d3602424ed518"
          }
        },
        "49524239066446838f653a805ab43e5d": {
          "model_module": "@jupyter-widgets/controls",
          "model_name": "HTMLModel",
          "model_module_version": "1.5.0",
          "state": {
            "_dom_classes": [],
            "_model_module": "@jupyter-widgets/controls",
            "_model_module_version": "1.5.0",
            "_model_name": "HTMLModel",
            "_view_count": null,
            "_view_module": "@jupyter-widgets/controls",
            "_view_module_version": "1.5.0",
            "_view_name": "HTMLView",
            "description": "",
            "description_tooltip": null,
            "layout": "IPY_MODEL_cd2cf9de9be64cc58912954bfe84193f",
            "placeholder": "​",
            "style": "IPY_MODEL_ac550eaf4c044e3590216721731395a8",
            "value": "generation_config.json: 100%"
          }
        },
        "29dfd5e516b94ce292e0c07d6dd7ef1d": {
          "model_module": "@jupyter-widgets/controls",
          "model_name": "FloatProgressModel",
          "model_module_version": "1.5.0",
          "state": {
            "_dom_classes": [],
            "_model_module": "@jupyter-widgets/controls",
            "_model_module_version": "1.5.0",
            "_model_name": "FloatProgressModel",
            "_view_count": null,
            "_view_module": "@jupyter-widgets/controls",
            "_view_module_version": "1.5.0",
            "_view_name": "ProgressView",
            "bar_style": "success",
            "description": "",
            "description_tooltip": null,
            "layout": "IPY_MODEL_9178b101ff99497999c11a6b6ff73bba",
            "max": 147,
            "min": 0,
            "orientation": "horizontal",
            "style": "IPY_MODEL_d4967172ab144d9586beab5776df916a",
            "value": 147
          }
        },
        "8338a0c87adc4ce681b7038453294d3c": {
          "model_module": "@jupyter-widgets/controls",
          "model_name": "HTMLModel",
          "model_module_version": "1.5.0",
          "state": {
            "_dom_classes": [],
            "_model_module": "@jupyter-widgets/controls",
            "_model_module_version": "1.5.0",
            "_model_name": "HTMLModel",
            "_view_count": null,
            "_view_module": "@jupyter-widgets/controls",
            "_view_module_version": "1.5.0",
            "_view_name": "HTMLView",
            "description": "",
            "description_tooltip": null,
            "layout": "IPY_MODEL_4a19d1fdd3a3457e87f613336851afa3",
            "placeholder": "​",
            "style": "IPY_MODEL_f4bec302841d4045b39dd6501f33e53e",
            "value": " 147/147 [00:00&lt;00:00, 8.57kB/s]"
          }
        },
        "8002814e2dda454d899d3602424ed518": {
          "model_module": "@jupyter-widgets/base",
          "model_name": "LayoutModel",
          "model_module_version": "1.2.0",
          "state": {
            "_model_module": "@jupyter-widgets/base",
            "_model_module_version": "1.2.0",
            "_model_name": "LayoutModel",
            "_view_count": null,
            "_view_module": "@jupyter-widgets/base",
            "_view_module_version": "1.2.0",
            "_view_name": "LayoutView",
            "align_content": null,
            "align_items": null,
            "align_self": null,
            "border": null,
            "bottom": null,
            "display": null,
            "flex": null,
            "flex_flow": null,
            "grid_area": null,
            "grid_auto_columns": null,
            "grid_auto_flow": null,
            "grid_auto_rows": null,
            "grid_column": null,
            "grid_gap": null,
            "grid_row": null,
            "grid_template_areas": null,
            "grid_template_columns": null,
            "grid_template_rows": null,
            "height": null,
            "justify_content": null,
            "justify_items": null,
            "left": null,
            "margin": null,
            "max_height": null,
            "max_width": null,
            "min_height": null,
            "min_width": null,
            "object_fit": null,
            "object_position": null,
            "order": null,
            "overflow": null,
            "overflow_x": null,
            "overflow_y": null,
            "padding": null,
            "right": null,
            "top": null,
            "visibility": null,
            "width": null
          }
        },
        "cd2cf9de9be64cc58912954bfe84193f": {
          "model_module": "@jupyter-widgets/base",
          "model_name": "LayoutModel",
          "model_module_version": "1.2.0",
          "state": {
            "_model_module": "@jupyter-widgets/base",
            "_model_module_version": "1.2.0",
            "_model_name": "LayoutModel",
            "_view_count": null,
            "_view_module": "@jupyter-widgets/base",
            "_view_module_version": "1.2.0",
            "_view_name": "LayoutView",
            "align_content": null,
            "align_items": null,
            "align_self": null,
            "border": null,
            "bottom": null,
            "display": null,
            "flex": null,
            "flex_flow": null,
            "grid_area": null,
            "grid_auto_columns": null,
            "grid_auto_flow": null,
            "grid_auto_rows": null,
            "grid_column": null,
            "grid_gap": null,
            "grid_row": null,
            "grid_template_areas": null,
            "grid_template_columns": null,
            "grid_template_rows": null,
            "height": null,
            "justify_content": null,
            "justify_items": null,
            "left": null,
            "margin": null,
            "max_height": null,
            "max_width": null,
            "min_height": null,
            "min_width": null,
            "object_fit": null,
            "object_position": null,
            "order": null,
            "overflow": null,
            "overflow_x": null,
            "overflow_y": null,
            "padding": null,
            "right": null,
            "top": null,
            "visibility": null,
            "width": null
          }
        },
        "ac550eaf4c044e3590216721731395a8": {
          "model_module": "@jupyter-widgets/controls",
          "model_name": "DescriptionStyleModel",
          "model_module_version": "1.5.0",
          "state": {
            "_model_module": "@jupyter-widgets/controls",
            "_model_module_version": "1.5.0",
            "_model_name": "DescriptionStyleModel",
            "_view_count": null,
            "_view_module": "@jupyter-widgets/base",
            "_view_module_version": "1.2.0",
            "_view_name": "StyleView",
            "description_width": ""
          }
        },
        "9178b101ff99497999c11a6b6ff73bba": {
          "model_module": "@jupyter-widgets/base",
          "model_name": "LayoutModel",
          "model_module_version": "1.2.0",
          "state": {
            "_model_module": "@jupyter-widgets/base",
            "_model_module_version": "1.2.0",
            "_model_name": "LayoutModel",
            "_view_count": null,
            "_view_module": "@jupyter-widgets/base",
            "_view_module_version": "1.2.0",
            "_view_name": "LayoutView",
            "align_content": null,
            "align_items": null,
            "align_self": null,
            "border": null,
            "bottom": null,
            "display": null,
            "flex": null,
            "flex_flow": null,
            "grid_area": null,
            "grid_auto_columns": null,
            "grid_auto_flow": null,
            "grid_auto_rows": null,
            "grid_column": null,
            "grid_gap": null,
            "grid_row": null,
            "grid_template_areas": null,
            "grid_template_columns": null,
            "grid_template_rows": null,
            "height": null,
            "justify_content": null,
            "justify_items": null,
            "left": null,
            "margin": null,
            "max_height": null,
            "max_width": null,
            "min_height": null,
            "min_width": null,
            "object_fit": null,
            "object_position": null,
            "order": null,
            "overflow": null,
            "overflow_x": null,
            "overflow_y": null,
            "padding": null,
            "right": null,
            "top": null,
            "visibility": null,
            "width": null
          }
        },
        "d4967172ab144d9586beab5776df916a": {
          "model_module": "@jupyter-widgets/controls",
          "model_name": "ProgressStyleModel",
          "model_module_version": "1.5.0",
          "state": {
            "_model_module": "@jupyter-widgets/controls",
            "_model_module_version": "1.5.0",
            "_model_name": "ProgressStyleModel",
            "_view_count": null,
            "_view_module": "@jupyter-widgets/base",
            "_view_module_version": "1.2.0",
            "_view_name": "StyleView",
            "bar_color": null,
            "description_width": ""
          }
        },
        "4a19d1fdd3a3457e87f613336851afa3": {
          "model_module": "@jupyter-widgets/base",
          "model_name": "LayoutModel",
          "model_module_version": "1.2.0",
          "state": {
            "_model_module": "@jupyter-widgets/base",
            "_model_module_version": "1.2.0",
            "_model_name": "LayoutModel",
            "_view_count": null,
            "_view_module": "@jupyter-widgets/base",
            "_view_module_version": "1.2.0",
            "_view_name": "LayoutView",
            "align_content": null,
            "align_items": null,
            "align_self": null,
            "border": null,
            "bottom": null,
            "display": null,
            "flex": null,
            "flex_flow": null,
            "grid_area": null,
            "grid_auto_columns": null,
            "grid_auto_flow": null,
            "grid_auto_rows": null,
            "grid_column": null,
            "grid_gap": null,
            "grid_row": null,
            "grid_template_areas": null,
            "grid_template_columns": null,
            "grid_template_rows": null,
            "height": null,
            "justify_content": null,
            "justify_items": null,
            "left": null,
            "margin": null,
            "max_height": null,
            "max_width": null,
            "min_height": null,
            "min_width": null,
            "object_fit": null,
            "object_position": null,
            "order": null,
            "overflow": null,
            "overflow_x": null,
            "overflow_y": null,
            "padding": null,
            "right": null,
            "top": null,
            "visibility": null,
            "width": null
          }
        },
        "f4bec302841d4045b39dd6501f33e53e": {
          "model_module": "@jupyter-widgets/controls",
          "model_name": "DescriptionStyleModel",
          "model_module_version": "1.5.0",
          "state": {
            "_model_module": "@jupyter-widgets/controls",
            "_model_module_version": "1.5.0",
            "_model_name": "DescriptionStyleModel",
            "_view_count": null,
            "_view_module": "@jupyter-widgets/base",
            "_view_module_version": "1.2.0",
            "_view_name": "StyleView",
            "description_width": ""
          }
        }
      }
    }
  },
  "nbformat": 4,
  "nbformat_minor": 0
}